{
  "cells": [
    {
      "cell_type": "code",
      "execution_count": null,
      "metadata": {
        "colab": {
          "base_uri": "https://localhost:8080/"
        },
        "id": "gdJ3VDRlFP2y",
        "outputId": "adbe123c-b331-411f-e4cc-9b1baa5a60ee"
      },
      "outputs": [
        {
          "output_type": "stream",
          "name": "stdout",
          "text": [
            "Mounted at /content/drive\n"
          ]
        }
      ],
      "source": [
        "from google.colab import drive\n",
        "drive.mount('/content/drive')"
      ],
      "id": "gdJ3VDRlFP2y"
    },
    {
      "cell_type": "code",
      "execution_count": null,
      "metadata": {
        "colab": {
          "base_uri": "https://localhost:8080/"
        },
        "id": "CBxsAUjPMrqA",
        "outputId": "1764a24b-27d7-45c7-ae6c-68d8a24201d4"
      },
      "outputs": [
        {
          "output_type": "stream",
          "name": "stdout",
          "text": [
            "/content\n",
            "/content/drive/MyDrive/Colab_Notebooks/ML Project/notebook\n"
          ]
        }
      ],
      "source": [
        "import os\n",
        "print(os.getcwd())\n",
        "os.chdir('/content/drive/MyDrive/Colab_Notebooks/ML Project/notebook')\n",
        "print(os.getcwd())"
      ],
      "id": "CBxsAUjPMrqA"
    },
    {
      "cell_type": "code",
      "execution_count": null,
      "metadata": {
        "id": "fe12d52c"
      },
      "outputs": [],
      "source": [
        "import os\n",
        "import random\n",
        "import math\n",
        "import shutil\n",
        "import glob\n",
        "import pandas as pd\n",
        "import warnings\n",
        "from keras import backend as K\n",
        "warnings.filterwarnings(\"ignore\")"
      ],
      "id": "fe12d52c"
    },
    {
      "cell_type": "markdown",
      "metadata": {
        "id": "838e0ddc"
      },
      "source": [
        "## 1. Transfer Learning for Image Classification\n"
      ],
      "id": "838e0ddc"
    },
    {
      "cell_type": "markdown",
      "metadata": {
        "id": "5636168d"
      },
      "source": [
        "### Data Exploration and Pre-processing\n"
      ],
      "id": "5636168d"
    },
    {
      "cell_type": "markdown",
      "metadata": {
        "id": "3d9d118f"
      },
      "source": [
        "#### d.i Images in each class are given in separate folders in the folder Sport Images. We have several hundreds of images for five classes of sport activities, namely baseball, basketball, fencing, tennis, and volleyball.\n",
        "\n",
        "#### d.ii Randomly select [0.7ni] images from each folder as your training set, [0.15ni] as validation set, and the rest as your test set, where ni is the number of images in folder i and /x/ is the ceiling of x"
      ],
      "id": "3d9d118f"
    },
    {
      "cell_type": "code",
      "execution_count": null,
      "metadata": {
        "id": "mscN7DOfGImI"
      },
      "outputs": [],
      "source": [
        "# import shutil\n",
        "\n",
        "train_dir = \"../Data/train/\"\n",
        "val_dir = \"../Data/val/\"\n",
        "test_dir = \"../Data/test/\"\n",
        "\n",
        "shutil.rmtree(train_dir)\n",
        "shutil.rmtree(val_dir)\n",
        "shutil.rmtree(test_dir)\n",
        "\n"
      ],
      "id": "mscN7DOfGImI"
    },
    {
      "cell_type": "code",
      "execution_count": null,
      "metadata": {
        "id": "61029413"
      },
      "outputs": [],
      "source": [
        "train_X = list()\n",
        "valid_X = []\n",
        "test_X = []\n",
        "train_Y =[]\n",
        "valid_Y =[]\n",
        "test_Y = []\n",
        "train_classes = []\n",
        "test_classes = []\n",
        "\n",
        "\n",
        "classes= [\"baseball\", \"basketball\", \"fencing\", \"tennis\", \"volleyball\"]"
      ],
      "id": "61029413"
    },
    {
      "cell_type": "code",
      "execution_count": null,
      "metadata": {
        "id": "ee368ca9"
      },
      "outputs": [],
      "source": [
        "for folder in classes:\n",
        "\n",
        "  files = glob.glob('../Data/Sport_Images/'+folder+'/*.jpg')\n",
        "\n",
        "  num_train = math.ceil(0.7*len(files))\n",
        "  temp_train = random.sample(files,k=num_train)\n",
        "  train_X.extend(temp_train)\n",
        "  train_Y.extend([folder.split('.')[-1]]*num_train)\n",
        "  train_classes.extend([folder.split('.')[-1]]*num_train)\n",
        "\n",
        "  num_valid = math.ceil(0.15*len(files))\n",
        "  temp_valid = []\n",
        "  for file in files:\n",
        "    if file not in temp_train:\n",
        "      temp_valid.append(file)\n",
        "  temp_valid = random.sample(temp_valid, k = num_valid)\n",
        "  valid_X.extend(temp_valid)\n",
        "  valid_Y.extend([folder.split('.')[-1]]*num_valid)\n",
        "\n",
        "\n",
        "  temp_test = []\n",
        "  for file in files:\n",
        "    if file not in temp_train:\n",
        "      if file not in temp_valid:\n",
        "        temp_test.append(file)\n",
        "  test_X.extend(temp_test)\n",
        "  test_Y.extend([folder.split('.')[-1]]*len(temp_test))\n",
        "  test_classes.extend([folder.split('.')[-1]]*len(temp_test))\n",
        "\n",
        "\n"
      ],
      "id": "ee368ca9"
    },
    {
      "cell_type": "code",
      "execution_count": null,
      "metadata": {
        "id": "875c0ba3"
      },
      "outputs": [],
      "source": [
        "i=0\n",
        "for file in train_X:\n",
        "       src_path = file\n",
        "       dst_path = os.path.join(train_dir, file.split('/')[-2])\n",
        "       i+=1\n",
        "       #print(i)\n",
        "       os.makedirs(dst_path, exist_ok=True)  # create the folder if it doesn't exist\n",
        "       shutil.copy(src_path, os.path.join(dst_path,file.split('/')[-1]))\n",
        "\n",
        "i=0\n",
        "for file in test_X:\n",
        "       src_path = file\n",
        "       dst_path = test_dir+'/'+file.split('/')[-2]\n",
        "       os.makedirs(dst_path, exist_ok=True)\n",
        "       #print('testing ',i)\n",
        "       i+=1\n",
        "       shutil.copy(src_path, os.path.join(dst_path,file.split('/')[-1]))\n",
        "i=0\n",
        "for file in valid_X:\n",
        "         src_path = file\n",
        "         dst_path = val_dir+'/'+file.split('/')[-2]\n",
        "         os.makedirs(dst_path, exist_ok=True)\n",
        "         #print('validation ',i)\n",
        "         i+=1\n",
        "         shutil.copy(src_path, os.path.join(dst_path,file.split('/')[-1]))"
      ],
      "id": "875c0ba3"
    },
    {
      "cell_type": "code",
      "execution_count": null,
      "metadata": {
        "colab": {
          "base_uri": "https://localhost:8080/"
        },
        "id": "eAcoW6fNBcWQ",
        "outputId": "af6a129b-0439-401b-bf6e-629a4400506f"
      },
      "outputs": [
        {
          "output_type": "stream",
          "name": "stdout",
          "text": [
            "[0 0 0 ... 4 4 4]\n",
            "[0 0 0 0 0 0 0 0 0 0 0 0 0 0 0 0 0 0 0 0 0 0 0 0 0 0 0 0 0 0 0 0 0 0 0 0 0\n",
            " 0 0 0 0 0 0 0 0 0 0 0 0 0 0 0 0 0 0 0 0 0 0 0 0 0 0 0 0 0 0 0 0 0 0 0 0 0\n",
            " 0 0 0 0 0 0 0 0 0 0 0 0 0 0 0 0 0 0 1 1 1 1 1 1 1 1 1 1 1 1 1 1 1 1 1 1 1\n",
            " 1 1 1 1 1 1 1 1 1 1 1 1 1 1 1 1 1 1 1 1 1 1 1 1 1 1 1 1 1 1 1 1 1 1 1 1 1\n",
            " 1 1 1 1 2 2 2 2 2 2 2 2 2 2 2 2 2 2 2 2 2 2 2 2 2 2 2 2 2 2 2 2 2 2 2 2 2\n",
            " 2 2 2 2 2 2 2 2 2 2 2 2 2 2 2 2 2 2 2 2 2 2 2 2 2 2 2 2 2 2 2 2 2 2 2 2 2\n",
            " 2 2 2 2 2 2 2 2 2 2 2 2 2 2 3 3 3 3 3 3 3 3 3 3 3 3 3 3 3 3 3 3 3 3 3 3 3\n",
            " 3 3 3 3 3 3 3 3 3 3 3 3 3 3 3 3 3 3 3 3 3 3 3 3 3 3 3 3 3 3 3 3 3 3 3 3 3\n",
            " 3 3 3 3 3 3 3 3 3 3 3 3 3 3 3 3 3 3 3 3 3 3 3 3 3 3 3 3 3 3 3 3 4 4 4 4 4\n",
            " 4 4 4 4 4 4 4 4 4 4 4 4 4 4 4 4 4 4 4 4 4 4 4 4 4 4 4 4 4 4 4 4 4 4 4 4 4\n",
            " 4 4 4 4 4 4 4 4 4 4 4 4 4 4 4 4 4 4 4 4 4 4 4 4 4 4 4 4 4 4 4 4 4 4 4 4 4\n",
            " 4 4 4 4 4 4 4 4 4 4 4 4 4 4 4 4 4 4]\n",
            "[0 0 0 0 0 0 0 0 0 0 0 0 0 0 0 0 0 0 0 0 0 0 0 0 0 0 0 0 0 0 0 0 0 0 0 0 0\n",
            " 0 0 0 0 0 0 0 0 0 0 0 0 0 0 0 0 0 0 0 0 0 0 0 0 0 0 0 0 0 0 0 0 0 0 0 0 0\n",
            " 0 0 0 0 0 0 0 0 0 0 0 0 0 0 0 0 0 0 0 0 1 1 1 1 1 1 1 1 1 1 1 1 1 1 1 1 1\n",
            " 1 1 1 1 1 1 1 1 1 1 1 1 1 1 1 1 1 1 1 1 1 1 1 1 1 1 1 1 1 1 1 1 1 1 1 1 1\n",
            " 1 1 1 1 1 1 1 1 2 2 2 2 2 2 2 2 2 2 2 2 2 2 2 2 2 2 2 2 2 2 2 2 2 2 2 2 2\n",
            " 2 2 2 2 2 2 2 2 2 2 2 2 2 2 2 2 2 2 2 2 2 2 2 2 2 2 2 2 2 2 2 2 2 2 2 2 2\n",
            " 2 2 2 2 2 2 2 2 2 2 2 2 2 2 2 2 2 2 2 2 3 3 3 3 3 3 3 3 3 3 3 3 3 3 3 3 3\n",
            " 3 3 3 3 3 3 3 3 3 3 3 3 3 3 3 3 3 3 3 3 3 3 3 3 3 3 3 3 3 3 3 3 3 3 3 3 3\n",
            " 3 3 3 3 3 3 3 3 3 3 3 3 3 3 3 3 3 3 3 3 3 3 3 3 3 3 3 3 3 3 3 3 3 3 3 3 3\n",
            " 3 3 4 4 4 4 4 4 4 4 4 4 4 4 4 4 4 4 4 4 4 4 4 4 4 4 4 4 4 4 4 4 4 4 4 4 4\n",
            " 4 4 4 4 4 4 4 4 4 4 4 4 4 4 4 4 4 4 4 4 4 4 4 4 4 4 4 4 4 4 4 4 4 4 4 4 4\n",
            " 4 4 4 4 4 4 4 4 4 4 4 4 4 4 4 4 4 4 4 4 4 4 4 4 4 4]\n"
          ]
        }
      ],
      "source": [
        "from sklearn.preprocessing import LabelEncoder\n",
        "\n",
        "# Initialize the LabelEncoder\n",
        "label_encoder = LabelEncoder()\n",
        "\n",
        "# Fit the LabelEncoder on the training target variable\n",
        "label_encoder.fit(train_Y)\n",
        "\n",
        "# Encode the training target variable with numeric labels\n",
        "train_Y_encoded = label_encoder.transform(train_Y)\n",
        "\n",
        "# Encode the test target variable with numeric labels\n",
        "test_Y_encoded = label_encoder.transform(test_Y)\n",
        "\n",
        "# Encode the validation target variable with numeric labels\n",
        "valid_Y_encoded = label_encoder.transform(valid_Y)\n",
        "\n",
        "print(train_Y_encoded)\n",
        "print(test_Y_encoded)\n",
        "print(valid_Y_encoded)\n"
      ],
      "id": "eAcoW6fNBcWQ"
    },
    {
      "cell_type": "code",
      "execution_count": null,
      "metadata": {
        "colab": {
          "base_uri": "https://localhost:8080/"
        },
        "id": "xPFhaH3vFeWI",
        "outputId": "2e9e8a70-281a-4c36-cef0-c49de9fde52e"
      },
      "outputs": [
        {
          "output_type": "stream",
          "name": "stdout",
          "text": [
            "Training set length is 2008\n",
            "Validation set length is 433\n",
            "Test set length is 425\n"
          ]
        }
      ],
      "source": [
        "train_Y = pd.get_dummies(train_Y).values\n",
        "valid_Y = pd.get_dummies(valid_Y).values\n",
        "test_Y = pd.get_dummies(test_Y).values\n",
        "\n",
        "print('Training set length is',str(len(train_X)))\n",
        "print('Validation set length is',str(len(valid_X)))\n",
        "print('Test set length is',str(len(test_X)))\n",
        "# print(valid_Y)"
      ],
      "id": "xPFhaH3vFeWI"
    },
    {
      "cell_type": "markdown",
      "metadata": {
        "id": "9b62db28"
      },
      "source": [
        "#### d.iii In order for all the images to have the same size, zero-pad or resize the images in your dataset. This can be done using various tools, including OpenCV.\n"
      ],
      "id": "9b62db28"
    },
    {
      "cell_type": "code",
      "execution_count": null,
      "metadata": {
        "colab": {
          "base_uri": "https://localhost:8080/"
        },
        "id": "478bcf76",
        "outputId": "892ecffb-f46a-4c99-de80-fbcadd9ea7b5"
      },
      "outputs": [
        {
          "output_type": "stream",
          "name": "stdout",
          "text": [
            "Starting resizing train data\n",
            "Finished!\n",
            "Size of randomly selected training data image\n",
            "(224, 224, 3)\n",
            "\n",
            "Starting resizing validation data\n",
            "Finished!\n",
            "Size of randomly selected validation data image\n",
            "(224, 224, 3)\n",
            "\n",
            "Starting resizing test data\n",
            "Finished!\n",
            "Size of randomly selected test data image\n",
            "(224, 224, 3)\n",
            "\n"
          ]
        }
      ],
      "source": [
        "import cv2,numpy as np\n",
        "\n",
        "#resizing the images, zero-pad to same size\n",
        "def make_same_size(images):\n",
        "  res = []\n",
        "  for image_file in images:\n",
        "    image = cv2.imread(image_file)\n",
        "    new_img = cv2.resize(image, (224,224), interpolation = cv2.INTER_AREA) #as we are changing only size\n",
        "    res.append(new_img)\n",
        "  return np.array(res)\n",
        "print('Starting resizing train data')\n",
        "\n",
        "train_X = make_same_size(train_X)\n",
        "print('Finished!')\n",
        "print('Size of randomly selected training data image')\n",
        "print(train_X[random.randrange(len(train_X))].shape)\n",
        "print()\n",
        "\n",
        "print('Starting resizing validation data')\n",
        "valid_X = make_same_size(valid_X)\n",
        "print('Finished!')\n",
        "print('Size of randomly selected validation data image')\n",
        "print(valid_X[random.randrange(len(valid_X))].shape)\n",
        "print()\n",
        "\n",
        "print('Starting resizing test data')\n",
        "test_X = make_same_size(test_X)\n",
        "print('Finished!')\n",
        "print('Size of randomly selected test data image')\n",
        "print(test_X[random.randrange(len(test_X))].shape)\n",
        "print()"
      ],
      "id": "478bcf76"
    },
    {
      "cell_type": "markdown",
      "metadata": {
        "id": "fb08937d"
      },
      "source": [
        "### (e) Transfer Learning for Image Classification\n"
      ],
      "id": "fb08937d"
    },
    {
      "cell_type": "code",
      "execution_count": null,
      "metadata": {
        "id": "b789f425"
      },
      "outputs": [],
      "source": [
        "from tensorflow.keras.applications import EfficientNetB0\n",
        "from tensorflow.keras.applications.vgg16 import VGG16\n",
        "from tensorflow.keras.applications.resnet50 import ResNet50\n",
        "from tensorflow.keras import Sequential\n",
        "from tensorflow.keras import layers"
      ],
      "id": "b789f425"
    },
    {
      "cell_type": "markdown",
      "metadata": {
        "id": "c4c12079"
      },
      "source": [
        "#### i. When dealing with classification of relatively small image datasets, deep networks may not perform very well because of not having enough data to train them. In such cases, one usually uses transfer learning, which uses deep learning models that are trained on very large datasets such as ImageNet as feature extractors. The idea is that such deep networks have learned to extract meaningful features from an image using their layers, and those features can be used in learning other tasks. In order to do that, usually the last layer or the last few layers of the pre-trained network are removed, and the response of the layer before the removed layers to the images in the new dataset is used"
      ],
      "id": "c4c12079"
    },
    {
      "cell_type": "code",
      "execution_count": null,
      "metadata": {
        "colab": {
          "base_uri": "https://localhost:8080/"
        },
        "id": "73238d9c",
        "outputId": "b362b4ea-2b19-4149-a342-d32e15a44b22"
      },
      "outputs": [
        {
          "output_type": "stream",
          "name": "stdout",
          "text": [
            "Downloading data from https://storage.googleapis.com/keras-applications/efficientnetb0_notop.h5\n",
            "16705208/16705208 [==============================] - 1s 0us/step\n",
            "Model: \"blunt_b0\"\n",
            "_________________________________________________________________\n",
            " Layer (type)                Output Shape              Param #   \n",
            "=================================================================\n",
            " efficientnetb0 (Functional)  (None, 7, 7, 1280)       4049571   \n",
            "                                                                 \n",
            " global_max_pooling2d (Globa  (None, 1280)             0         \n",
            " lMaxPooling2D)                                                  \n",
            "                                                                 \n",
            " dense (Dense)               (None, 5)                 6405      \n",
            "                                                                 \n",
            "=================================================================\n",
            "Total params: 4,055,976\n",
            "Trainable params: 6,405\n",
            "Non-trainable params: 4,049,571\n",
            "_________________________________________________________________\n",
            "Epoch 1/5\n",
            "63/63 [==============================] - 16s 26ms/step - loss: 1.8930 - accuracy: 0.5807\n",
            "Epoch 2/5\n",
            "63/63 [==============================] - 2s 25ms/step - loss: 0.5929 - accuracy: 0.8292\n",
            "Epoch 3/5\n",
            "63/63 [==============================] - 2s 24ms/step - loss: 0.4049 - accuracy: 0.8680\n",
            "Epoch 4/5\n",
            "63/63 [==============================] - 2s 24ms/step - loss: 0.3027 - accuracy: 0.9024\n",
            "Epoch 5/5\n",
            "63/63 [==============================] - 2s 24ms/step - loss: 0.2438 - accuracy: 0.9163\n",
            "The Model was trained just for 5 epochs to see the result benchmark\n"
          ]
        }
      ],
      "source": [
        "#creating a blunt model of EfficientNetB0 from weights 'imagenet'\n",
        "shape = train_X[random.randrange(len(train_X))].shape\n",
        "b0 = EfficientNetB0(weights = 'imagenet', include_top = False, input_shape = shape)\n",
        "b0.trainable = False\n",
        "model = Sequential(\n",
        "    [\n",
        "        b0,\n",
        "        layers.GlobalMaxPooling2D(),\n",
        "        layers.Dense(5, activation = 'softmax')\n",
        "    ], name = 'blunt_b0'\n",
        ")\n",
        "model.compile(optimizer = 'adam', loss = 'categorical_crossentropy', metrics = ['accuracy'])\n",
        "model.summary()\n",
        "model.fit(train_X, train_Y, epochs = 5)\n",
        "print('The Model was trained just for 5 epochs to see the result benchmark')\n",
        "del model"
      ],
      "id": "73238d9c"
    },
    {
      "cell_type": "code",
      "execution_count": null,
      "metadata": {
        "id": "420bc88a",
        "colab": {
          "base_uri": "https://localhost:8080/"
        },
        "outputId": "5118a9d9-ffe2-4f98-ec8e-c71b4ec71c83"
      },
      "outputs": [
        {
          "output_type": "stream",
          "name": "stdout",
          "text": [
            "Downloading data from https://storage.googleapis.com/tensorflow/keras-applications/vgg16/vgg16_weights_tf_dim_ordering_tf_kernels_notop.h5\n",
            "58889256/58889256 [==============================] - 3s 0us/step\n",
            "Model: \"blunt_vgg\"\n",
            "_________________________________________________________________\n",
            " Layer (type)                Output Shape              Param #   \n",
            "=================================================================\n",
            " vgg16 (Functional)          (None, 7, 7, 512)         14714688  \n",
            "                                                                 \n",
            " global_max_pooling2d_1 (Glo  (None, 512)              0         \n",
            " balMaxPooling2D)                                                \n",
            "                                                                 \n",
            " dense_1 (Dense)             (None, 5)                 2565      \n",
            "                                                                 \n",
            "=================================================================\n",
            "Total params: 14,717,253\n",
            "Trainable params: 2,565\n",
            "Non-trainable params: 14,714,688\n",
            "_________________________________________________________________\n",
            "Epoch 1/5\n",
            "63/63 [==============================] - 6s 55ms/step - loss: 26.0158 - accuracy: 0.4452\n",
            "Epoch 2/5\n",
            "63/63 [==============================] - 2s 39ms/step - loss: 10.4423 - accuracy: 0.6818\n",
            "Epoch 3/5\n",
            "63/63 [==============================] - 2s 39ms/step - loss: 6.1551 - accuracy: 0.7824\n",
            "Epoch 4/5\n",
            "63/63 [==============================] - 2s 39ms/step - loss: 4.3661 - accuracy: 0.8292\n",
            "Epoch 5/5\n",
            "63/63 [==============================] - 2s 39ms/step - loss: 3.4292 - accuracy: 0.8491\n",
            "The model underwent only 5 epochs to evaluate the performance benchmark.\n"
          ]
        }
      ],
      "source": [
        "#creating blunt model of VGG16 from weights 'imagenet'\n",
        "shape = train_X[random.randrange(len(train_X))].shape\n",
        "vgg = VGG16(weights = 'imagenet', include_top = False, input_shape = shape)\n",
        "vgg.trainable = False\n",
        "model = Sequential(\n",
        "    [\n",
        "        vgg,\n",
        "        layers.GlobalMaxPooling2D(),\n",
        "        layers.Dense(5, activation = 'softmax')\n",
        "    ], name = 'blunt_vgg'\n",
        ")\n",
        "model.compile(optimizer = 'adam', loss = 'categorical_crossentropy', metrics = ['accuracy'])\n",
        "model.summary()\n",
        "model.fit(train_X, train_Y, epochs = 5)\n",
        "print('The model underwent only 5 epochs to evaluate the performance benchmark.')\n",
        "del model"
      ],
      "id": "420bc88a"
    },
    {
      "cell_type": "code",
      "execution_count": null,
      "metadata": {
        "id": "e3e57e16",
        "scrolled": false,
        "colab": {
          "base_uri": "https://localhost:8080/"
        },
        "outputId": "ebd233d7-c6a0-4092-f045-ce78e1b0de19"
      },
      "outputs": [
        {
          "output_type": "stream",
          "name": "stdout",
          "text": [
            "Downloading data from https://storage.googleapis.com/tensorflow/keras-applications/resnet/resnet50_weights_tf_dim_ordering_tf_kernels_notop.h5\n",
            "94765736/94765736 [==============================] - 4s 0us/step\n",
            "Model: \"blunt_resnet\"\n",
            "_________________________________________________________________\n",
            " Layer (type)                Output Shape              Param #   \n",
            "=================================================================\n",
            " resnet50 (Functional)       (None, 7, 7, 2048)        23587712  \n",
            "                                                                 \n",
            " global_max_pooling2d_2 (Glo  (None, 2048)             0         \n",
            " balMaxPooling2D)                                                \n",
            "                                                                 \n",
            " dense_2 (Dense)             (None, 5)                 10245     \n",
            "                                                                 \n",
            "=================================================================\n",
            "Total params: 23,597,957\n",
            "Trainable params: 10,245\n",
            "Non-trainable params: 23,587,712\n",
            "_________________________________________________________________\n",
            "Epoch 1/5\n",
            "63/63 [==============================] - 6s 40ms/step - loss: 3.5355 - accuracy: 0.5817\n",
            "Epoch 2/5\n",
            "63/63 [==============================] - 2s 34ms/step - loss: 0.7900 - accuracy: 0.8441\n",
            "Epoch 3/5\n",
            "63/63 [==============================] - 2s 34ms/step - loss: 0.4085 - accuracy: 0.9014\n",
            "Epoch 4/5\n",
            "63/63 [==============================] - 2s 34ms/step - loss: 0.2234 - accuracy: 0.9442\n",
            "Epoch 5/5\n",
            "63/63 [==============================] - 2s 34ms/step - loss: 0.0996 - accuracy: 0.9686\n",
            "The model underwent only 5 epochs just to evaluate the performance benchmark.\n"
          ]
        }
      ],
      "source": [
        "#creating blunt model of ResNet50 from weights 'imagenet'\n",
        "shape = train_X[random.randrange(len(train_X))].shape\n",
        "rn = ResNet50(weights = 'imagenet', include_top = False, input_shape = shape)\n",
        "rn.trainable = False\n",
        "model = Sequential(\n",
        "    [\n",
        "        rn,\n",
        "        layers.GlobalMaxPooling2D(),\n",
        "        layers.Dense(5, activation = 'softmax')\n",
        "    ], name = 'blunt_resnet'\n",
        ")\n",
        "model.compile(optimizer = 'adam', loss = 'categorical_crossentropy', metrics = ['accuracy'])\n",
        "model.summary()\n",
        "model.fit(train_X, train_Y, epochs = 5)\n",
        "print('The model underwent only 5 epochs just to evaluate the performance benchmark.')\n",
        "del model"
      ],
      "id": "e3e57e16"
    },
    {
      "cell_type": "markdown",
      "metadata": {
        "id": "f930e5dc"
      },
      "source": [
        "#### ii. To perform empirical regularization, crop, randomly zoom, rotate, flip, contrast, and translate images in your training set for image augmentation. You can use various tools to do this, including OpenCV."
      ],
      "id": "f930e5dc"
    },
    {
      "cell_type": "code",
      "execution_count": null,
      "metadata": {
        "id": "6788b7e3"
      },
      "outputs": [],
      "source": [
        "from tensorflow.keras.preprocessing.image import ImageDataGenerator\n",
        "\n",
        "# Creating the augmentation process which will be fed as inputs to following models\n",
        "augment_ = Sequential(\n",
        "    [\n",
        "        layers.RandomCrop(height = 300, width = 300),\n",
        "        layers.RandomZoom(height_factor=0.2, width_factor=0.2),\n",
        "        layers.RandomRotation(factor = 0.2),\n",
        "        layers.RandomFlip(),\n",
        "        layers.RandomContrast(factor = 0.15),\n",
        "        layers.RandomTranslation(height_factor=0.2,width_factor=0.2)\n",
        "    ],\n",
        "    name = 'augment'\n",
        ")\n",
        "\n",
        "input = augment_(layers.Input(shape = shape))\n",
        "\n"
      ],
      "id": "6788b7e3"
    },
    {
      "cell_type": "markdown",
      "metadata": {
        "id": "636961b9"
      },
      "source": [
        "**iii. Use ReLU activation functions in the last layer and a softmax layer, along with batch normalization and a dropout rate of 20% as well as ADAM optimizer. Use multinomial cross entropy loss. You can try any batch size, but a batch size of 5 seems reasonable.**"
      ],
      "id": "636961b9"
    },
    {
      "cell_type": "code",
      "execution_count": null,
      "metadata": {
        "id": "5f3159ab",
        "colab": {
          "base_uri": "https://localhost:8080/"
        },
        "outputId": "75dc53e0-70b9-45f9-fba0-e2574711e249"
      },
      "outputs": [
        {
          "output_type": "stream",
          "name": "stdout",
          "text": [
            "Model: \"Efficient_Net_B0\"\n",
            "_________________________________________________________________\n",
            " Layer (type)                Output Shape              Param #   \n",
            "=================================================================\n",
            " efficientnetb0 (Functional)  (None, 10, 10, 1280)     4049571   \n",
            "                                                                 \n",
            " pooling (GlobalAveragePooli  (None, 1280)             0         \n",
            " ng2D)                                                           \n",
            "                                                                 \n",
            " normalization (BatchNormali  (None, 1280)             5120      \n",
            " zation)                                                         \n",
            "                                                                 \n",
            " dropout (Dropout)           (None, 1280)              0         \n",
            "                                                                 \n",
            " relu (Dense)                (None, 5)                 6405      \n",
            "                                                                 \n",
            " softmax (Dense)             (None, 5)                 30        \n",
            "                                                                 \n",
            "=================================================================\n",
            "Total params: 4,061,126\n",
            "Trainable params: 8,995\n",
            "Non-trainable params: 4,052,131\n",
            "_________________________________________________________________\n",
            "Epoch 1/5\n",
            "402/402 [==============================] - 16s 17ms/step - loss: 1.3295 - accuracy: 0.4377\n",
            "Epoch 2/5\n",
            "402/402 [==============================] - 6s 16ms/step - loss: 1.0345 - accuracy: 0.6086\n",
            "Epoch 3/5\n",
            "402/402 [==============================] - 7s 17ms/step - loss: 0.9558 - accuracy: 0.6544\n",
            "Epoch 4/5\n",
            "402/402 [==============================] - 7s 16ms/step - loss: 0.8519 - accuracy: 0.7002\n",
            "Epoch 5/5\n",
            "402/402 [==============================] - 7s 17ms/step - loss: 0.7998 - accuracy: 0.7117\n"
          ]
        }
      ],
      "source": [
        "# For EfficientNetB0\n",
        "dropout_rate = 0.20\n",
        "\n",
        "eff_b0 = EfficientNetB0(weights = 'imagenet', include_top = False, input_tensor = input)\n",
        "eff_b0.trainable = False\n",
        "\n",
        "model = Sequential(\n",
        "    [\n",
        "        eff_b0,\n",
        "        layers.GlobalAveragePooling2D(name = 'pooling'),\n",
        "        layers.BatchNormalization(name = 'normalization'),\n",
        "        layers.Dropout(dropout_rate , name = 'dropout'),\n",
        "        layers.Dense(5, activation = 'relu', name = 'relu'),\n",
        "        layers.Dense(5, activation = 'softmax', name = 'softmax')\n",
        "    ], name = 'Efficient_Net_B0'\n",
        ")\n",
        "\n",
        "model.compile(optimizer = 'adam', loss = 'categorical_crossentropy', metrics = ['accuracy'])\n",
        "model.summary()\n",
        "model.fit(train_X,train_Y, batch_size = 5,epochs = 5)\n",
        "del model"
      ],
      "id": "5f3159ab"
    },
    {
      "cell_type": "code",
      "execution_count": null,
      "metadata": {
        "id": "518a8a5f",
        "colab": {
          "base_uri": "https://localhost:8080/"
        },
        "outputId": "4dc5a56f-4913-4d00-f407-c7d85a505b98"
      },
      "outputs": [
        {
          "output_type": "stream",
          "name": "stdout",
          "text": [
            "Model: \"VGG16_\"\n",
            "_________________________________________________________________\n",
            " Layer (type)                Output Shape              Param #   \n",
            "=================================================================\n",
            " vgg16 (Functional)          (None, 9, 9, 512)         14714688  \n",
            "                                                                 \n",
            " pooling (GlobalAveragePooli  (None, 512)              0         \n",
            " ng2D)                                                           \n",
            "                                                                 \n",
            " normalization (BatchNormali  (None, 512)              2048      \n",
            " zation)                                                         \n",
            "                                                                 \n",
            " dropout (Dropout)           (None, 512)               0         \n",
            "                                                                 \n",
            " relu (Dense)                (None, 5)                 2565      \n",
            "                                                                 \n",
            " softmax (Dense)             (None, 5)                 30        \n",
            "                                                                 \n",
            "=================================================================\n",
            "Total params: 14,719,331\n",
            "Trainable params: 3,619\n",
            "Non-trainable params: 14,715,712\n",
            "_________________________________________________________________\n",
            "Epoch 1/5\n",
            "402/402 [==============================] - 13s 25ms/step - loss: 1.5560 - accuracy: 0.3959\n",
            "Epoch 2/5\n",
            "402/402 [==============================] - 9s 24ms/step - loss: 1.2107 - accuracy: 0.5458\n",
            "Epoch 3/5\n",
            "402/402 [==============================] - 9s 23ms/step - loss: 1.0527 - accuracy: 0.5996\n",
            "Epoch 4/5\n",
            "402/402 [==============================] - 10s 24ms/step - loss: 0.9137 - accuracy: 0.6643\n",
            "Epoch 5/5\n",
            "402/402 [==============================] - 10s 24ms/step - loss: 0.8753 - accuracy: 0.6853\n"
          ]
        }
      ],
      "source": [
        "# For VGG16\n",
        "dropout_rate = 0.20\n",
        "input = augment_(layers.Input(shape = shape))\n",
        "\n",
        "VGG16_ = VGG16(weights = 'imagenet', include_top = False, input_tensor = input)\n",
        "\n",
        "VGG16_.trainable = False\n",
        "\n",
        "model = Sequential(\n",
        "    [\n",
        "        VGG16_,\n",
        "        layers.GlobalAveragePooling2D(name = 'pooling'),\n",
        "        layers.BatchNormalization(name = 'normalization'),\n",
        "        layers.Dropout(dropout_rate , name = 'dropout'),\n",
        "        layers.Dense(5, activation = 'relu', name = 'relu'),\n",
        "        layers.Dense(5, activation = 'softmax', name = 'softmax')\n",
        "    ], name = 'VGG16_'\n",
        ")\n",
        "\n",
        "model.compile(optimizer = 'adam', loss = 'categorical_crossentropy', metrics = ['accuracy'])\n",
        "model.summary()\n",
        "model.fit(train_X, train_Y, batch_size = 5,epochs = 5)\n",
        "del model"
      ],
      "id": "518a8a5f"
    },
    {
      "cell_type": "code",
      "execution_count": null,
      "metadata": {
        "id": "NclN-p6nzTMa",
        "colab": {
          "base_uri": "https://localhost:8080/"
        },
        "outputId": "30086223-5b6c-4c4c-8b54-a3f9beb7da51"
      },
      "outputs": [
        {
          "output_type": "stream",
          "name": "stdout",
          "text": [
            "Model: \"resNet\"\n",
            "_________________________________________________________________\n",
            " Layer (type)                Output Shape              Param #   \n",
            "=================================================================\n",
            " resnet50 (Functional)       (None, 10, 10, 2048)      23587712  \n",
            "                                                                 \n",
            " pooling (GlobalAveragePooli  (None, 2048)             0         \n",
            " ng2D)                                                           \n",
            "                                                                 \n",
            " normalization (BatchNormali  (None, 2048)             8192      \n",
            " zation)                                                         \n",
            "                                                                 \n",
            " dropout (Dropout)           (None, 2048)              0         \n",
            "                                                                 \n",
            " relu (Dense)                (None, 5)                 10245     \n",
            "                                                                 \n",
            " softmax (Dense)             (None, 5)                 30        \n",
            "                                                                 \n",
            "=================================================================\n",
            "Total params: 23,606,179\n",
            "Trainable params: 14,371\n",
            "Non-trainable params: 23,591,808\n",
            "_________________________________________________________________\n",
            "Epoch 1/5\n",
            "402/402 [==============================] - 15s 23ms/step - loss: 1.1475 - accuracy: 0.5632\n",
            "Epoch 2/5\n",
            "402/402 [==============================] - 9s 21ms/step - loss: 0.9082 - accuracy: 0.6569\n",
            "Epoch 3/5\n",
            "402/402 [==============================] - 9s 23ms/step - loss: 0.7753 - accuracy: 0.7291\n",
            "Epoch 4/5\n",
            "402/402 [==============================] - 9s 22ms/step - loss: 0.7401 - accuracy: 0.7540\n",
            "Epoch 5/5\n",
            "402/402 [==============================] - 9s 22ms/step - loss: 0.7265 - accuracy: 0.7445\n"
          ]
        }
      ],
      "source": [
        "# For ResNet50\n",
        "dropout_rate = 0.20\n",
        "\n",
        "resNet = ResNet50(weights = 'imagenet', include_top = False, input_tensor = input)\n",
        "resNet.trainable = False\n",
        "\n",
        "model = Sequential(\n",
        "    [\n",
        "        resNet,\n",
        "        layers.GlobalAveragePooling2D(name = 'pooling'),\n",
        "        layers.BatchNormalization(name = 'normalization'),\n",
        "        layers.Dropout(dropout_rate , name = 'dropout'),\n",
        "        layers.Dense(5, activation = 'relu', name = 'relu'),\n",
        "        layers.Dense(5, activation = 'softmax', name = 'softmax')\n",
        "    ], name = 'resNet'\n",
        ")\n",
        "\n",
        "model.compile(optimizer = 'adam', loss = 'categorical_crossentropy', metrics = ['accuracy'])\n",
        "model.summary()\n",
        "model.fit(train_X, train_Y, batch_size = 5,epochs = 5)\n",
        "del model"
      ],
      "id": "NclN-p6nzTMa"
    },
    {
      "cell_type": "markdown",
      "metadata": {
        "id": "5ol0ORAR0wLO"
      },
      "source": [
        "**iv. Train the networks ResNet50,EfficientNetB0, and VGG16 for at least 50 epochs (preferably 100 epochs) and perform early stopping using the validation set. Keep the network parameters that have the lowest validation error.Plot the training and validation errors vs. epochs.**"
      ],
      "id": "5ol0ORAR0wLO"
    },
    {
      "cell_type": "code",
      "execution_count": null,
      "metadata": {
        "id": "bGKWVtAD0pG_",
        "colab": {
          "base_uri": "https://localhost:8080/"
        },
        "outputId": "52111c2d-9733-4888-ae66-51ce71e9ad7f"
      },
      "outputs": [
        {
          "output_type": "stream",
          "name": "stdout",
          "text": [
            "Model: \"EfficientNetB0\"\n",
            "_________________________________________________________________\n",
            " Layer (type)                Output Shape              Param #   \n",
            "=================================================================\n",
            " efficientnetb0 (Functional)  (None, 10, 10, 1280)     4049571   \n",
            "                                                                 \n",
            " pooling (GlobalAveragePooli  (None, 1280)             0         \n",
            " ng2D)                                                           \n",
            "                                                                 \n",
            " normalization (BatchNormali  (None, 1280)             5120      \n",
            " zation)                                                         \n",
            "                                                                 \n",
            " dropout (Dropout)           (None, 1280)              0         \n",
            "                                                                 \n",
            " relu (Dense)                (None, 5)                 6405      \n",
            "                                                                 \n",
            " softmax (Dense)             (None, 5)                 30        \n",
            "                                                                 \n",
            "=================================================================\n",
            "Total params: 4,061,126\n",
            "Trainable params: 8,995\n",
            "Non-trainable params: 4,052,131\n",
            "_________________________________________________________________\n",
            "Epoch 1/100\n",
            "134/134 [==============================] - 15s 48ms/step - loss: 1.3078 - accuracy: 0.4522 - val_loss: 1.0801 - val_accuracy: 0.6721\n",
            "Epoch 2/100\n",
            "134/134 [==============================] - 4s 32ms/step - loss: 0.9610 - accuracy: 0.6688 - val_loss: 0.6940 - val_accuracy: 0.7667\n",
            "Epoch 3/100\n",
            "134/134 [==============================] - 4s 32ms/step - loss: 0.7814 - accuracy: 0.7475 - val_loss: 0.4926 - val_accuracy: 0.8453\n",
            "Epoch 4/100\n",
            "134/134 [==============================] - 4s 33ms/step - loss: 0.6830 - accuracy: 0.7610 - val_loss: 0.4106 - val_accuracy: 0.8707\n",
            "Epoch 5/100\n",
            "134/134 [==============================] - 4s 32ms/step - loss: 0.6769 - accuracy: 0.7669 - val_loss: 0.3689 - val_accuracy: 0.8730\n",
            "Epoch 6/100\n",
            "134/134 [==============================] - 4s 32ms/step - loss: 0.5854 - accuracy: 0.7933 - val_loss: 0.3142 - val_accuracy: 0.8984\n",
            "Epoch 7/100\n",
            "134/134 [==============================] - 4s 32ms/step - loss: 0.5722 - accuracy: 0.7874 - val_loss: 0.3271 - val_accuracy: 0.9099\n",
            "Epoch 8/100\n",
            "134/134 [==============================] - 4s 32ms/step - loss: 0.5579 - accuracy: 0.8152 - val_loss: 0.2799 - val_accuracy: 0.9215\n",
            "Epoch 9/100\n",
            "134/134 [==============================] - 4s 31ms/step - loss: 0.5347 - accuracy: 0.8123 - val_loss: 0.2983 - val_accuracy: 0.9145\n",
            "Epoch 10/100\n",
            "134/134 [==============================] - 5s 35ms/step - loss: 0.5191 - accuracy: 0.8162 - val_loss: 0.2724 - val_accuracy: 0.9238\n",
            "Epoch 11/100\n",
            "134/134 [==============================] - 4s 33ms/step - loss: 0.5159 - accuracy: 0.8267 - val_loss: 0.2856 - val_accuracy: 0.9099\n",
            "Epoch 12/100\n",
            "134/134 [==============================] - 5s 34ms/step - loss: 0.5254 - accuracy: 0.8142 - val_loss: 0.2651 - val_accuracy: 0.9122\n",
            "Epoch 13/100\n",
            "134/134 [==============================] - 4s 33ms/step - loss: 0.4903 - accuracy: 0.8262 - val_loss: 0.2514 - val_accuracy: 0.9145\n",
            "Epoch 14/100\n",
            "134/134 [==============================] - 4s 32ms/step - loss: 0.5000 - accuracy: 0.8182 - val_loss: 0.2451 - val_accuracy: 0.9145\n",
            "Epoch 15/100\n",
            "134/134 [==============================] - 4s 32ms/step - loss: 0.4797 - accuracy: 0.8362 - val_loss: 0.2413 - val_accuracy: 0.9169\n",
            "Epoch 16/100\n",
            "134/134 [==============================] - 5s 34ms/step - loss: 0.4748 - accuracy: 0.8312 - val_loss: 0.2267 - val_accuracy: 0.9284\n",
            "Epoch 17/100\n",
            "134/134 [==============================] - 4s 31ms/step - loss: 0.4716 - accuracy: 0.8292 - val_loss: 0.2484 - val_accuracy: 0.9192\n",
            "Epoch 18/100\n",
            "134/134 [==============================] - 4s 31ms/step - loss: 0.4739 - accuracy: 0.8352 - val_loss: 0.2397 - val_accuracy: 0.9192\n",
            "Epoch 19/100\n",
            "134/134 [==============================] - 4s 33ms/step - loss: 0.4459 - accuracy: 0.8531 - val_loss: 0.2136 - val_accuracy: 0.9307\n",
            "Epoch 20/100\n",
            "134/134 [==============================] - 4s 31ms/step - loss: 0.4819 - accuracy: 0.8357 - val_loss: 0.2319 - val_accuracy: 0.9307\n",
            "Epoch 21/100\n",
            "134/134 [==============================] - 4s 31ms/step - loss: 0.4363 - accuracy: 0.8441 - val_loss: 0.2461 - val_accuracy: 0.9215\n",
            "Epoch 22/100\n",
            "134/134 [==============================] - 4s 32ms/step - loss: 0.4515 - accuracy: 0.8401 - val_loss: 0.2724 - val_accuracy: 0.9169\n",
            "Epoch 23/100\n",
            "134/134 [==============================] - 4s 32ms/step - loss: 0.4566 - accuracy: 0.8406 - val_loss: 0.2096 - val_accuracy: 0.9376\n",
            "Epoch 24/100\n",
            "134/134 [==============================] - 4s 31ms/step - loss: 0.4440 - accuracy: 0.8376 - val_loss: 0.2201 - val_accuracy: 0.9330\n",
            "Epoch 25/100\n",
            "134/134 [==============================] - 4s 32ms/step - loss: 0.4443 - accuracy: 0.8516 - val_loss: 0.2382 - val_accuracy: 0.9215\n",
            "Epoch 26/100\n",
            "134/134 [==============================] - 4s 32ms/step - loss: 0.4200 - accuracy: 0.8481 - val_loss: 0.2216 - val_accuracy: 0.9376\n",
            "Epoch 27/100\n",
            "134/134 [==============================] - 4s 31ms/step - loss: 0.4399 - accuracy: 0.8426 - val_loss: 0.2131 - val_accuracy: 0.9423\n",
            "Epoch 28/100\n",
            "134/134 [==============================] - 4s 33ms/step - loss: 0.4232 - accuracy: 0.8526 - val_loss: 0.2243 - val_accuracy: 0.9284\n"
          ]
        }
      ],
      "source": [
        "# For EfficientNetB0\n",
        "from tensorflow.keras.callbacks import EarlyStopping\n",
        "\n",
        "b0_100 = EfficientNetB0(weights = 'imagenet', include_top = False, input_tensor = input)\n",
        "b0_100.trainable = False\n",
        "\n",
        "stopping = EarlyStopping(monitor = 'val_loss', mode = 'min',patience = 5, restore_best_weights = True)\n",
        "\n",
        "model_b0 = Sequential(\n",
        "    [\n",
        "        b0_100,\n",
        "        layers.GlobalAveragePooling2D(name = 'pooling'),\n",
        "        layers.BatchNormalization(name = 'normalization'),\n",
        "        layers.Dropout(0.20 , name = 'dropout'),\n",
        "        layers.Dense(5, activation = 'relu', name = 'relu'),\n",
        "        layers.Dense(5, activation = 'softmax', name = 'softmax')\n",
        "    ], name = 'EfficientNetB0'\n",
        ")\n",
        "\n",
        "model_b0.compile(optimizer = 'adam', loss = 'categorical_crossentropy', metrics = ['accuracy'])\n",
        "model_b0.summary()\n",
        "history = model_b0.fit(train_X, train_Y, epochs = 100,batch_size=15, callbacks = [stopping], validation_data = (valid_X,valid_Y))"
      ],
      "id": "bGKWVtAD0pG_"
    },
    {
      "cell_type": "code",
      "execution_count": null,
      "metadata": {
        "id": "q5jiqD7Q9kz7",
        "colab": {
          "base_uri": "https://localhost:8080/",
          "height": 472
        },
        "outputId": "bdced0a1-0dff-4ba8-bfe1-c4b2d7ec55ef"
      },
      "outputs": [
        {
          "output_type": "display_data",
          "data": {
            "text/plain": [
              "<Figure size 640x480 with 1 Axes>"
            ],
            "image/png": "[encoded data removed]"
          },
          "metadata": {}
        }
      ],
      "source": [
        "import matplotlib.pyplot as plt\n",
        "train_accuracy = history.history['accuracy']\n",
        "validation_accuracy = history.history['val_accuracy']\n",
        "train_error = []\n",
        "validation_error = []\n",
        "for i in train_accuracy:\n",
        "  train_error.append(1-i)\n",
        "for i in validation_accuracy:\n",
        "  validation_error.append(1-i)\n",
        "\n",
        "plt.plot(range(1,len(train_accuracy)+1),train_error)\n",
        "plt.plot(range(1,len(train_accuracy)+1),validation_error)\n",
        "plt.title('Train & Validation Error(EfficientNetB0)')\n",
        "plt.xlabel('epoch')\n",
        "plt.ylabel('Error')\n",
        "plt.legend(['Training Error', 'Validation Error'])\n",
        "plt.show()"
      ],
      "id": "q5jiqD7Q9kz7"
    },
    {
      "cell_type": "code",
      "execution_count": null,
      "metadata": {
        "id": "GdBQus69_0Mr",
        "colab": {
          "base_uri": "https://localhost:8080/"
        },
        "outputId": "10476eed-6ff9-408e-9b38-5e5601f5c914"
      },
      "outputs": [
        {
          "output_type": "stream",
          "name": "stdout",
          "text": [
            "63/63 [==============================] - 3s 44ms/step - loss: 0.1641 - accuracy: 0.9422\n",
            "Training error on EfficientNetB0 is [0.16413524746894836, 0.9422310590744019]\n",
            "14/14 [==============================] - 1s 65ms/step - loss: 0.2096 - accuracy: 0.9376\n",
            "Validation error on EfficientNetB0 is [0.20959191024303436, 0.937644362449646]\n",
            "14/14 [==============================] - 1s 61ms/step - loss: 0.2669 - accuracy: 0.9129\n",
            "Testing error on EfficientNetB0 is [0.26688143610954285, 0.9129411578178406]\n"
          ]
        }
      ],
      "source": [
        "#Checking on training data\n",
        "result_b0_tr = model_b0.evaluate(train_X,train_Y)\n",
        "print('Training error on EfficientNetB0 is',result_b0_tr)\n",
        "\n",
        "#Checking on Validation data\n",
        "result_b0_val = model_b0.evaluate(valid_X,valid_Y)\n",
        "print('Validation error on EfficientNetB0 is',result_b0_val)\n",
        "\n",
        "#Checking on testing data\n",
        "result_b0 = model_b0.evaluate(test_X,test_Y)\n",
        "print('Testing error on EfficientNetB0 is',result_b0)"
      ],
      "id": "GdBQus69_0Mr"
    },
    {
      "cell_type": "code",
      "execution_count": null,
      "metadata": {
        "id": "Ezp2ntoitNqc",
        "colab": {
          "base_uri": "https://localhost:8080/"
        },
        "outputId": "2d18e181-5644-4a7a-897f-7e34ff471721"
      },
      "outputs": [
        {
          "output_type": "stream",
          "name": "stdout",
          "text": [
            "Model: \"final_vgg\"\n",
            "_________________________________________________________________\n",
            " Layer (type)                Output Shape              Param #   \n",
            "=================================================================\n",
            " vgg16 (Functional)          (None, 9, 9, 512)         14714688  \n",
            "                                                                 \n",
            " pooling (GlobalAveragePooli  (None, 512)              0         \n",
            " ng2D)                                                           \n",
            "                                                                 \n",
            " normalization (BatchNormali  (None, 512)              2048      \n",
            " zation)                                                         \n",
            "                                                                 \n",
            " dropout (Dropout)           (None, 512)               0         \n",
            "                                                                 \n",
            " relu (Dense)                (None, 5)                 2565      \n",
            "                                                                 \n",
            " softmax (Dense)             (None, 5)                 30        \n",
            "                                                                 \n",
            "=================================================================\n",
            "Total params: 14,719,331\n",
            "Trainable params: 3,619\n",
            "Non-trainable params: 14,715,712\n",
            "_________________________________________________________________\n",
            "Epoch 1/100\n",
            "134/134 [==============================] - 11s 56ms/step - loss: 1.5945 - accuracy: 0.3152 - val_loss: 1.3124 - val_accuracy: 0.4850\n",
            "Epoch 2/100\n",
            "134/134 [==============================] - 7s 53ms/step - loss: 1.2755 - accuracy: 0.5075 - val_loss: 1.0497 - val_accuracy: 0.6120\n",
            "Epoch 3/100\n",
            "134/134 [==============================] - 7s 50ms/step - loss: 1.1024 - accuracy: 0.5817 - val_loss: 0.8466 - val_accuracy: 0.6836\n",
            "Epoch 4/100\n",
            "134/134 [==============================] - 7s 51ms/step - loss: 1.0188 - accuracy: 0.6265 - val_loss: 0.7240 - val_accuracy: 0.7390\n",
            "Epoch 5/100\n",
            "134/134 [==============================] - 7s 50ms/step - loss: 0.9142 - accuracy: 0.6723 - val_loss: 0.6340 - val_accuracy: 0.7945\n",
            "Epoch 6/100\n",
            "134/134 [==============================] - 7s 51ms/step - loss: 0.8636 - accuracy: 0.7136 - val_loss: 0.5645 - val_accuracy: 0.8245\n",
            "Epoch 7/100\n",
            "134/134 [==============================] - 7s 51ms/step - loss: 0.7989 - accuracy: 0.7346 - val_loss: 0.5011 - val_accuracy: 0.8430\n",
            "Epoch 8/100\n",
            "134/134 [==============================] - 7s 51ms/step - loss: 0.7646 - accuracy: 0.7470 - val_loss: 0.4646 - val_accuracy: 0.8545\n",
            "Epoch 9/100\n",
            "134/134 [==============================] - 7s 51ms/step - loss: 0.7537 - accuracy: 0.7475 - val_loss: 0.4124 - val_accuracy: 0.8915\n",
            "Epoch 10/100\n",
            "134/134 [==============================] - 7s 51ms/step - loss: 0.6844 - accuracy: 0.7629 - val_loss: 0.4341 - val_accuracy: 0.8661\n",
            "Epoch 11/100\n",
            "134/134 [==============================] - 7s 53ms/step - loss: 0.6673 - accuracy: 0.7759 - val_loss: 0.3945 - val_accuracy: 0.8961\n",
            "Epoch 12/100\n",
            "134/134 [==============================] - 7s 51ms/step - loss: 0.6404 - accuracy: 0.7774 - val_loss: 0.3637 - val_accuracy: 0.9030\n",
            "Epoch 13/100\n",
            "134/134 [==============================] - 7s 51ms/step - loss: 0.6361 - accuracy: 0.7769 - val_loss: 0.3411 - val_accuracy: 0.8984\n",
            "Epoch 14/100\n",
            "134/134 [==============================] - 7s 51ms/step - loss: 0.6058 - accuracy: 0.7948 - val_loss: 0.3180 - val_accuracy: 0.9169\n",
            "Epoch 15/100\n",
            "134/134 [==============================] - 7s 51ms/step - loss: 0.5962 - accuracy: 0.7923 - val_loss: 0.3084 - val_accuracy: 0.9076\n",
            "Epoch 16/100\n",
            "134/134 [==============================] - 7s 51ms/step - loss: 0.5897 - accuracy: 0.7968 - val_loss: 0.3019 - val_accuracy: 0.9053\n",
            "Epoch 17/100\n",
            "134/134 [==============================] - 7s 51ms/step - loss: 0.5694 - accuracy: 0.7913 - val_loss: 0.2833 - val_accuracy: 0.9076\n",
            "Epoch 18/100\n",
            "134/134 [==============================] - 7s 51ms/step - loss: 0.5794 - accuracy: 0.7923 - val_loss: 0.2895 - val_accuracy: 0.9007\n",
            "Epoch 19/100\n",
            "134/134 [==============================] - 7s 50ms/step - loss: 0.5528 - accuracy: 0.7983 - val_loss: 0.2926 - val_accuracy: 0.9030\n",
            "Epoch 20/100\n",
            "134/134 [==============================] - 7s 51ms/step - loss: 0.5342 - accuracy: 0.8088 - val_loss: 0.2589 - val_accuracy: 0.9076\n",
            "Epoch 21/100\n",
            "134/134 [==============================] - 7s 50ms/step - loss: 0.5635 - accuracy: 0.7953 - val_loss: 0.2521 - val_accuracy: 0.9053\n",
            "Epoch 22/100\n",
            "134/134 [==============================] - 7s 51ms/step - loss: 0.5267 - accuracy: 0.8058 - val_loss: 0.2669 - val_accuracy: 0.9076\n",
            "Epoch 23/100\n",
            "134/134 [==============================] - 7s 50ms/step - loss: 0.5292 - accuracy: 0.8127 - val_loss: 0.2585 - val_accuracy: 0.9145\n",
            "Epoch 24/100\n",
            "134/134 [==============================] - 7s 51ms/step - loss: 0.5528 - accuracy: 0.8063 - val_loss: 0.2746 - val_accuracy: 0.9076\n",
            "Epoch 25/100\n",
            "134/134 [==============================] - 7s 50ms/step - loss: 0.5431 - accuracy: 0.8043 - val_loss: 0.2843 - val_accuracy: 0.9007\n",
            "Epoch 26/100\n",
            "134/134 [==============================] - 7s 51ms/step - loss: 0.5269 - accuracy: 0.8157 - val_loss: 0.2667 - val_accuracy: 0.9053\n"
          ]
        }
      ],
      "source": [
        "# For VGG16\n",
        "import tensorflow as tf\n",
        "\n",
        "last_layer_nodes = 5\n",
        "dropout_rate = 0.20\n",
        "optimizer = 'adam'\n",
        "\n",
        "final_vgg = VGG16(weights = 'imagenet', include_top = False, input_tensor = input)\n",
        "final_vgg.trainable = False\n",
        "\n",
        "\n",
        "stopping = EarlyStopping(monitor = 'val_loss', mode = 'min',patience = 5, restore_best_weights = True)\n",
        "\n",
        "model_vgg = Sequential(\n",
        "    [\n",
        "        final_vgg,\n",
        "        layers.GlobalAveragePooling2D(name = 'pooling'),\n",
        "        layers.BatchNormalization(name = 'normalization'),\n",
        "        layers.Dropout(dropout_rate , name = 'dropout'),\n",
        "        layers.Dense(last_layer_nodes, activation = 'relu', name = 'relu'),\n",
        "        layers.Dense(last_layer_nodes, activation = 'softmax', name = 'softmax')\n",
        "    ], name = 'final_vgg'\n",
        ")\n",
        "\n",
        "model_vgg.compile(optimizer = optimizer, loss = 'categorical_crossentropy', metrics = ['accuracy'])\n",
        "model_vgg.summary()\n",
        "history = model_vgg.fit(train_X, train_Y, epochs = 100, batch_size =15, callbacks = [stopping], validation_data = (valid_X,valid_Y))"
      ],
      "id": "Ezp2ntoitNqc"
    },
    {
      "cell_type": "code",
      "execution_count": null,
      "metadata": {
        "id": "tyNgrX9nz640",
        "colab": {
          "base_uri": "https://localhost:8080/",
          "height": 472
        },
        "outputId": "2b00a6b5-82f2-4669-c6a7-9ce87e7364d3"
      },
      "outputs": [
        {
          "output_type": "display_data",
          "data": {
            "text/plain": [
              "<Figure size 640x480 with 1 Axes>"
            ],
            "image/png": "[encoded data removed]"
          },
          "metadata": {}
        }
      ],
      "source": [
        "train_accuracy = history.history['accuracy']\n",
        "validation_accuracy = history.history['val_accuracy']\n",
        "train_error = []\n",
        "validation_error = []\n",
        "for i in train_accuracy:\n",
        "  train_error.append(1-i)\n",
        "for i in validation_accuracy:\n",
        "  validation_error.append(1-i)\n",
        "\n",
        "plt.plot(range(1,len(train_accuracy)+1),train_error)\n",
        "plt.plot(range(1,len(train_accuracy)+1),validation_error)\n",
        "plt.title('Train & Validation Error(VGG16)')\n",
        "plt.xlabel('epoch')\n",
        "plt.ylabel('Error')\n",
        "plt.legend(['Training Error', 'Validation Error'])\n",
        "plt.show()"
      ],
      "id": "tyNgrX9nz640"
    },
    {
      "cell_type": "code",
      "execution_count": null,
      "metadata": {
        "id": "5N69ZF_a0GYM",
        "colab": {
          "base_uri": "https://localhost:8080/"
        },
        "outputId": "a6e3a8aa-6c74-4f9b-d3c4-5764f6ddba01"
      },
      "outputs": [
        {
          "output_type": "stream",
          "name": "stdout",
          "text": [
            "63/63 [==============================] - 8s 97ms/step - loss: 0.2153 - accuracy: 0.9258\n",
            "Training error on VGG16 is [0.21534337103366852, 0.9257968068122864]\n",
            "14/14 [==============================] - 2s 161ms/step - loss: 0.2521 - accuracy: 0.9053\n",
            "Validation error on VGG16 is [0.25214847922325134, 0.9053117632865906]\n",
            "14/14 [==============================] - 2s 121ms/step - loss: 0.2815 - accuracy: 0.9012\n",
            "Testing error on VGG16 is [0.2814798057079315, 0.9011764526367188]\n"
          ]
        }
      ],
      "source": [
        "#Checking on training data\n",
        "result_model_vgg_tr = model_vgg.evaluate(train_X,train_Y)\n",
        "print('Training error on VGG16 is',result_model_vgg_tr)\n",
        "\n",
        "#Checking on validation data\n",
        "result_model_vgg_val = model_vgg.evaluate(valid_X,valid_Y)\n",
        "print('Validation error on VGG16 is',result_model_vgg_val)\n",
        "\n",
        "#Checking on testing data\n",
        "result_model_vgg_te = model_vgg.evaluate(test_X,test_Y)\n",
        "print('Testing error on VGG16 is',result_model_vgg_te)"
      ],
      "id": "5N69ZF_a0GYM"
    },
    {
      "cell_type": "code",
      "execution_count": null,
      "metadata": {
        "id": "WtcKdZqt58Lz",
        "colab": {
          "base_uri": "https://localhost:8080/"
        },
        "outputId": "51509f5d-9752-447f-eee0-5e7b5b1295bf"
      },
      "outputs": [
        {
          "output_type": "stream",
          "name": "stdout",
          "text": [
            "Model: \"ResNet50\"\n",
            "_________________________________________________________________\n",
            " Layer (type)                Output Shape              Param #   \n",
            "=================================================================\n",
            " resnet50 (Functional)       (None, 10, 10, 2048)      23587712  \n",
            "                                                                 \n",
            " pooling (GlobalAveragePooli  (None, 2048)             0         \n",
            " ng2D)                                                           \n",
            "                                                                 \n",
            " normalization (BatchNormali  (None, 2048)             8192      \n",
            " zation)                                                         \n",
            "                                                                 \n",
            " dropout (Dropout)           (None, 2048)              0         \n",
            "                                                                 \n",
            " relu (Dense)                (None, 5)                 10245     \n",
            "                                                                 \n",
            " softmax (Dense)             (None, 5)                 30        \n",
            "                                                                 \n",
            "=================================================================\n",
            "Total params: 23,606,179\n",
            "Trainable params: 14,371\n",
            "Non-trainable params: 23,591,808\n",
            "_________________________________________________________________\n",
            "Epoch 1/100\n",
            "134/134 [==============================] - 14s 61ms/step - loss: 1.1811 - accuracy: 0.5896 - val_loss: 0.8135 - val_accuracy: 0.7806\n",
            "Epoch 2/100\n",
            "134/134 [==============================] - 6s 47ms/step - loss: 0.8558 - accuracy: 0.7420 - val_loss: 0.6008 - val_accuracy: 0.8614\n",
            "Epoch 3/100\n",
            "134/134 [==============================] - 6s 46ms/step - loss: 0.7671 - accuracy: 0.7625 - val_loss: 0.5079 - val_accuracy: 0.8799\n",
            "Epoch 4/100\n",
            "134/134 [==============================] - 7s 50ms/step - loss: 0.6856 - accuracy: 0.7933 - val_loss: 0.4839 - val_accuracy: 0.8845\n",
            "Epoch 5/100\n",
            "134/134 [==============================] - 6s 46ms/step - loss: 0.6382 - accuracy: 0.7993 - val_loss: 0.4478 - val_accuracy: 0.8938\n",
            "Epoch 6/100\n",
            "134/134 [==============================] - 6s 47ms/step - loss: 0.5987 - accuracy: 0.8137 - val_loss: 0.4059 - val_accuracy: 0.8891\n",
            "Epoch 7/100\n",
            "134/134 [==============================] - 6s 46ms/step - loss: 0.5427 - accuracy: 0.8337 - val_loss: 0.3069 - val_accuracy: 0.9099\n",
            "Epoch 8/100\n",
            "134/134 [==============================] - 7s 49ms/step - loss: 0.4645 - accuracy: 0.8446 - val_loss: 0.2276 - val_accuracy: 0.9284\n",
            "Epoch 9/100\n",
            "134/134 [==============================] - 6s 46ms/step - loss: 0.4595 - accuracy: 0.8411 - val_loss: 0.2267 - val_accuracy: 0.9192\n",
            "Epoch 10/100\n",
            "134/134 [==============================] - 6s 46ms/step - loss: 0.4508 - accuracy: 0.8426 - val_loss: 0.2248 - val_accuracy: 0.9169\n",
            "Epoch 11/100\n",
            "134/134 [==============================] - 6s 46ms/step - loss: 0.4151 - accuracy: 0.8581 - val_loss: 0.2298 - val_accuracy: 0.9284\n",
            "Epoch 12/100\n",
            "134/134 [==============================] - 6s 46ms/step - loss: 0.4245 - accuracy: 0.8586 - val_loss: 0.2051 - val_accuracy: 0.9261\n",
            "Epoch 13/100\n",
            "134/134 [==============================] - 6s 47ms/step - loss: 0.4104 - accuracy: 0.8546 - val_loss: 0.1853 - val_accuracy: 0.9469\n",
            "Epoch 14/100\n",
            "134/134 [==============================] - 6s 46ms/step - loss: 0.3926 - accuracy: 0.8611 - val_loss: 0.1828 - val_accuracy: 0.9376\n",
            "Epoch 15/100\n",
            "134/134 [==============================] - 6s 47ms/step - loss: 0.4046 - accuracy: 0.8655 - val_loss: 0.1758 - val_accuracy: 0.9330\n",
            "Epoch 16/100\n",
            "134/134 [==============================] - 6s 47ms/step - loss: 0.3670 - accuracy: 0.8690 - val_loss: 0.1654 - val_accuracy: 0.9492\n",
            "Epoch 17/100\n",
            "134/134 [==============================] - 6s 48ms/step - loss: 0.3834 - accuracy: 0.8690 - val_loss: 0.1648 - val_accuracy: 0.9400\n",
            "Epoch 18/100\n",
            "134/134 [==============================] - 6s 46ms/step - loss: 0.3586 - accuracy: 0.8750 - val_loss: 0.1860 - val_accuracy: 0.9492\n",
            "Epoch 19/100\n",
            "134/134 [==============================] - 6s 47ms/step - loss: 0.3631 - accuracy: 0.8740 - val_loss: 0.1605 - val_accuracy: 0.9469\n",
            "Epoch 20/100\n",
            "134/134 [==============================] - 6s 46ms/step - loss: 0.3613 - accuracy: 0.8785 - val_loss: 0.1574 - val_accuracy: 0.9515\n",
            "Epoch 21/100\n",
            "134/134 [==============================] - 7s 50ms/step - loss: 0.3613 - accuracy: 0.8770 - val_loss: 0.1531 - val_accuracy: 0.9469\n",
            "Epoch 22/100\n",
            "134/134 [==============================] - 6s 45ms/step - loss: 0.3399 - accuracy: 0.8860 - val_loss: 0.1553 - val_accuracy: 0.9446\n",
            "Epoch 23/100\n",
            "134/134 [==============================] - 6s 46ms/step - loss: 0.3559 - accuracy: 0.8775 - val_loss: 0.1677 - val_accuracy: 0.9446\n",
            "Epoch 24/100\n",
            "134/134 [==============================] - 6s 46ms/step - loss: 0.3379 - accuracy: 0.8770 - val_loss: 0.1539 - val_accuracy: 0.9492\n",
            "Epoch 25/100\n",
            "134/134 [==============================] - 6s 45ms/step - loss: 0.3462 - accuracy: 0.8745 - val_loss: 0.1688 - val_accuracy: 0.9353\n",
            "Epoch 26/100\n",
            "134/134 [==============================] - 6s 47ms/step - loss: 0.3454 - accuracy: 0.8705 - val_loss: 0.1512 - val_accuracy: 0.9538\n",
            "Epoch 27/100\n",
            "134/134 [==============================] - 6s 46ms/step - loss: 0.3248 - accuracy: 0.8860 - val_loss: 0.1452 - val_accuracy: 0.9561\n",
            "Epoch 28/100\n",
            "134/134 [==============================] - 6s 46ms/step - loss: 0.3307 - accuracy: 0.8790 - val_loss: 0.1497 - val_accuracy: 0.9515\n",
            "Epoch 29/100\n",
            "134/134 [==============================] - 6s 45ms/step - loss: 0.3295 - accuracy: 0.8845 - val_loss: 0.1624 - val_accuracy: 0.9492\n",
            "Epoch 30/100\n",
            "134/134 [==============================] - 6s 46ms/step - loss: 0.3407 - accuracy: 0.8775 - val_loss: 0.1471 - val_accuracy: 0.9492\n",
            "Epoch 31/100\n",
            "134/134 [==============================] - 6s 45ms/step - loss: 0.3433 - accuracy: 0.8745 - val_loss: 0.1783 - val_accuracy: 0.9423\n",
            "Epoch 32/100\n",
            "134/134 [==============================] - 6s 47ms/step - loss: 0.3279 - accuracy: 0.8820 - val_loss: 0.1616 - val_accuracy: 0.9423\n"
          ]
        }
      ],
      "source": [
        "# For ResNet50\n",
        "\n",
        "ResNet50_100 = ResNet50(weights = 'imagenet', include_top = False, input_tensor = input)\n",
        "ResNet50_100.trainable = False\n",
        "\n",
        "\n",
        "stopping = EarlyStopping(monitor = 'val_loss', mode = 'min',patience = 5, restore_best_weights = True)\n",
        "\n",
        "model_ResNet50 = Sequential(\n",
        "    [\n",
        "        ResNet50_100,\n",
        "        layers.GlobalAveragePooling2D(name = 'pooling'),\n",
        "        layers.BatchNormalization(name = 'normalization'),\n",
        "        layers.Dropout(0.20 , name = 'dropout'),\n",
        "        layers.Dense(5, activation = 'relu', name = 'relu'),\n",
        "        layers.Dense(5, activation = 'softmax', name = 'softmax')\n",
        "    ], name = 'ResNet50'\n",
        ")\n",
        "\n",
        "model_ResNet50.compile(optimizer = 'adam', loss = 'categorical_crossentropy', metrics = ['accuracy'])\n",
        "model_ResNet50.summary()\n",
        "history = model_ResNet50.fit(train_X, train_Y, epochs = 100,batch_size=15, callbacks = [stopping], validation_data = (valid_X,valid_Y))"
      ],
      "id": "WtcKdZqt58Lz"
    },
    {
      "cell_type": "code",
      "execution_count": null,
      "metadata": {
        "id": "WGTNcyPPAbIF",
        "colab": {
          "base_uri": "https://localhost:8080/",
          "height": 472
        },
        "outputId": "d708bd24-0aa5-4227-a58d-c85256814dad"
      },
      "outputs": [
        {
          "output_type": "display_data",
          "data": {
            "text/plain": [
              "<Figure size 640x480 with 1 Axes>"
            ],
            "image/png": "[encoded data removed]"
          },
          "metadata": {}
        }
      ],
      "source": [
        "train_accuracy = history.history['accuracy']\n",
        "validation_accuracy = history.history['val_accuracy']\n",
        "train_error = []\n",
        "validation_error = []\n",
        "for i in train_accuracy:\n",
        "  train_error.append(1-i)\n",
        "for i in validation_accuracy:\n",
        "  validation_error.append(1-i)\n",
        "\n",
        "plt.plot(range(1,len(train_accuracy)+1),train_error)\n",
        "plt.plot(range(1,len(train_accuracy)+1),validation_error)\n",
        "plt.title('Train & Validation Error(ResNet50)')\n",
        "plt.xlabel('epoch')\n",
        "plt.ylabel('Error')\n",
        "plt.legend(['Training Error', 'Validation Error'])\n",
        "plt.show()"
      ],
      "id": "WGTNcyPPAbIF"
    },
    {
      "cell_type": "code",
      "execution_count": null,
      "metadata": {
        "id": "cnpXhEBsCjVn",
        "colab": {
          "base_uri": "https://localhost:8080/"
        },
        "outputId": "548f993a-db29-4d6d-9398-c3d2dcb905cf"
      },
      "outputs": [
        {
          "output_type": "stream",
          "name": "stdout",
          "text": [
            "63/63 [==============================] - 5s 63ms/step - loss: 0.0988 - accuracy: 0.9686\n",
            "Training error on EfficientNetB0 is [0.09875788539648056, 0.9686254858970642]\n",
            "14/14 [==============================] - 1s 85ms/step - loss: 0.1452 - accuracy: 0.9561\n",
            "Validation error on EfficientNetB0 is [0.14517946541309357, 0.9561200737953186]\n",
            "14/14 [==============================] - 1s 76ms/step - loss: 0.1848 - accuracy: 0.9412\n",
            "Testing error on EfficientNetB0 is [0.1848297268152237, 0.9411764740943909]\n"
          ]
        }
      ],
      "source": [
        "#Checking on training data\n",
        "result_ResNet_tr = model_ResNet50.evaluate(train_X,train_Y)\n",
        "print('Training error on EfficientNetB0 is',result_ResNet_tr)\n",
        "\n",
        "#Checking on validation data\n",
        "result_ResNet_val = model_ResNet50.evaluate(valid_X,valid_Y)\n",
        "print('Validation error on EfficientNetB0 is',result_ResNet_val)\n",
        "\n",
        "#Checking on testing data\n",
        "result_ResNet_te = model_ResNet50.evaluate(test_X,test_Y)\n",
        "print('Testing error on EfficientNetB0 is',result_ResNet_te)"
      ],
      "id": "cnpXhEBsCjVn"
    },
    {
      "cell_type": "markdown",
      "metadata": {
        "id": "ebQwA-dH06rj"
      },
      "source": [
        "#### **v. Report the Confusion Matrix, Precision, Recall, Accuracy, and F1 score for your model on both training and test sets. Remember that this is a multi-class classification problem.**"
      ],
      "id": "ebQwA-dH06rj"
    },
    {
      "cell_type": "markdown",
      "metadata": {
        "id": "hVFe8FLwFdLS"
      },
      "source": [
        "##### **EfficientNetB0**"
      ],
      "id": "hVFe8FLwFdLS"
    },
    {
      "cell_type": "code",
      "execution_count": null,
      "metadata": {
        "id": "YN4sjNQF1BtF",
        "colab": {
          "base_uri": "https://localhost:8080/"
        },
        "outputId": "12339630-66dc-48f2-d2b1-66539a6efed3"
      },
      "outputs": [
        {
          "output_type": "stream",
          "name": "stdout",
          "text": [
            "14/14 [==============================] - 2s 33ms/step\n",
            "63/63 [==============================] - 2s 34ms/step\n"
          ]
        }
      ],
      "source": [
        "test_predictions = model_b0.predict(test_X)\n",
        "train_predictions = model_b0.predict(train_X)"
      ],
      "id": "YN4sjNQF1BtF"
    },
    {
      "cell_type": "code",
      "execution_count": null,
      "metadata": {
        "id": "80-j1mZE1MWF"
      },
      "outputs": [],
      "source": [
        "table = []\n",
        "table.append(['Model Type','Test Precision', 'Test Recall', 'Test F1', 'Training Precision', 'Training Recall', 'Training F1'])"
      ],
      "id": "80-j1mZE1MWF"
    },
    {
      "cell_type": "code",
      "execution_count": null,
      "metadata": {
        "id": "3Fucrcd81PSJ"
      },
      "outputs": [],
      "source": [
        "#Calculating Train, Test precision, recall and F1 for EfficientNetB0\n",
        "from sklearn.metrics import accuracy_score, precision_score, recall_score, f1_score\n",
        "\n",
        "values = []\n",
        "test = test_predictions.argmax(axis=-1)\n",
        "train = train_predictions.argmax(axis=-1)\n",
        "classes_test = pd.Categorical(test_classes).codes\n",
        "classes_train = pd.Categorical(train_classes).codes\n",
        "values.append('EfficientNetB0')\n",
        "values.append(precision_score(classes_test, test, average='macro'))\n",
        "values.append(recall_score(classes_test, test, average='macro'))\n",
        "values.append(f1_score(classes_test, test, average='macro'))\n",
        "values.append(precision_score(classes_train, train, average='macro'))\n",
        "values.append(recall_score(classes_train, train, average='macro'))\n",
        "values.append(f1_score(classes_train, train, average='macro'))\n",
        "table.append(values)\n"
      ],
      "id": "3Fucrcd81PSJ"
    },
    {
      "cell_type": "code",
      "execution_count": null,
      "metadata": {
        "id": "9h4bAYLHDcsy",
        "colab": {
          "base_uri": "https://localhost:8080/",
          "height": 518
        },
        "outputId": "8a99e5f2-880a-4109-d0f2-0f453c157249"
      },
      "outputs": [
        {
          "output_type": "display_data",
          "data": {
            "text/plain": [
              "<Figure size 640x480 with 2 Axes>"
            ],
            "image/png": "[encoded data removed]"
          },
          "metadata": {}
        }
      ],
      "source": [
        "from sklearn.metrics import confusion_matrix, ConfusionMatrixDisplay\n",
        "import matplotlib.pyplot as plt\n",
        "\n",
        "# classes= [\"baseball\", \"basketball\", \"fencing\", \"tennis\", \"volleyball\"]\n",
        "cm = confusion_matrix(classes_test, test)\n",
        "cm_display = ConfusionMatrixDisplay(cm)\n",
        "cm_display.plot()\n",
        "plt.title('Test Confusion Matrix for EfficientNetB0 model')\n",
        "tick_marks = np.arange(len(classes))\n",
        "plt.xticks(tick_marks, classes, rotation=45)\n",
        "plt.yticks(tick_marks, classes)\n",
        "plt.show()"
      ],
      "id": "9h4bAYLHDcsy"
    },
    {
      "cell_type": "code",
      "execution_count": null,
      "metadata": {
        "id": "ygLdmR5gFnrM",
        "colab": {
          "base_uri": "https://localhost:8080/",
          "height": 518
        },
        "outputId": "4845a7ea-6ee9-4d79-a613-091ecd214e47"
      },
      "outputs": [
        {
          "output_type": "display_data",
          "data": {
            "text/plain": [
              "<Figure size 640x480 with 2 Axes>"
            ],
            "image/png": "[encoded data removed]"
          },
          "metadata": {}
        }
      ],
      "source": [
        "from sklearn.metrics import confusion_matrix, ConfusionMatrixDisplay\n",
        "import matplotlib.pyplot as plt\n",
        "\n",
        "cm = confusion_matrix(classes_train, train)\n",
        "cm_display = ConfusionMatrixDisplay(cm)\n",
        "cm_display.plot()\n",
        "plt.title('Train Confusion Matrix for EfficientNetB0 model')\n",
        "tick_marks = np.arange(len(classes))\n",
        "plt.xticks(tick_marks, classes, rotation=45)\n",
        "plt.yticks(tick_marks, classes)\n",
        "\n",
        "plt.show()"
      ],
      "id": "ygLdmR5gFnrM"
    },
    {
      "cell_type": "markdown",
      "metadata": {
        "id": "KvSfU-PYF3QJ"
      },
      "source": [
        "##### **VGG**"
      ],
      "id": "KvSfU-PYF3QJ"
    },
    {
      "cell_type": "code",
      "execution_count": null,
      "metadata": {
        "id": "HSecJ2kV1TEp",
        "colab": {
          "base_uri": "https://localhost:8080/"
        },
        "outputId": "b7e6c461-02b5-40b1-9b45-851d3db25217"
      },
      "outputs": [
        {
          "output_type": "stream",
          "name": "stdout",
          "text": [
            "14/14 [==============================] - 1s 68ms/step\n",
            "63/63 [==============================] - 4s 68ms/step\n"
          ]
        }
      ],
      "source": [
        "#Test and Train predictions on VGG16 model\n",
        "test_predictions = model_vgg.predict(test_X)\n",
        "train_predictions = model_vgg.predict(train_X)"
      ],
      "id": "HSecJ2kV1TEp"
    },
    {
      "cell_type": "code",
      "execution_count": null,
      "metadata": {
        "id": "QkQutK1b1VZ3"
      },
      "outputs": [],
      "source": [
        "#Calculating Train, Test precision, recall and F1 for VGG16\n",
        "\n",
        "values = []\n",
        "test = test_predictions.argmax(axis=-1)\n",
        "train = train_predictions.argmax(axis=-1)\n",
        "classes_test = pd.Categorical(test_classes).codes\n",
        "classes_train = pd.Categorical(train_classes).codes\n",
        "values.append('VGG16')\n",
        "values.append(precision_score(classes_test, test, average='macro'))\n",
        "values.append(recall_score(classes_test, test, average='macro'))\n",
        "values.append(f1_score(classes_test, test, average='macro'))\n",
        "values.append(precision_score(classes_train, train, average='macro'))\n",
        "values.append(recall_score(classes_train, train, average='macro'))\n",
        "values.append(f1_score(classes_train, train, average='macro'))\n",
        "table.append(values)"
      ],
      "id": "QkQutK1b1VZ3"
    },
    {
      "cell_type": "code",
      "execution_count": null,
      "metadata": {
        "id": "P99QR77SF7JV",
        "colab": {
          "base_uri": "https://localhost:8080/",
          "height": 518
        },
        "outputId": "937d35f4-6502-4db6-ddab-90c2fa0cec72"
      },
      "outputs": [
        {
          "output_type": "display_data",
          "data": {
            "text/plain": [
              "<Figure size 640x480 with 2 Axes>"
            ],
            "image/png": "[encoded data removed]"
          },
          "metadata": {}
        }
      ],
      "source": [
        "from sklearn.metrics import confusion_matrix, ConfusionMatrixDisplay\n",
        "import matplotlib.pyplot as plt\n",
        "\n",
        "# classes= [\"baseball\", \"basketball\", \"fencing\", \"tennis\", \"volleyball\"]\n",
        "cm = confusion_matrix(classes_test, test)\n",
        "cm_display = ConfusionMatrixDisplay(cm)\n",
        "cm_display.plot()\n",
        "plt.title('Test Confusion Matrix for VGG16 model')\n",
        "tick_marks = np.arange(len(classes))\n",
        "plt.xticks(tick_marks, classes, rotation=45)\n",
        "plt.yticks(tick_marks, classes)\n",
        "plt.show()"
      ],
      "id": "P99QR77SF7JV"
    },
    {
      "cell_type": "code",
      "execution_count": null,
      "metadata": {
        "id": "-MpcpDH3F8OX",
        "colab": {
          "base_uri": "https://localhost:8080/",
          "height": 518
        },
        "outputId": "69be59b1-4a66-4f6f-e334-e7f52a7f1e37"
      },
      "outputs": [
        {
          "output_type": "display_data",
          "data": {
            "text/plain": [
              "<Figure size 640x480 with 2 Axes>"
            ],
            "image/png": "[encoded data removed]"
          },
          "metadata": {}
        }
      ],
      "source": [
        "from sklearn.metrics import confusion_matrix, ConfusionMatrixDisplay\n",
        "import matplotlib.pyplot as plt\n",
        "\n",
        "# classes= [\"baseball\", \"basketball\", \"fencing\", \"tennis\", \"volleyball\"]\n",
        "cm = confusion_matrix(classes_train, train)\n",
        "cm_display = ConfusionMatrixDisplay(cm)\n",
        "cm_display.plot()\n",
        "plt.title('Train  Confusion Matrix for VGG16 model')\n",
        "tick_marks = np.arange(len(classes))\n",
        "plt.xticks(tick_marks, classes, rotation=45)\n",
        "plt.yticks(tick_marks, classes)\n",
        "plt.show()"
      ],
      "id": "-MpcpDH3F8OX"
    },
    {
      "cell_type": "markdown",
      "metadata": {
        "id": "_rdTRPAxGWQD"
      },
      "source": [
        "##### **ResNet50**"
      ],
      "id": "_rdTRPAxGWQD"
    },
    {
      "cell_type": "code",
      "execution_count": null,
      "metadata": {
        "id": "-_InRfkl2JdD",
        "colab": {
          "base_uri": "https://localhost:8080/"
        },
        "outputId": "80ec5051-af2b-4652-c1be-23f347d603f5"
      },
      "outputs": [
        {
          "output_type": "stream",
          "name": "stdout",
          "text": [
            "14/14 [==============================] - 2s 50ms/step\n",
            "63/63 [==============================] - 3s 51ms/step\n"
          ]
        }
      ],
      "source": [
        "#Test and Train predictions on ResNet50 model\n",
        "test_predictions = model_ResNet50.predict(test_X)\n",
        "train_predictions = model_ResNet50.predict(train_X)"
      ],
      "id": "-_InRfkl2JdD"
    },
    {
      "cell_type": "code",
      "execution_count": null,
      "metadata": {
        "id": "M_lQlEsB2e0-"
      },
      "outputs": [],
      "source": [
        "#Calculating Train, Test precision, recall and F1 for ResNet50\n",
        "\n",
        "values = []\n",
        "test = test_predictions.argmax(axis=-1)\n",
        "train = train_predictions.argmax(axis=-1)\n",
        "classes_test = pd.Categorical(test_classes).codes\n",
        "classes_train = pd.Categorical(train_classes).codes\n",
        "values.append('ResNet50')\n",
        "values.append(precision_score(classes_test, test, average='macro'))\n",
        "values.append(recall_score(classes_test, test, average='macro'))\n",
        "values.append(f1_score(classes_test, test, average='macro'))\n",
        "values.append(precision_score(classes_train, train, average='macro'))\n",
        "values.append(recall_score(classes_train, train, average='macro'))\n",
        "values.append(f1_score(classes_train, train, average='macro'))\n",
        "table.append(values)"
      ],
      "id": "M_lQlEsB2e0-"
    },
    {
      "cell_type": "code",
      "execution_count": null,
      "metadata": {
        "id": "8QMF1gNBGbY8",
        "colab": {
          "base_uri": "https://localhost:8080/",
          "height": 518
        },
        "outputId": "45623d48-a0fa-4928-8807-b0727d47e6d2"
      },
      "outputs": [
        {
          "output_type": "display_data",
          "data": {
            "text/plain": [
              "<Figure size 640x480 with 2 Axes>"
            ],
            "image/png": "[encoded data removed]"
          },
          "metadata": {}
        }
      ],
      "source": [
        "from sklearn.metrics import confusion_matrix, ConfusionMatrixDisplay\n",
        "import matplotlib.pyplot as plt\n",
        "\n",
        "# classes= [\"baseball\", \"basketball\", \"fencing\", \"tennis\", \"volleyball\"]\n",
        "cm = confusion_matrix(classes_test, test)\n",
        "cm_display = ConfusionMatrixDisplay(cm)\n",
        "cm_display.plot()\n",
        "plt.title('Test Confusion Matrix for ResNet50 model')\n",
        "tick_marks = np.arange(len(classes))\n",
        "plt.xticks(tick_marks, classes, rotation=45)\n",
        "plt.yticks(tick_marks, classes)\n",
        "plt.show()"
      ],
      "id": "8QMF1gNBGbY8"
    },
    {
      "cell_type": "code",
      "execution_count": null,
      "metadata": {
        "id": "Z6QfTj84GcDI",
        "colab": {
          "base_uri": "https://localhost:8080/",
          "height": 518
        },
        "outputId": "3a4c7eab-bac8-44e8-e042-56fd80397658"
      },
      "outputs": [
        {
          "output_type": "display_data",
          "data": {
            "text/plain": [
              "<Figure size 640x480 with 2 Axes>"
            ],
            "image/png": "[encoded data removed]"
          },
          "metadata": {}
        }
      ],
      "source": [
        "from sklearn.metrics import confusion_matrix, ConfusionMatrixDisplay\n",
        "import matplotlib.pyplot as plt\n",
        "\n",
        "cm = confusion_matrix(classes_train, train)\n",
        "cm_display = ConfusionMatrixDisplay(cm)\n",
        "cm_display.plot()\n",
        "plt.title('Train Confusion Matrix for ResNet50 model')\n",
        "tick_marks = np.arange(len(classes))\n",
        "plt.xticks(tick_marks, classes, rotation=45)\n",
        "plt.yticks(tick_marks, classes)\n",
        "plt.show()"
      ],
      "id": "Z6QfTj84GcDI"
    },
    {
      "cell_type": "code",
      "execution_count": null,
      "metadata": {
        "id": "zs5Hz_n32rw9",
        "colab": {
          "base_uri": "https://localhost:8080/"
        },
        "outputId": "6b353151-f04a-45e8-f43f-c953a14d88af"
      },
      "outputs": [
        {
          "output_type": "stream",
          "name": "stdout",
          "text": [
            "Consolidated result\n",
            "\n",
            "\n",
            "╒════════════════╤══════════════════╤═══════════════╤═══════════╤══════════════════════╤═══════════════════╤═══════════════╕\n",
            "│ Model Type     │   Test Precision │   Test Recall │   Test F1 │   Training Precision │   Training Recall │   Training F1 │\n",
            "╞════════════════╪══════════════════╪═══════════════╪═══════════╪══════════════════════╪═══════════════════╪═══════════════╡\n",
            "│ EfficientNetB0 │         0.918146 │      0.909406 │  0.91182  │             0.945889 │          0.940817 │      0.942718 │\n",
            "├────────────────┼──────────────────┼───────────────┼───────────┼──────────────────────┼───────────────────┼───────────────┤\n",
            "│ VGG16          │         0.899225 │      0.901505 │  0.899543 │             0.925689 │          0.926944 │      0.926171 │\n",
            "├────────────────┼──────────────────┼───────────────┼───────────┼──────────────────────┼───────────────────┼───────────────┤\n",
            "│ ResNet50       │         0.944078 │      0.938109 │  0.940589 │             0.969039 │          0.968415 │      0.96864  │\n",
            "╘════════════════╧══════════════════╧═══════════════╧═══════════╧══════════════════════╧═══════════════════╧═══════════════╛\n"
          ]
        }
      ],
      "source": [
        "from tabulate import tabulate\n",
        "\n",
        "#Consolidated result\n",
        "print('Consolidated result\\n\\n')\n",
        "print(tabulate(table, headers='firstrow', tablefmt='fancy_grid'))"
      ],
      "id": "zs5Hz_n32rw9"
    },
    {
      "cell_type": "markdown",
      "metadata": {
        "id": "sDn3Y17Vt0HN"
      },
      "source": [
        "###  **f. Video Classification Using Moving Averages**\n"
      ],
      "id": "sDn3Y17Vt0HN"
    },
    {
      "cell_type": "markdown",
      "metadata": {
        "id": "9oB26Mv0uHOr"
      },
      "source": [
        "#### **i. In order to have a better deep learner, reuse the validation and test data and train the network, without seriously overfitting it. In the lectures, we saw how this can be done.**"
      ],
      "id": "9oB26Mv0uHOr"
    },
    {
      "cell_type": "code",
      "execution_count": null,
      "metadata": {
        "id": "070uqOYzDzy5",
        "colab": {
          "base_uri": "https://localhost:8080/"
        },
        "outputId": "22c7ab58-49bd-489a-bbf5-fca97e912431"
      },
      "outputs": [
        {
          "output_type": "stream",
          "name": "stdout",
          "text": [
            "Epoch 1/100\n",
            "192/192 [==============================] - 9s 46ms/step - loss: 0.3803 - accuracy: 0.8719 - val_loss: 0.1068 - val_accuracy: 0.9630\n",
            "Epoch 2/100\n",
            "192/192 [==============================] - 8s 44ms/step - loss: 0.3693 - accuracy: 0.8730 - val_loss: 0.0971 - val_accuracy: 0.9654\n",
            "Epoch 3/100\n",
            "192/192 [==============================] - 8s 44ms/step - loss: 0.3621 - accuracy: 0.8733 - val_loss: 0.0929 - val_accuracy: 0.9723\n",
            "Epoch 4/100\n",
            "192/192 [==============================] - 8s 43ms/step - loss: 0.3744 - accuracy: 0.8692 - val_loss: 0.0948 - val_accuracy: 0.9723\n",
            "Epoch 5/100\n",
            "192/192 [==============================] - 8s 44ms/step - loss: 0.3346 - accuracy: 0.8824 - val_loss: 0.0885 - val_accuracy: 0.9654\n",
            "Epoch 6/100\n",
            "192/192 [==============================] - 8s 43ms/step - loss: 0.3507 - accuracy: 0.8845 - val_loss: 0.0989 - val_accuracy: 0.9677\n",
            "Epoch 7/100\n",
            "192/192 [==============================] - 8s 44ms/step - loss: 0.3647 - accuracy: 0.8716 - val_loss: 0.0865 - val_accuracy: 0.9746\n",
            "Epoch 8/100\n",
            "192/192 [==============================] - 8s 44ms/step - loss: 0.3244 - accuracy: 0.8849 - val_loss: 0.0822 - val_accuracy: 0.9700\n",
            "Epoch 9/100\n",
            "192/192 [==============================] - 8s 43ms/step - loss: 0.3537 - accuracy: 0.8737 - val_loss: 0.0847 - val_accuracy: 0.9677\n",
            "Epoch 10/100\n",
            "192/192 [==============================] - 8s 44ms/step - loss: 0.3402 - accuracy: 0.8814 - val_loss: 0.0763 - val_accuracy: 0.9723\n",
            "Epoch 11/100\n",
            "192/192 [==============================] - 8s 44ms/step - loss: 0.3442 - accuracy: 0.8775 - val_loss: 0.0652 - val_accuracy: 0.9815\n",
            "Epoch 12/100\n",
            "192/192 [==============================] - 8s 43ms/step - loss: 0.3413 - accuracy: 0.8772 - val_loss: 0.0620 - val_accuracy: 0.9861\n",
            "Epoch 13/100\n",
            "192/192 [==============================] - 8s 43ms/step - loss: 0.3622 - accuracy: 0.8716 - val_loss: 0.0659 - val_accuracy: 0.9769\n",
            "Epoch 14/100\n",
            "192/192 [==============================] - 8s 43ms/step - loss: 0.3618 - accuracy: 0.8737 - val_loss: 0.0808 - val_accuracy: 0.9769\n",
            "Epoch 15/100\n",
            "192/192 [==============================] - 8s 43ms/step - loss: 0.3418 - accuracy: 0.8793 - val_loss: 0.0722 - val_accuracy: 0.9815\n",
            "Epoch 16/100\n",
            "192/192 [==============================] - 8s 44ms/step - loss: 0.3410 - accuracy: 0.8807 - val_loss: 0.0758 - val_accuracy: 0.9792\n",
            "Epoch 17/100\n",
            "192/192 [==============================] - 8s 44ms/step - loss: 0.3457 - accuracy: 0.8765 - val_loss: 0.0608 - val_accuracy: 0.9838\n",
            "Epoch 18/100\n",
            "192/192 [==============================] - 8s 44ms/step - loss: 0.3548 - accuracy: 0.8751 - val_loss: 0.0515 - val_accuracy: 0.9861\n",
            "Epoch 19/100\n",
            "192/192 [==============================] - 8s 43ms/step - loss: 0.3415 - accuracy: 0.8796 - val_loss: 0.0666 - val_accuracy: 0.9838\n",
            "Epoch 20/100\n",
            "192/192 [==============================] - 8s 43ms/step - loss: 0.3412 - accuracy: 0.8726 - val_loss: 0.0712 - val_accuracy: 0.9746\n",
            "Epoch 21/100\n",
            "192/192 [==============================] - 8s 43ms/step - loss: 0.3105 - accuracy: 0.8897 - val_loss: 0.0574 - val_accuracy: 0.9792\n",
            "Epoch 22/100\n",
            "192/192 [==============================] - 8s 44ms/step - loss: 0.3384 - accuracy: 0.8765 - val_loss: 0.0581 - val_accuracy: 0.9815\n",
            "Epoch 23/100\n",
            "192/192 [==============================] - 8s 44ms/step - loss: 0.3412 - accuracy: 0.8838 - val_loss: 0.0641 - val_accuracy: 0.9792\n"
          ]
        }
      ],
      "source": [
        "# Concatenate the training, validation, and test data\n",
        "combined_X = np.concatenate((train_X, valid_X, test_X), axis=0)\n",
        "combined_Y = np.concatenate((train_Y, valid_Y, test_Y), axis=0)\n",
        "\n",
        "\n",
        "# Train the ResNet50 model with combined data since it has highest accuracy\n",
        "history_resnet = model_ResNet50.fit(\n",
        "    combined_X, combined_Y,\n",
        "    epochs=100,\n",
        "    batch_size=15,\n",
        "    callbacks=[stopping],\n",
        "    validation_data=(valid_X, valid_Y)\n",
        ")\n"
      ],
      "id": "070uqOYzDzy5"
    },
    {
      "cell_type": "code",
      "execution_count": null,
      "metadata": {
        "id": "O8DTkDmUnJ0H",
        "colab": {
          "base_uri": "https://localhost:8080/"
        },
        "outputId": "6bbfd772-8c59-4cdd-9aae-101039919020"
      },
      "outputs": [
        {
          "output_type": "stream",
          "name": "stdout",
          "text": [
            "Epoch 1/100\n",
            "192/192 [==============================] - 10s 50ms/step - loss: 0.5700 - accuracy: 0.7959 - val_loss: 0.2529 - val_accuracy: 0.9076\n",
            "Epoch 2/100\n",
            "192/192 [==============================] - 9s 48ms/step - loss: 0.5596 - accuracy: 0.8029 - val_loss: 0.2257 - val_accuracy: 0.9215\n",
            "Epoch 3/100\n",
            "192/192 [==============================] - 9s 49ms/step - loss: 0.5434 - accuracy: 0.8119 - val_loss: 0.2317 - val_accuracy: 0.9284\n",
            "Epoch 4/100\n",
            "192/192 [==============================] - 9s 48ms/step - loss: 0.5425 - accuracy: 0.7980 - val_loss: 0.2289 - val_accuracy: 0.9192\n",
            "Epoch 5/100\n",
            "192/192 [==============================] - 9s 48ms/step - loss: 0.5441 - accuracy: 0.8039 - val_loss: 0.2192 - val_accuracy: 0.9192\n",
            "Epoch 6/100\n",
            "192/192 [==============================] - 9s 48ms/step - loss: 0.5319 - accuracy: 0.8144 - val_loss: 0.2171 - val_accuracy: 0.9145\n",
            "Epoch 7/100\n",
            "192/192 [==============================] - 9s 48ms/step - loss: 0.5052 - accuracy: 0.8224 - val_loss: 0.2166 - val_accuracy: 0.9238\n",
            "Epoch 8/100\n",
            "192/192 [==============================] - 9s 48ms/step - loss: 0.5590 - accuracy: 0.8098 - val_loss: 0.1979 - val_accuracy: 0.9330\n",
            "Epoch 9/100\n",
            "192/192 [==============================] - 9s 48ms/step - loss: 0.5252 - accuracy: 0.8144 - val_loss: 0.1930 - val_accuracy: 0.9353\n",
            "Epoch 10/100\n",
            "192/192 [==============================] - 9s 48ms/step - loss: 0.5075 - accuracy: 0.8193 - val_loss: 0.1924 - val_accuracy: 0.9238\n",
            "Epoch 11/100\n",
            "192/192 [==============================] - 9s 48ms/step - loss: 0.5185 - accuracy: 0.8036 - val_loss: 0.1927 - val_accuracy: 0.9261\n",
            "Epoch 12/100\n",
            "192/192 [==============================] - 9s 48ms/step - loss: 0.5048 - accuracy: 0.8189 - val_loss: 0.1971 - val_accuracy: 0.9376\n",
            "Epoch 13/100\n",
            "192/192 [==============================] - 9s 47ms/step - loss: 0.5015 - accuracy: 0.8217 - val_loss: 0.1958 - val_accuracy: 0.9307\n",
            "Epoch 14/100\n",
            "192/192 [==============================] - 9s 48ms/step - loss: 0.5373 - accuracy: 0.8053 - val_loss: 0.1993 - val_accuracy: 0.9307\n",
            "Epoch 15/100\n",
            "192/192 [==============================] - 9s 48ms/step - loss: 0.5116 - accuracy: 0.8133 - val_loss: 0.1934 - val_accuracy: 0.9307\n",
            "Epoch 1/100\n",
            "192/192 [==============================] - 6s 31ms/step - loss: 0.4725 - accuracy: 0.8357 - val_loss: 0.2129 - val_accuracy: 0.9376\n",
            "Epoch 2/100\n",
            "192/192 [==============================] - 6s 31ms/step - loss: 0.4572 - accuracy: 0.8385 - val_loss: 0.1673 - val_accuracy: 0.9492\n",
            "Epoch 3/100\n",
            "192/192 [==============================] - 6s 30ms/step - loss: 0.4630 - accuracy: 0.8398 - val_loss: 0.1594 - val_accuracy: 0.9561\n",
            "Epoch 4/100\n",
            "192/192 [==============================] - 6s 30ms/step - loss: 0.4453 - accuracy: 0.8409 - val_loss: 0.1531 - val_accuracy: 0.9630\n",
            "Epoch 5/100\n",
            "192/192 [==============================] - 6s 30ms/step - loss: 0.4728 - accuracy: 0.8266 - val_loss: 0.1709 - val_accuracy: 0.9538\n",
            "Epoch 6/100\n",
            "192/192 [==============================] - 6s 30ms/step - loss: 0.4412 - accuracy: 0.8360 - val_loss: 0.2017 - val_accuracy: 0.9376\n",
            "Epoch 7/100\n",
            "192/192 [==============================] - 6s 30ms/step - loss: 0.4633 - accuracy: 0.8374 - val_loss: 0.1787 - val_accuracy: 0.9515\n",
            "Epoch 8/100\n",
            "192/192 [==============================] - 6s 30ms/step - loss: 0.4517 - accuracy: 0.8416 - val_loss: 0.1477 - val_accuracy: 0.9584\n",
            "Epoch 9/100\n",
            "192/192 [==============================] - 6s 30ms/step - loss: 0.4576 - accuracy: 0.8367 - val_loss: 0.1593 - val_accuracy: 0.9561\n",
            "Epoch 10/100\n",
            "192/192 [==============================] - 6s 29ms/step - loss: 0.4214 - accuracy: 0.8458 - val_loss: 0.1599 - val_accuracy: 0.9492\n",
            "Epoch 11/100\n",
            "192/192 [==============================] - 6s 31ms/step - loss: 0.4309 - accuracy: 0.8430 - val_loss: 0.1349 - val_accuracy: 0.9584\n",
            "Epoch 12/100\n",
            "192/192 [==============================] - 6s 30ms/step - loss: 0.4304 - accuracy: 0.8454 - val_loss: 0.1340 - val_accuracy: 0.9515\n",
            "Epoch 13/100\n",
            "192/192 [==============================] - 6s 30ms/step - loss: 0.4400 - accuracy: 0.8426 - val_loss: 0.1339 - val_accuracy: 0.9630\n",
            "Epoch 14/100\n",
            "192/192 [==============================] - 6s 30ms/step - loss: 0.4318 - accuracy: 0.8437 - val_loss: 0.1402 - val_accuracy: 0.9584\n",
            "Epoch 15/100\n",
            "192/192 [==============================] - 6s 29ms/step - loss: 0.4309 - accuracy: 0.8493 - val_loss: 0.1469 - val_accuracy: 0.9584\n",
            "Epoch 16/100\n",
            "192/192 [==============================] - 6s 31ms/step - loss: 0.4368 - accuracy: 0.8391 - val_loss: 0.1469 - val_accuracy: 0.9561\n",
            "Epoch 17/100\n",
            "192/192 [==============================] - 6s 29ms/step - loss: 0.4134 - accuracy: 0.8454 - val_loss: 0.1506 - val_accuracy: 0.9515\n",
            "Epoch 18/100\n",
            "192/192 [==============================] - 6s 31ms/step - loss: 0.4323 - accuracy: 0.8430 - val_loss: 0.1337 - val_accuracy: 0.9538\n",
            "Epoch 19/100\n",
            "192/192 [==============================] - 6s 30ms/step - loss: 0.4284 - accuracy: 0.8479 - val_loss: 0.1559 - val_accuracy: 0.9469\n",
            "Epoch 20/100\n",
            "192/192 [==============================] - 6s 30ms/step - loss: 0.4150 - accuracy: 0.8514 - val_loss: 0.1462 - val_accuracy: 0.9492\n",
            "Epoch 21/100\n",
            "192/192 [==============================] - 6s 30ms/step - loss: 0.4148 - accuracy: 0.8542 - val_loss: 0.1332 - val_accuracy: 0.9677\n",
            "Epoch 22/100\n",
            "192/192 [==============================] - 6s 30ms/step - loss: 0.3878 - accuracy: 0.8552 - val_loss: 0.1373 - val_accuracy: 0.9584\n",
            "Epoch 23/100\n",
            "192/192 [==============================] - 6s 30ms/step - loss: 0.4379 - accuracy: 0.8440 - val_loss: 0.1607 - val_accuracy: 0.9469\n",
            "Epoch 24/100\n",
            "192/192 [==============================] - 6s 30ms/step - loss: 0.4155 - accuracy: 0.8528 - val_loss: 0.1430 - val_accuracy: 0.9561\n",
            "Epoch 25/100\n",
            "192/192 [==============================] - 6s 30ms/step - loss: 0.4029 - accuracy: 0.8618 - val_loss: 0.1476 - val_accuracy: 0.9515\n",
            "Epoch 26/100\n",
            "192/192 [==============================] - 6s 30ms/step - loss: 0.4134 - accuracy: 0.8566 - val_loss: 0.1344 - val_accuracy: 0.9538\n"
          ]
        }
      ],
      "source": [
        "# Train the VGG16 model with combined data\n",
        "history_vgg = model_vgg.fit(\n",
        "    combined_X, combined_Y,\n",
        "    epochs=100,\n",
        "    batch_size=15,\n",
        "    callbacks=[stopping],\n",
        "    validation_data=(valid_X, valid_Y)\n",
        ")\n",
        "\n",
        "# Train the EfficientNetB0 model with combined data\n",
        "history_b0 = model_b0.fit(\n",
        "    combined_X, combined_Y,\n",
        "    epochs=100,\n",
        "    batch_size=15,\n",
        "    callbacks=[stopping],\n",
        "    validation_data=(valid_X, valid_Y)\n",
        ")\n"
      ],
      "id": "O8DTkDmUnJ0H"
    },
    {
      "cell_type": "markdown",
      "metadata": {
        "id": "7klRYMeIYzfk"
      },
      "source": [
        "#### **ii. Apply at least L equally spaced frames of each video in the folder Sport Videos to your model to obtain L vectors of probability predictions from the softmax in your model. You must choose L to be at least 100, but you are welcome to use all the frames in each video. Calculate the average p of these probability vectors for each video.**\n",
        "\n",
        "#### **iii.Select the class with maximum probability in the vector p for each video and compare it to the actual label of the video.**\n",
        "\n",
        "#### **iv. Report the Confusion Matrix, Precision, Recall, Accuracy, and F1 score for your model on the test data, i.e. videos. Remember that this is a multi-classclassification problem.**"
      ],
      "id": "7klRYMeIYzfk"
    },
    {
      "cell_type": "markdown",
      "metadata": {
        "id": "OJkMJfqB9cNM"
      },
      "source": [
        "#### **RESNET**"
      ],
      "id": "OJkMJfqB9cNM"
    },
    {
      "cell_type": "code",
      "execution_count": null,
      "metadata": {
        "id": "aHoe7yR5sZjL"
      },
      "outputs": [],
      "source": [
        "NUM_FRAMES = 100\n",
        "average_probs = []\n",
        "def predict_video(video_path):\n",
        "    # Open the video and get its properties\n",
        "    video = cv2.VideoCapture (video_path)\n",
        "\n",
        "    fps = video.get (cv2.CAP_PROP_FPS)\n",
        "    num_frames_video = int(video.get(cv2.CAP_PROP_FRAME_COUNT))\n",
        "\n",
        "    # Determine the frames to extract\n",
        "    frame_idxs = np.linspace(0, num_frames_video-1, NUM_FRAMES, dtype=int)\n",
        "\n",
        "    # Create a list to store the probability vectors for each frame\n",
        "    frame_probs = []\n",
        "\n",
        "    # Loop over the frames to extract and apply the model\n",
        "    for cnt, frame_idx in enumerate(frame_idxs):\n",
        "      # Extract the frame\n",
        "      video.set(cv2.CAP_PROP_POS_FRAMES, frame_idx)\n",
        "      ret, frame = video.read()\n",
        "\n",
        "      if not ret:\n",
        "         continue\n",
        "\n",
        "      # Preprocessing the frame\n",
        "      frame = cv2.resize(frame, (224, 224))\n",
        "      frame = cv2.cvtColor (frame, cv2.COLOR_BGR2RGB)\n",
        "\n",
        "      # Apply the model and get the probability vector\n",
        "      probs = model_ResNet50.predict(np.expand_dims(frame, axis=0),verbose=0)\n",
        "      frame_probs.append(probs)\n",
        "\n",
        "    average_prob = np.mean(frame_probs, axis=0)\n",
        "    # Store the average probability vector for the video\n",
        "    max_index = np.argmax(average_prob)\n",
        "    average_probs.append(max_index)\n",
        "\n",
        "\n",
        "    print(max_index)\n",
        "\n",
        "    return max_index\n",
        "\n"
      ],
      "id": "aHoe7yR5sZjL"
    },
    {
      "cell_type": "code",
      "execution_count": null,
      "metadata": {
        "id": "NamgrG-YvHp2",
        "colab": {
          "base_uri": "https://localhost:8080/"
        },
        "outputId": "ca29b58d-a461-4648-c162-3597dcf0c407"
      },
      "outputs": [
        {
          "output_type": "stream",
          "name": "stderr",
          "text": [
            "  1%|          | 1/150 [00:07<18:54,  7.61s/it]"
          ]
        },
        {
          "output_type": "stream",
          "name": "stdout",
          "text": [
            "3\n"
          ]
        },
        {
          "output_type": "stream",
          "name": "stderr",
          "text": [
            "\r  1%|▏         | 2/150 [00:16<20:00,  8.11s/it]"
          ]
        },
        {
          "output_type": "stream",
          "name": "stdout",
          "text": [
            "3\n"
          ]
        },
        {
          "output_type": "stream",
          "name": "stderr",
          "text": [
            "\r  2%|▏         | 3/150 [00:22<18:08,  7.41s/it]"
          ]
        },
        {
          "output_type": "stream",
          "name": "stdout",
          "text": [
            "4\n"
          ]
        },
        {
          "output_type": "stream",
          "name": "stderr",
          "text": [
            "\r  3%|▎         | 4/150 [00:29<17:14,  7.08s/it]"
          ]
        },
        {
          "output_type": "stream",
          "name": "stdout",
          "text": [
            "3\n"
          ]
        },
        {
          "output_type": "stream",
          "name": "stderr",
          "text": [
            "\r  3%|▎         | 5/150 [00:35<16:48,  6.96s/it]"
          ]
        },
        {
          "output_type": "stream",
          "name": "stdout",
          "text": [
            "3\n"
          ]
        },
        {
          "output_type": "stream",
          "name": "stderr",
          "text": [
            "\r  4%|▍         | 6/150 [00:42<16:30,  6.88s/it]"
          ]
        },
        {
          "output_type": "stream",
          "name": "stdout",
          "text": [
            "0\n"
          ]
        },
        {
          "output_type": "stream",
          "name": "stderr",
          "text": [
            "\r  5%|▍         | 7/150 [00:49<16:16,  6.83s/it]"
          ]
        },
        {
          "output_type": "stream",
          "name": "stdout",
          "text": [
            "4\n"
          ]
        },
        {
          "output_type": "stream",
          "name": "stderr",
          "text": [
            "\r  5%|▌         | 8/150 [00:56<16:03,  6.79s/it]"
          ]
        },
        {
          "output_type": "stream",
          "name": "stdout",
          "text": [
            "0\n"
          ]
        },
        {
          "output_type": "stream",
          "name": "stderr",
          "text": [
            "\r  6%|▌         | 9/150 [01:02<15:50,  6.74s/it]"
          ]
        },
        {
          "output_type": "stream",
          "name": "stdout",
          "text": [
            "0\n"
          ]
        },
        {
          "output_type": "stream",
          "name": "stderr",
          "text": [
            "\r  7%|▋         | 10/150 [01:09<15:39,  6.71s/it]"
          ]
        },
        {
          "output_type": "stream",
          "name": "stdout",
          "text": [
            "0\n"
          ]
        },
        {
          "output_type": "stream",
          "name": "stderr",
          "text": [
            "\r  7%|▋         | 11/150 [01:15<15:26,  6.67s/it]"
          ]
        },
        {
          "output_type": "stream",
          "name": "stdout",
          "text": [
            "0\n"
          ]
        },
        {
          "output_type": "stream",
          "name": "stderr",
          "text": [
            "\r  8%|▊         | 12/150 [01:22<15:20,  6.67s/it]"
          ]
        },
        {
          "output_type": "stream",
          "name": "stdout",
          "text": [
            "0\n"
          ]
        },
        {
          "output_type": "stream",
          "name": "stderr",
          "text": [
            "\r  9%|▊         | 13/150 [01:29<15:11,  6.65s/it]"
          ]
        },
        {
          "output_type": "stream",
          "name": "stdout",
          "text": [
            "2\n"
          ]
        },
        {
          "output_type": "stream",
          "name": "stderr",
          "text": [
            "\r  9%|▉         | 14/150 [01:35<15:03,  6.64s/it]"
          ]
        },
        {
          "output_type": "stream",
          "name": "stdout",
          "text": [
            "2\n"
          ]
        },
        {
          "output_type": "stream",
          "name": "stderr",
          "text": [
            "\r 10%|█         | 15/150 [01:42<14:57,  6.65s/it]"
          ]
        },
        {
          "output_type": "stream",
          "name": "stdout",
          "text": [
            "2\n"
          ]
        },
        {
          "output_type": "stream",
          "name": "stderr",
          "text": [
            "\r 11%|█         | 16/150 [01:49<14:53,  6.66s/it]"
          ]
        },
        {
          "output_type": "stream",
          "name": "stdout",
          "text": [
            "4\n"
          ]
        },
        {
          "output_type": "stream",
          "name": "stderr",
          "text": [
            "\r 11%|█▏        | 17/150 [01:55<14:43,  6.64s/it]"
          ]
        },
        {
          "output_type": "stream",
          "name": "stdout",
          "text": [
            "2\n"
          ]
        },
        {
          "output_type": "stream",
          "name": "stderr",
          "text": [
            "\r 12%|█▏        | 18/150 [02:03<15:05,  6.86s/it]"
          ]
        },
        {
          "output_type": "stream",
          "name": "stdout",
          "text": [
            "3\n"
          ]
        },
        {
          "output_type": "stream",
          "name": "stderr",
          "text": [
            "\r 13%|█▎        | 19/150 [02:09<14:47,  6.78s/it]"
          ]
        },
        {
          "output_type": "stream",
          "name": "stdout",
          "text": [
            "3\n"
          ]
        },
        {
          "output_type": "stream",
          "name": "stderr",
          "text": [
            "\r 13%|█▎        | 20/150 [02:17<15:02,  6.95s/it]"
          ]
        },
        {
          "output_type": "stream",
          "name": "stdout",
          "text": [
            "3\n"
          ]
        },
        {
          "output_type": "stream",
          "name": "stderr",
          "text": [
            "\r 14%|█▍        | 21/150 [02:24<15:29,  7.21s/it]"
          ]
        },
        {
          "output_type": "stream",
          "name": "stdout",
          "text": [
            "3\n"
          ]
        },
        {
          "output_type": "stream",
          "name": "stderr",
          "text": [
            "\r 15%|█▍        | 22/150 [02:32<15:53,  7.45s/it]"
          ]
        },
        {
          "output_type": "stream",
          "name": "stdout",
          "text": [
            "3\n"
          ]
        },
        {
          "output_type": "stream",
          "name": "stderr",
          "text": [
            "\r 15%|█▌        | 23/150 [02:40<15:51,  7.49s/it]"
          ]
        },
        {
          "output_type": "stream",
          "name": "stdout",
          "text": [
            "0\n"
          ]
        },
        {
          "output_type": "stream",
          "name": "stderr",
          "text": [
            "\r 16%|█▌        | 24/150 [02:47<15:35,  7.43s/it]"
          ]
        },
        {
          "output_type": "stream",
          "name": "stdout",
          "text": [
            "0\n"
          ]
        },
        {
          "output_type": "stream",
          "name": "stderr",
          "text": [
            "\r 17%|█▋        | 25/150 [02:54<15:05,  7.24s/it]"
          ]
        },
        {
          "output_type": "stream",
          "name": "stdout",
          "text": [
            "4\n"
          ]
        },
        {
          "output_type": "stream",
          "name": "stderr",
          "text": [
            "\r 17%|█▋        | 26/150 [03:01<14:37,  7.08s/it]"
          ]
        },
        {
          "output_type": "stream",
          "name": "stdout",
          "text": [
            "4\n"
          ]
        },
        {
          "output_type": "stream",
          "name": "stderr",
          "text": [
            "\r 18%|█▊        | 27/150 [03:08<14:16,  6.96s/it]"
          ]
        },
        {
          "output_type": "stream",
          "name": "stdout",
          "text": [
            "0\n"
          ]
        },
        {
          "output_type": "stream",
          "name": "stderr",
          "text": [
            "\r 19%|█▊        | 28/150 [03:14<13:59,  6.88s/it]"
          ]
        },
        {
          "output_type": "stream",
          "name": "stdout",
          "text": [
            "0\n"
          ]
        },
        {
          "output_type": "stream",
          "name": "stderr",
          "text": [
            "\r 19%|█▉        | 29/150 [03:21<13:51,  6.87s/it]"
          ]
        },
        {
          "output_type": "stream",
          "name": "stdout",
          "text": [
            "0\n"
          ]
        },
        {
          "output_type": "stream",
          "name": "stderr",
          "text": [
            "\r 20%|██        | 30/150 [03:28<13:32,  6.77s/it]"
          ]
        },
        {
          "output_type": "stream",
          "name": "stdout",
          "text": [
            "0\n"
          ]
        },
        {
          "output_type": "stream",
          "name": "stderr",
          "text": [
            "\r 21%|██        | 31/150 [03:34<13:24,  6.76s/it]"
          ]
        },
        {
          "output_type": "stream",
          "name": "stdout",
          "text": [
            "0\n"
          ]
        },
        {
          "output_type": "stream",
          "name": "stderr",
          "text": [
            "\r 21%|██▏       | 32/150 [03:41<13:07,  6.67s/it]"
          ]
        },
        {
          "output_type": "stream",
          "name": "stdout",
          "text": [
            "0\n"
          ]
        },
        {
          "output_type": "stream",
          "name": "stderr",
          "text": [
            "\r 22%|██▏       | 33/150 [03:47<13:00,  6.67s/it]"
          ]
        },
        {
          "output_type": "stream",
          "name": "stdout",
          "text": [
            "0\n"
          ]
        },
        {
          "output_type": "stream",
          "name": "stderr",
          "text": [
            "\r 23%|██▎       | 34/150 [03:54<12:44,  6.59s/it]"
          ]
        },
        {
          "output_type": "stream",
          "name": "stdout",
          "text": [
            "0\n"
          ]
        },
        {
          "output_type": "stream",
          "name": "stderr",
          "text": [
            "\r 23%|██▎       | 35/150 [04:01<12:41,  6.62s/it]"
          ]
        },
        {
          "output_type": "stream",
          "name": "stdout",
          "text": [
            "0\n"
          ]
        },
        {
          "output_type": "stream",
          "name": "stderr",
          "text": [
            "\r 24%|██▍       | 36/150 [04:07<12:30,  6.58s/it]"
          ]
        },
        {
          "output_type": "stream",
          "name": "stdout",
          "text": [
            "0\n"
          ]
        },
        {
          "output_type": "stream",
          "name": "stderr",
          "text": [
            "\r 25%|██▍       | 37/150 [04:14<12:29,  6.63s/it]"
          ]
        },
        {
          "output_type": "stream",
          "name": "stdout",
          "text": [
            "0\n"
          ]
        },
        {
          "output_type": "stream",
          "name": "stderr",
          "text": [
            "\r 25%|██▌       | 38/150 [04:20<12:16,  6.57s/it]"
          ]
        },
        {
          "output_type": "stream",
          "name": "stdout",
          "text": [
            "0\n"
          ]
        },
        {
          "output_type": "stream",
          "name": "stderr",
          "text": [
            "\r 26%|██▌       | 39/150 [04:27<12:14,  6.61s/it]"
          ]
        },
        {
          "output_type": "stream",
          "name": "stdout",
          "text": [
            "3\n"
          ]
        },
        {
          "output_type": "stream",
          "name": "stderr",
          "text": [
            "\r 27%|██▋       | 40/150 [04:33<12:02,  6.57s/it]"
          ]
        },
        {
          "output_type": "stream",
          "name": "stdout",
          "text": [
            "0\n"
          ]
        },
        {
          "output_type": "stream",
          "name": "stderr",
          "text": [
            "\r 27%|██▋       | 41/150 [04:42<13:01,  7.17s/it]"
          ]
        },
        {
          "output_type": "stream",
          "name": "stdout",
          "text": [
            "0\n"
          ]
        },
        {
          "output_type": "stream",
          "name": "stderr",
          "text": [
            "\r 28%|██▊       | 42/150 [04:50<13:12,  7.34s/it]"
          ]
        },
        {
          "output_type": "stream",
          "name": "stdout",
          "text": [
            "0\n"
          ]
        },
        {
          "output_type": "stream",
          "name": "stderr",
          "text": [
            "\r 29%|██▊       | 43/150 [04:57<13:01,  7.30s/it]"
          ]
        },
        {
          "output_type": "stream",
          "name": "stdout",
          "text": [
            "0\n"
          ]
        },
        {
          "output_type": "stream",
          "name": "stderr",
          "text": [
            "\r 29%|██▉       | 44/150 [05:03<12:30,  7.08s/it]"
          ]
        },
        {
          "output_type": "stream",
          "name": "stdout",
          "text": [
            "0\n"
          ]
        },
        {
          "output_type": "stream",
          "name": "stderr",
          "text": [
            "\r 30%|███       | 45/150 [05:10<12:14,  7.00s/it]"
          ]
        },
        {
          "output_type": "stream",
          "name": "stdout",
          "text": [
            "0\n"
          ]
        },
        {
          "output_type": "stream",
          "name": "stderr",
          "text": [
            "\r 31%|███       | 46/150 [05:17<11:56,  6.89s/it]"
          ]
        },
        {
          "output_type": "stream",
          "name": "stdout",
          "text": [
            "0\n"
          ]
        },
        {
          "output_type": "stream",
          "name": "stderr",
          "text": [
            "\r 31%|███▏      | 47/150 [05:24<11:47,  6.87s/it]"
          ]
        },
        {
          "output_type": "stream",
          "name": "stdout",
          "text": [
            "0\n"
          ]
        },
        {
          "output_type": "stream",
          "name": "stderr",
          "text": [
            "\r 32%|███▏      | 48/150 [05:30<11:30,  6.77s/it]"
          ]
        },
        {
          "output_type": "stream",
          "name": "stdout",
          "text": [
            "0\n"
          ]
        },
        {
          "output_type": "stream",
          "name": "stderr",
          "text": [
            "\r 33%|███▎      | 49/150 [05:37<11:21,  6.75s/it]"
          ]
        },
        {
          "output_type": "stream",
          "name": "stdout",
          "text": [
            "0\n"
          ]
        },
        {
          "output_type": "stream",
          "name": "stderr",
          "text": [
            "\r 33%|███▎      | 50/150 [05:44<11:09,  6.70s/it]"
          ]
        },
        {
          "output_type": "stream",
          "name": "stdout",
          "text": [
            "0\n"
          ]
        },
        {
          "output_type": "stream",
          "name": "stderr",
          "text": [
            "\r 34%|███▍      | 51/150 [05:50<11:04,  6.71s/it]"
          ]
        },
        {
          "output_type": "stream",
          "name": "stdout",
          "text": [
            "0\n"
          ]
        },
        {
          "output_type": "stream",
          "name": "stderr",
          "text": [
            "\r 35%|███▍      | 52/150 [05:57<10:49,  6.62s/it]"
          ]
        },
        {
          "output_type": "stream",
          "name": "stdout",
          "text": [
            "0\n"
          ]
        },
        {
          "output_type": "stream",
          "name": "stderr",
          "text": [
            "\r 35%|███▌      | 53/150 [06:03<10:44,  6.64s/it]"
          ]
        },
        {
          "output_type": "stream",
          "name": "stdout",
          "text": [
            "0\n"
          ]
        },
        {
          "output_type": "stream",
          "name": "stderr",
          "text": [
            "\r 36%|███▌      | 54/150 [06:10<10:35,  6.62s/it]"
          ]
        },
        {
          "output_type": "stream",
          "name": "stdout",
          "text": [
            "0\n"
          ]
        },
        {
          "output_type": "stream",
          "name": "stderr",
          "text": [
            "\r 37%|███▋      | 55/150 [06:17<10:28,  6.62s/it]"
          ]
        },
        {
          "output_type": "stream",
          "name": "stdout",
          "text": [
            "0\n"
          ]
        },
        {
          "output_type": "stream",
          "name": "stderr",
          "text": [
            "\r 37%|███▋      | 56/150 [06:23<10:19,  6.59s/it]"
          ]
        },
        {
          "output_type": "stream",
          "name": "stdout",
          "text": [
            "0\n"
          ]
        },
        {
          "output_type": "stream",
          "name": "stderr",
          "text": [
            "\r 38%|███▊      | 57/150 [06:30<10:13,  6.59s/it]"
          ]
        },
        {
          "output_type": "stream",
          "name": "stdout",
          "text": [
            "0\n"
          ]
        },
        {
          "output_type": "stream",
          "name": "stderr",
          "text": [
            "\r 39%|███▊      | 58/150 [06:37<10:21,  6.75s/it]"
          ]
        },
        {
          "output_type": "stream",
          "name": "stdout",
          "text": [
            "3\n"
          ]
        },
        {
          "output_type": "stream",
          "name": "stderr",
          "text": [
            "\r 39%|███▉      | 59/150 [06:44<10:23,  6.85s/it]"
          ]
        },
        {
          "output_type": "stream",
          "name": "stdout",
          "text": [
            "3\n"
          ]
        },
        {
          "output_type": "stream",
          "name": "stderr",
          "text": [
            "\r 40%|████      | 60/150 [06:52<10:42,  7.14s/it]"
          ]
        },
        {
          "output_type": "stream",
          "name": "stdout",
          "text": [
            "3\n"
          ]
        },
        {
          "output_type": "stream",
          "name": "stderr",
          "text": [
            "\r 41%|████      | 61/150 [06:59<10:51,  7.32s/it]"
          ]
        },
        {
          "output_type": "stream",
          "name": "stdout",
          "text": [
            "3\n"
          ]
        },
        {
          "output_type": "stream",
          "name": "stderr",
          "text": [
            "\r 41%|████▏     | 62/150 [07:07<10:58,  7.49s/it]"
          ]
        },
        {
          "output_type": "stream",
          "name": "stdout",
          "text": [
            "3\n"
          ]
        },
        {
          "output_type": "stream",
          "name": "stderr",
          "text": [
            "\r 42%|████▏     | 63/150 [07:14<10:27,  7.21s/it]"
          ]
        },
        {
          "output_type": "stream",
          "name": "stdout",
          "text": [
            "0\n"
          ]
        },
        {
          "output_type": "stream",
          "name": "stderr",
          "text": [
            "\r 43%|████▎     | 64/150 [07:21<10:06,  7.05s/it]"
          ]
        },
        {
          "output_type": "stream",
          "name": "stdout",
          "text": [
            "0\n"
          ]
        },
        {
          "output_type": "stream",
          "name": "stderr",
          "text": [
            "\r 43%|████▎     | 65/150 [07:27<09:42,  6.86s/it]"
          ]
        },
        {
          "output_type": "stream",
          "name": "stdout",
          "text": [
            "0\n"
          ]
        },
        {
          "output_type": "stream",
          "name": "stderr",
          "text": [
            "\r 44%|████▍     | 66/150 [07:34<09:32,  6.82s/it]"
          ]
        },
        {
          "output_type": "stream",
          "name": "stdout",
          "text": [
            "0\n"
          ]
        },
        {
          "output_type": "stream",
          "name": "stderr",
          "text": [
            "\r 45%|████▍     | 67/150 [07:40<09:16,  6.71s/it]"
          ]
        },
        {
          "output_type": "stream",
          "name": "stdout",
          "text": [
            "0\n"
          ]
        },
        {
          "output_type": "stream",
          "name": "stderr",
          "text": [
            "\r 45%|████▌     | 68/150 [07:47<09:23,  6.87s/it]"
          ]
        },
        {
          "output_type": "stream",
          "name": "stdout",
          "text": [
            "2\n"
          ]
        },
        {
          "output_type": "stream",
          "name": "stderr",
          "text": [
            "\r 46%|████▌     | 69/150 [07:54<09:06,  6.75s/it]"
          ]
        },
        {
          "output_type": "stream",
          "name": "stdout",
          "text": [
            "2\n"
          ]
        },
        {
          "output_type": "stream",
          "name": "stderr",
          "text": [
            "\r 47%|████▋     | 70/150 [08:01<08:57,  6.72s/it]"
          ]
        },
        {
          "output_type": "stream",
          "name": "stdout",
          "text": [
            "3\n"
          ]
        },
        {
          "output_type": "stream",
          "name": "stderr",
          "text": [
            "\r 47%|████▋     | 71/150 [08:07<08:46,  6.66s/it]"
          ]
        },
        {
          "output_type": "stream",
          "name": "stdout",
          "text": [
            "2\n"
          ]
        },
        {
          "output_type": "stream",
          "name": "stderr",
          "text": [
            "\r 48%|████▊     | 72/150 [08:14<08:39,  6.66s/it]"
          ]
        },
        {
          "output_type": "stream",
          "name": "stdout",
          "text": [
            "2\n"
          ]
        },
        {
          "output_type": "stream",
          "name": "stderr",
          "text": [
            "\r 49%|████▊     | 73/150 [08:20<08:31,  6.65s/it]"
          ]
        },
        {
          "output_type": "stream",
          "name": "stdout",
          "text": [
            "2\n"
          ]
        },
        {
          "output_type": "stream",
          "name": "stderr",
          "text": [
            "\r 49%|████▉     | 74/150 [08:27<08:25,  6.65s/it]"
          ]
        },
        {
          "output_type": "stream",
          "name": "stdout",
          "text": [
            "3\n"
          ]
        },
        {
          "output_type": "stream",
          "name": "stderr",
          "text": [
            "\r 50%|█████     | 75/150 [08:34<08:18,  6.65s/it]"
          ]
        },
        {
          "output_type": "stream",
          "name": "stdout",
          "text": [
            "2\n"
          ]
        },
        {
          "output_type": "stream",
          "name": "stderr",
          "text": [
            "\r 51%|█████     | 76/150 [08:40<08:09,  6.61s/it]"
          ]
        },
        {
          "output_type": "stream",
          "name": "stdout",
          "text": [
            "2\n"
          ]
        },
        {
          "output_type": "stream",
          "name": "stderr",
          "text": [
            "\r 51%|█████▏    | 77/150 [08:47<08:02,  6.61s/it]"
          ]
        },
        {
          "output_type": "stream",
          "name": "stdout",
          "text": [
            "0\n"
          ]
        },
        {
          "output_type": "stream",
          "name": "stderr",
          "text": [
            "\r 52%|█████▏    | 78/150 [08:53<07:55,  6.60s/it]"
          ]
        },
        {
          "output_type": "stream",
          "name": "stdout",
          "text": [
            "2\n"
          ]
        },
        {
          "output_type": "stream",
          "name": "stderr",
          "text": [
            "\r 53%|█████▎    | 79/150 [09:00<07:48,  6.60s/it]"
          ]
        },
        {
          "output_type": "stream",
          "name": "stdout",
          "text": [
            "0\n"
          ]
        },
        {
          "output_type": "stream",
          "name": "stderr",
          "text": [
            "\r 53%|█████▎    | 80/150 [09:09<08:28,  7.26s/it]"
          ]
        },
        {
          "output_type": "stream",
          "name": "stdout",
          "text": [
            "0\n"
          ]
        },
        {
          "output_type": "stream",
          "name": "stderr",
          "text": [
            "\r 54%|█████▍    | 81/150 [09:17<08:35,  7.47s/it]"
          ]
        },
        {
          "output_type": "stream",
          "name": "stdout",
          "text": [
            "0\n"
          ]
        },
        {
          "output_type": "stream",
          "name": "stderr",
          "text": [
            "\r 55%|█████▍    | 82/150 [09:24<08:18,  7.32s/it]"
          ]
        },
        {
          "output_type": "stream",
          "name": "stdout",
          "text": [
            "3\n"
          ]
        },
        {
          "output_type": "stream",
          "name": "stderr",
          "text": [
            "\r 55%|█████▌    | 83/150 [09:30<07:56,  7.11s/it]"
          ]
        },
        {
          "output_type": "stream",
          "name": "stdout",
          "text": [
            "3\n"
          ]
        },
        {
          "output_type": "stream",
          "name": "stderr",
          "text": [
            "\r 56%|█████▌    | 84/150 [09:37<07:36,  6.92s/it]"
          ]
        },
        {
          "output_type": "stream",
          "name": "stdout",
          "text": [
            "0\n"
          ]
        },
        {
          "output_type": "stream",
          "name": "stderr",
          "text": [
            "\r 57%|█████▋    | 85/150 [09:43<07:24,  6.84s/it]"
          ]
        },
        {
          "output_type": "stream",
          "name": "stdout",
          "text": [
            "3\n"
          ]
        },
        {
          "output_type": "stream",
          "name": "stderr",
          "text": [
            "\r 57%|█████▋    | 86/150 [09:50<07:09,  6.71s/it]"
          ]
        },
        {
          "output_type": "stream",
          "name": "stdout",
          "text": [
            "3\n"
          ]
        },
        {
          "output_type": "stream",
          "name": "stderr",
          "text": [
            "\r 58%|█████▊    | 87/150 [09:56<07:01,  6.68s/it]"
          ]
        },
        {
          "output_type": "stream",
          "name": "stdout",
          "text": [
            "3\n"
          ]
        },
        {
          "output_type": "stream",
          "name": "stderr",
          "text": [
            "\r 59%|█████▊    | 88/150 [10:03<06:52,  6.65s/it]"
          ]
        },
        {
          "output_type": "stream",
          "name": "stdout",
          "text": [
            "3\n"
          ]
        },
        {
          "output_type": "stream",
          "name": "stderr",
          "text": [
            "\r 59%|█████▉    | 89/150 [10:10<06:45,  6.65s/it]"
          ]
        },
        {
          "output_type": "stream",
          "name": "stdout",
          "text": [
            "0\n"
          ]
        },
        {
          "output_type": "stream",
          "name": "stderr",
          "text": [
            "\r 60%|██████    | 90/150 [10:16<06:35,  6.60s/it]"
          ]
        },
        {
          "output_type": "stream",
          "name": "stdout",
          "text": [
            "3\n"
          ]
        },
        {
          "output_type": "stream",
          "name": "stderr",
          "text": [
            "\r 61%|██████    | 91/150 [10:23<06:38,  6.76s/it]"
          ]
        },
        {
          "output_type": "stream",
          "name": "stdout",
          "text": [
            "0\n"
          ]
        },
        {
          "output_type": "stream",
          "name": "stderr",
          "text": [
            "\r 61%|██████▏   | 92/150 [10:30<06:30,  6.73s/it]"
          ]
        },
        {
          "output_type": "stream",
          "name": "stdout",
          "text": [
            "4\n"
          ]
        },
        {
          "output_type": "stream",
          "name": "stderr",
          "text": [
            "\r 62%|██████▏   | 93/150 [10:37<06:24,  6.75s/it]"
          ]
        },
        {
          "output_type": "stream",
          "name": "stdout",
          "text": [
            "0\n"
          ]
        },
        {
          "output_type": "stream",
          "name": "stderr",
          "text": [
            "\r 63%|██████▎   | 94/150 [10:44<06:23,  6.86s/it]"
          ]
        },
        {
          "output_type": "stream",
          "name": "stdout",
          "text": [
            "0\n"
          ]
        },
        {
          "output_type": "stream",
          "name": "stderr",
          "text": [
            "\r 63%|██████▎   | 95/150 [10:50<06:12,  6.78s/it]"
          ]
        },
        {
          "output_type": "stream",
          "name": "stdout",
          "text": [
            "0\n"
          ]
        },
        {
          "output_type": "stream",
          "name": "stderr",
          "text": [
            "\r 64%|██████▍   | 96/150 [10:57<06:02,  6.71s/it]"
          ]
        },
        {
          "output_type": "stream",
          "name": "stdout",
          "text": [
            "0\n"
          ]
        },
        {
          "output_type": "stream",
          "name": "stderr",
          "text": [
            "\r 65%|██████▍   | 97/150 [11:04<05:53,  6.67s/it]"
          ]
        },
        {
          "output_type": "stream",
          "name": "stdout",
          "text": [
            "0\n"
          ]
        },
        {
          "output_type": "stream",
          "name": "stderr",
          "text": [
            "\r 65%|██████▌   | 98/150 [11:10<05:45,  6.64s/it]"
          ]
        },
        {
          "output_type": "stream",
          "name": "stdout",
          "text": [
            "0\n"
          ]
        },
        {
          "output_type": "stream",
          "name": "stderr",
          "text": [
            "\r 66%|██████▌   | 99/150 [11:18<05:55,  6.97s/it]"
          ]
        },
        {
          "output_type": "stream",
          "name": "stdout",
          "text": [
            "2\n"
          ]
        },
        {
          "output_type": "stream",
          "name": "stderr",
          "text": [
            "\r 67%|██████▋   | 100/150 [11:26<06:00,  7.21s/it]"
          ]
        },
        {
          "output_type": "stream",
          "name": "stdout",
          "text": [
            "0\n"
          ]
        },
        {
          "output_type": "stream",
          "name": "stderr",
          "text": [
            "\r 67%|██████▋   | 101/150 [11:33<05:57,  7.30s/it]"
          ]
        },
        {
          "output_type": "stream",
          "name": "stdout",
          "text": [
            "0\n"
          ]
        },
        {
          "output_type": "stream",
          "name": "stderr",
          "text": [
            "\r 68%|██████▊   | 102/150 [11:40<05:41,  7.12s/it]"
          ]
        },
        {
          "output_type": "stream",
          "name": "stdout",
          "text": [
            "3\n"
          ]
        },
        {
          "output_type": "stream",
          "name": "stderr",
          "text": [
            "\r 69%|██████▊   | 103/150 [11:46<05:25,  6.93s/it]"
          ]
        },
        {
          "output_type": "stream",
          "name": "stdout",
          "text": [
            "0\n"
          ]
        },
        {
          "output_type": "stream",
          "name": "stderr",
          "text": [
            "\r 69%|██████▉   | 104/150 [11:53<05:15,  6.86s/it]"
          ]
        },
        {
          "output_type": "stream",
          "name": "stdout",
          "text": [
            "2\n"
          ]
        },
        {
          "output_type": "stream",
          "name": "stderr",
          "text": [
            "\r 70%|███████   | 105/150 [11:59<05:02,  6.73s/it]"
          ]
        },
        {
          "output_type": "stream",
          "name": "stdout",
          "text": [
            "2\n"
          ]
        },
        {
          "output_type": "stream",
          "name": "stderr",
          "text": [
            "\r 71%|███████   | 106/150 [12:06<04:55,  6.71s/it]"
          ]
        },
        {
          "output_type": "stream",
          "name": "stdout",
          "text": [
            "4\n"
          ]
        },
        {
          "output_type": "stream",
          "name": "stderr",
          "text": [
            "\r 71%|███████▏  | 107/150 [12:13<04:45,  6.64s/it]"
          ]
        },
        {
          "output_type": "stream",
          "name": "stdout",
          "text": [
            "2\n"
          ]
        },
        {
          "output_type": "stream",
          "name": "stderr",
          "text": [
            "\r 72%|███████▏  | 108/150 [12:19<04:39,  6.65s/it]"
          ]
        },
        {
          "output_type": "stream",
          "name": "stdout",
          "text": [
            "4\n"
          ]
        },
        {
          "output_type": "stream",
          "name": "stderr",
          "text": [
            "\r 73%|███████▎  | 109/150 [12:26<04:29,  6.58s/it]"
          ]
        },
        {
          "output_type": "stream",
          "name": "stdout",
          "text": [
            "3\n"
          ]
        },
        {
          "output_type": "stream",
          "name": "stderr",
          "text": [
            "\r 73%|███████▎  | 110/150 [12:32<04:24,  6.61s/it]"
          ]
        },
        {
          "output_type": "stream",
          "name": "stdout",
          "text": [
            "3\n"
          ]
        },
        {
          "output_type": "stream",
          "name": "stderr",
          "text": [
            "\r 74%|███████▍  | 111/150 [12:39<04:15,  6.54s/it]"
          ]
        },
        {
          "output_type": "stream",
          "name": "stdout",
          "text": [
            "4\n"
          ]
        },
        {
          "output_type": "stream",
          "name": "stderr",
          "text": [
            "\r 75%|███████▍  | 112/150 [12:45<04:10,  6.59s/it]"
          ]
        },
        {
          "output_type": "stream",
          "name": "stdout",
          "text": [
            "0\n"
          ]
        },
        {
          "output_type": "stream",
          "name": "stderr",
          "text": [
            "\r 75%|███████▌  | 113/150 [12:52<04:02,  6.55s/it]"
          ]
        },
        {
          "output_type": "stream",
          "name": "stdout",
          "text": [
            "3\n"
          ]
        },
        {
          "output_type": "stream",
          "name": "stderr",
          "text": [
            "\r 76%|███████▌  | 114/150 [12:59<03:57,  6.60s/it]"
          ]
        },
        {
          "output_type": "stream",
          "name": "stdout",
          "text": [
            "0\n"
          ]
        },
        {
          "output_type": "stream",
          "name": "stderr",
          "text": [
            "\r 77%|███████▋  | 115/150 [13:05<03:49,  6.56s/it]"
          ]
        },
        {
          "output_type": "stream",
          "name": "stdout",
          "text": [
            "0\n"
          ]
        },
        {
          "output_type": "stream",
          "name": "stderr",
          "text": [
            "\r 77%|███████▋  | 116/150 [13:14<04:03,  7.16s/it]"
          ]
        },
        {
          "output_type": "stream",
          "name": "stdout",
          "text": [
            "0\n"
          ]
        },
        {
          "output_type": "stream",
          "name": "stderr",
          "text": [
            "\r 78%|███████▊  | 117/150 [13:20<03:49,  6.96s/it]"
          ]
        },
        {
          "output_type": "stream",
          "name": "stdout",
          "text": [
            "0\n"
          ]
        },
        {
          "output_type": "stream",
          "name": "stderr",
          "text": [
            "\r 79%|███████▊  | 118/150 [13:27<03:39,  6.87s/it]"
          ]
        },
        {
          "output_type": "stream",
          "name": "stdout",
          "text": [
            "0\n"
          ]
        },
        {
          "output_type": "stream",
          "name": "stderr",
          "text": [
            "\r 79%|███████▉  | 119/150 [13:35<03:48,  7.37s/it]"
          ]
        },
        {
          "output_type": "stream",
          "name": "stdout",
          "text": [
            "0\n"
          ]
        },
        {
          "output_type": "stream",
          "name": "stderr",
          "text": [
            "\r 80%|████████  | 120/150 [13:43<03:43,  7.46s/it]"
          ]
        },
        {
          "output_type": "stream",
          "name": "stdout",
          "text": [
            "0\n"
          ]
        },
        {
          "output_type": "stream",
          "name": "stderr",
          "text": [
            "\r 81%|████████  | 121/150 [13:50<03:33,  7.35s/it]"
          ]
        },
        {
          "output_type": "stream",
          "name": "stdout",
          "text": [
            "0\n"
          ]
        },
        {
          "output_type": "stream",
          "name": "stderr",
          "text": [
            "\r 81%|████████▏ | 122/150 [13:57<03:22,  7.25s/it]"
          ]
        },
        {
          "output_type": "stream",
          "name": "stdout",
          "text": [
            "0\n"
          ]
        },
        {
          "output_type": "stream",
          "name": "stderr",
          "text": [
            "\r 82%|████████▏ | 123/150 [14:04<03:10,  7.06s/it]"
          ]
        },
        {
          "output_type": "stream",
          "name": "stdout",
          "text": [
            "0\n"
          ]
        },
        {
          "output_type": "stream",
          "name": "stderr",
          "text": [
            "\r 83%|████████▎ | 124/150 [14:10<02:58,  6.86s/it]"
          ]
        },
        {
          "output_type": "stream",
          "name": "stdout",
          "text": [
            "0\n"
          ]
        },
        {
          "output_type": "stream",
          "name": "stderr",
          "text": [
            "\r 83%|████████▎ | 125/150 [14:17<02:49,  6.78s/it]"
          ]
        },
        {
          "output_type": "stream",
          "name": "stdout",
          "text": [
            "0\n"
          ]
        },
        {
          "output_type": "stream",
          "name": "stderr",
          "text": [
            "\r 84%|████████▍ | 126/150 [14:23<02:39,  6.65s/it]"
          ]
        },
        {
          "output_type": "stream",
          "name": "stdout",
          "text": [
            "2\n"
          ]
        },
        {
          "output_type": "stream",
          "name": "stderr",
          "text": [
            "\r 85%|████████▍ | 127/150 [14:30<02:33,  6.66s/it]"
          ]
        },
        {
          "output_type": "stream",
          "name": "stdout",
          "text": [
            "2\n"
          ]
        },
        {
          "output_type": "stream",
          "name": "stderr",
          "text": [
            "\r 85%|████████▌ | 128/150 [14:36<02:25,  6.61s/it]"
          ]
        },
        {
          "output_type": "stream",
          "name": "stdout",
          "text": [
            "0\n"
          ]
        },
        {
          "output_type": "stream",
          "name": "stderr",
          "text": [
            "\r 86%|████████▌ | 129/150 [14:43<02:18,  6.60s/it]"
          ]
        },
        {
          "output_type": "stream",
          "name": "stdout",
          "text": [
            "2\n"
          ]
        },
        {
          "output_type": "stream",
          "name": "stderr",
          "text": [
            "\r 87%|████████▋ | 130/150 [14:49<02:10,  6.52s/it]"
          ]
        },
        {
          "output_type": "stream",
          "name": "stdout",
          "text": [
            "0\n"
          ]
        },
        {
          "output_type": "stream",
          "name": "stderr",
          "text": [
            "\r 87%|████████▋ | 131/150 [14:56<02:05,  6.59s/it]"
          ]
        },
        {
          "output_type": "stream",
          "name": "stdout",
          "text": [
            "0\n"
          ]
        },
        {
          "output_type": "stream",
          "name": "stderr",
          "text": [
            "\r 88%|████████▊ | 132/150 [15:02<01:57,  6.52s/it]"
          ]
        },
        {
          "output_type": "stream",
          "name": "stdout",
          "text": [
            "0\n"
          ]
        },
        {
          "output_type": "stream",
          "name": "stderr",
          "text": [
            "\r 89%|████████▊ | 133/150 [15:09<01:52,  6.60s/it]"
          ]
        },
        {
          "output_type": "stream",
          "name": "stdout",
          "text": [
            "0\n"
          ]
        },
        {
          "output_type": "stream",
          "name": "stderr",
          "text": [
            "\r 89%|████████▉ | 134/150 [15:15<01:44,  6.53s/it]"
          ]
        },
        {
          "output_type": "stream",
          "name": "stdout",
          "text": [
            "0\n"
          ]
        },
        {
          "output_type": "stream",
          "name": "stderr",
          "text": [
            "\r 90%|█████████ | 135/150 [15:22<01:38,  6.58s/it]"
          ]
        },
        {
          "output_type": "stream",
          "name": "stdout",
          "text": [
            "0\n"
          ]
        },
        {
          "output_type": "stream",
          "name": "stderr",
          "text": [
            "\r 91%|█████████ | 136/150 [15:29<01:33,  6.69s/it]"
          ]
        },
        {
          "output_type": "stream",
          "name": "stdout",
          "text": [
            "0\n"
          ]
        },
        {
          "output_type": "stream",
          "name": "stderr",
          "text": [
            "\r 91%|█████████▏| 137/150 [15:36<01:26,  6.68s/it]"
          ]
        },
        {
          "output_type": "stream",
          "name": "stdout",
          "text": [
            "0\n"
          ]
        },
        {
          "output_type": "stream",
          "name": "stderr",
          "text": [
            "\r 92%|█████████▏| 138/150 [15:44<01:25,  7.15s/it]"
          ]
        },
        {
          "output_type": "stream",
          "name": "stdout",
          "text": [
            "0\n"
          ]
        },
        {
          "output_type": "stream",
          "name": "stderr",
          "text": [
            "\r 93%|█████████▎| 139/150 [15:52<01:20,  7.33s/it]"
          ]
        },
        {
          "output_type": "stream",
          "name": "stdout",
          "text": [
            "0\n"
          ]
        },
        {
          "output_type": "stream",
          "name": "stderr",
          "text": [
            "\r 93%|█████████▎| 140/150 [16:00<01:14,  7.47s/it]"
          ]
        },
        {
          "output_type": "stream",
          "name": "stdout",
          "text": [
            "0\n"
          ]
        },
        {
          "output_type": "stream",
          "name": "stderr",
          "text": [
            "\r 94%|█████████▍| 141/150 [16:06<01:04,  7.16s/it]"
          ]
        },
        {
          "output_type": "stream",
          "name": "stdout",
          "text": [
            "0\n"
          ]
        },
        {
          "output_type": "stream",
          "name": "stderr",
          "text": [
            "\r 95%|█████████▍| 142/150 [16:13<00:56,  7.02s/it]"
          ]
        },
        {
          "output_type": "stream",
          "name": "stdout",
          "text": [
            "0\n"
          ]
        },
        {
          "output_type": "stream",
          "name": "stderr",
          "text": [
            "\r 95%|█████████▌| 143/150 [16:20<00:48,  6.98s/it]"
          ]
        },
        {
          "output_type": "stream",
          "name": "stdout",
          "text": [
            "0\n"
          ]
        },
        {
          "output_type": "stream",
          "name": "stderr",
          "text": [
            "\r 96%|█████████▌| 144/150 [16:26<00:41,  6.90s/it]"
          ]
        },
        {
          "output_type": "stream",
          "name": "stdout",
          "text": [
            "0\n"
          ]
        },
        {
          "output_type": "stream",
          "name": "stderr",
          "text": [
            "\r 97%|█████████▋| 145/150 [16:33<00:33,  6.77s/it]"
          ]
        },
        {
          "output_type": "stream",
          "name": "stdout",
          "text": [
            "0\n"
          ]
        },
        {
          "output_type": "stream",
          "name": "stderr",
          "text": [
            "\r 97%|█████████▋| 146/150 [16:39<00:26,  6.73s/it]"
          ]
        },
        {
          "output_type": "stream",
          "name": "stdout",
          "text": [
            "0\n"
          ]
        },
        {
          "output_type": "stream",
          "name": "stderr",
          "text": [
            "\r 98%|█████████▊| 147/150 [16:46<00:19,  6.62s/it]"
          ]
        },
        {
          "output_type": "stream",
          "name": "stdout",
          "text": [
            "0\n"
          ]
        },
        {
          "output_type": "stream",
          "name": "stderr",
          "text": [
            "\r 99%|█████████▊| 148/150 [16:53<00:13,  6.75s/it]"
          ]
        },
        {
          "output_type": "stream",
          "name": "stdout",
          "text": [
            "0\n"
          ]
        },
        {
          "output_type": "stream",
          "name": "stderr",
          "text": [
            "\r 99%|█████████▉| 149/150 [16:59<00:06,  6.66s/it]"
          ]
        },
        {
          "output_type": "stream",
          "name": "stdout",
          "text": [
            "0\n"
          ]
        },
        {
          "output_type": "stream",
          "name": "stderr",
          "text": [
            "100%|██████████| 150/150 [17:06<00:00,  6.85s/it]\n"
          ]
        },
        {
          "output_type": "stream",
          "name": "stdout",
          "text": [
            "0\n"
          ]
        },
        {
          "output_type": "stream",
          "name": "stderr",
          "text": [
            "  1%|          | 1/137 [00:08<19:12,  8.48s/it]"
          ]
        },
        {
          "output_type": "stream",
          "name": "stdout",
          "text": [
            "4\n"
          ]
        },
        {
          "output_type": "stream",
          "name": "stderr",
          "text": [
            "\r  1%|▏         | 2/137 [00:15<17:46,  7.90s/it]"
          ]
        },
        {
          "output_type": "stream",
          "name": "stdout",
          "text": [
            "4\n"
          ]
        },
        {
          "output_type": "stream",
          "name": "stderr",
          "text": [
            "\r  2%|▏         | 3/137 [00:22<16:13,  7.27s/it]"
          ]
        },
        {
          "output_type": "stream",
          "name": "stdout",
          "text": [
            "4\n"
          ]
        },
        {
          "output_type": "stream",
          "name": "stderr",
          "text": [
            "\r  3%|▎         | 4/137 [00:29<15:27,  6.98s/it]"
          ]
        },
        {
          "output_type": "stream",
          "name": "stdout",
          "text": [
            "4\n"
          ]
        },
        {
          "output_type": "stream",
          "name": "stderr",
          "text": [
            "\r  4%|▎         | 5/137 [00:35<15:00,  6.82s/it]"
          ]
        },
        {
          "output_type": "stream",
          "name": "stdout",
          "text": [
            "4\n"
          ]
        },
        {
          "output_type": "stream",
          "name": "stderr",
          "text": [
            "\r  4%|▍         | 6/137 [00:42<14:38,  6.71s/it]"
          ]
        },
        {
          "output_type": "stream",
          "name": "stdout",
          "text": [
            "4\n"
          ]
        },
        {
          "output_type": "stream",
          "name": "stderr",
          "text": [
            "\r  5%|▌         | 7/137 [00:48<14:19,  6.61s/it]"
          ]
        },
        {
          "output_type": "stream",
          "name": "stdout",
          "text": [
            "4\n"
          ]
        },
        {
          "output_type": "stream",
          "name": "stderr",
          "text": [
            "\r  6%|▌         | 8/137 [00:56<15:15,  7.09s/it]"
          ]
        },
        {
          "output_type": "stream",
          "name": "stdout",
          "text": [
            "2\n"
          ]
        },
        {
          "output_type": "stream",
          "name": "stderr",
          "text": [
            "\r  7%|▋         | 9/137 [01:04<15:38,  7.33s/it]"
          ]
        },
        {
          "output_type": "stream",
          "name": "stdout",
          "text": [
            "2\n"
          ]
        },
        {
          "output_type": "stream",
          "name": "stderr",
          "text": [
            "\r  7%|▋         | 10/137 [01:11<15:16,  7.21s/it]"
          ]
        },
        {
          "output_type": "stream",
          "name": "stdout",
          "text": [
            "2\n"
          ]
        },
        {
          "output_type": "stream",
          "name": "stderr",
          "text": [
            "\r  8%|▊         | 11/137 [01:18<14:47,  7.04s/it]"
          ]
        },
        {
          "output_type": "stream",
          "name": "stdout",
          "text": [
            "2\n"
          ]
        },
        {
          "output_type": "stream",
          "name": "stderr",
          "text": [
            "\r  9%|▉         | 12/137 [01:24<14:16,  6.85s/it]"
          ]
        },
        {
          "output_type": "stream",
          "name": "stdout",
          "text": [
            "4\n"
          ]
        },
        {
          "output_type": "stream",
          "name": "stderr",
          "text": [
            "\r  9%|▉         | 13/137 [01:31<14:00,  6.78s/it]"
          ]
        },
        {
          "output_type": "stream",
          "name": "stdout",
          "text": [
            "2\n"
          ]
        },
        {
          "output_type": "stream",
          "name": "stderr",
          "text": [
            "\r 10%|█         | 14/137 [01:37<13:37,  6.64s/it]"
          ]
        },
        {
          "output_type": "stream",
          "name": "stdout",
          "text": [
            "2\n"
          ]
        },
        {
          "output_type": "stream",
          "name": "stderr",
          "text": [
            "\r 11%|█         | 15/137 [01:44<13:29,  6.64s/it]"
          ]
        },
        {
          "output_type": "stream",
          "name": "stdout",
          "text": [
            "4\n"
          ]
        },
        {
          "output_type": "stream",
          "name": "stderr",
          "text": [
            "\r 12%|█▏        | 16/137 [01:50<13:14,  6.57s/it]"
          ]
        },
        {
          "output_type": "stream",
          "name": "stdout",
          "text": [
            "2\n"
          ]
        },
        {
          "output_type": "stream",
          "name": "stderr",
          "text": [
            "\r 12%|█▏        | 17/137 [01:57<13:30,  6.76s/it]"
          ]
        },
        {
          "output_type": "stream",
          "name": "stdout",
          "text": [
            "0\n"
          ]
        },
        {
          "output_type": "stream",
          "name": "stderr",
          "text": [
            "\r 13%|█▎        | 18/137 [02:04<13:10,  6.65s/it]"
          ]
        },
        {
          "output_type": "stream",
          "name": "stdout",
          "text": [
            "4\n"
          ]
        },
        {
          "output_type": "stream",
          "name": "stderr",
          "text": [
            "\r 14%|█▍        | 19/137 [02:11<13:21,  6.79s/it]"
          ]
        },
        {
          "output_type": "stream",
          "name": "stdout",
          "text": [
            "2\n"
          ]
        },
        {
          "output_type": "stream",
          "name": "stderr",
          "text": [
            "\r 15%|█▍        | 20/137 [02:17<12:55,  6.63s/it]"
          ]
        },
        {
          "output_type": "stream",
          "name": "stdout",
          "text": [
            "4\n"
          ]
        },
        {
          "output_type": "stream",
          "name": "stderr",
          "text": [
            "\r 15%|█▌        | 21/137 [02:23<12:41,  6.56s/it]"
          ]
        },
        {
          "output_type": "stream",
          "name": "stdout",
          "text": [
            "4\n"
          ]
        },
        {
          "output_type": "stream",
          "name": "stderr",
          "text": [
            "\r 16%|█▌        | 22/137 [02:29<12:21,  6.45s/it]"
          ]
        },
        {
          "output_type": "stream",
          "name": "stdout",
          "text": [
            "4\n"
          ]
        },
        {
          "output_type": "stream",
          "name": "stderr",
          "text": [
            "\r 17%|█▋        | 23/137 [02:36<12:14,  6.44s/it]"
          ]
        },
        {
          "output_type": "stream",
          "name": "stdout",
          "text": [
            "4\n"
          ]
        },
        {
          "output_type": "stream",
          "name": "stderr",
          "text": [
            "\r 18%|█▊        | 24/137 [02:42<11:59,  6.37s/it]"
          ]
        },
        {
          "output_type": "stream",
          "name": "stdout",
          "text": [
            "2\n"
          ]
        },
        {
          "output_type": "stream",
          "name": "stderr",
          "text": [
            "\r 18%|█▊        | 25/137 [02:49<11:54,  6.38s/it]"
          ]
        },
        {
          "output_type": "stream",
          "name": "stdout",
          "text": [
            "3\n"
          ]
        },
        {
          "output_type": "stream",
          "name": "stderr",
          "text": [
            "\r 19%|█▉        | 26/137 [02:55<11:43,  6.34s/it]"
          ]
        },
        {
          "output_type": "stream",
          "name": "stdout",
          "text": [
            "4\n"
          ]
        },
        {
          "output_type": "stream",
          "name": "stderr",
          "text": [
            "\r 20%|█▉        | 27/137 [03:02<12:17,  6.70s/it]"
          ]
        },
        {
          "output_type": "stream",
          "name": "stdout",
          "text": [
            "3\n"
          ]
        },
        {
          "output_type": "stream",
          "name": "stderr",
          "text": [
            "\r 20%|██        | 28/137 [03:10<12:28,  6.87s/it]"
          ]
        },
        {
          "output_type": "stream",
          "name": "stdout",
          "text": [
            "3\n"
          ]
        },
        {
          "output_type": "stream",
          "name": "stderr",
          "text": [
            "\r 21%|██        | 29/137 [03:17<12:43,  7.07s/it]"
          ]
        },
        {
          "output_type": "stream",
          "name": "stdout",
          "text": [
            "2\n"
          ]
        },
        {
          "output_type": "stream",
          "name": "stderr",
          "text": [
            "\r 22%|██▏       | 30/137 [03:24<12:19,  6.92s/it]"
          ]
        },
        {
          "output_type": "stream",
          "name": "stdout",
          "text": [
            "2\n"
          ]
        },
        {
          "output_type": "stream",
          "name": "stderr",
          "text": [
            "\r 23%|██▎       | 31/137 [03:30<11:58,  6.77s/it]"
          ]
        },
        {
          "output_type": "stream",
          "name": "stdout",
          "text": [
            "2\n"
          ]
        },
        {
          "output_type": "stream",
          "name": "stderr",
          "text": [
            "\r 23%|██▎       | 32/137 [03:36<11:35,  6.62s/it]"
          ]
        },
        {
          "output_type": "stream",
          "name": "stdout",
          "text": [
            "2\n"
          ]
        },
        {
          "output_type": "stream",
          "name": "stderr",
          "text": [
            "\r 24%|██▍       | 33/137 [03:43<11:22,  6.57s/it]"
          ]
        },
        {
          "output_type": "stream",
          "name": "stdout",
          "text": [
            "2\n"
          ]
        },
        {
          "output_type": "stream",
          "name": "stderr",
          "text": [
            "\r 25%|██▍       | 34/137 [03:49<11:12,  6.53s/it]"
          ]
        },
        {
          "output_type": "stream",
          "name": "stdout",
          "text": [
            "2\n"
          ]
        },
        {
          "output_type": "stream",
          "name": "stderr",
          "text": [
            "\r 26%|██▌       | 35/137 [03:56<11:00,  6.47s/it]"
          ]
        },
        {
          "output_type": "stream",
          "name": "stdout",
          "text": [
            "3\n"
          ]
        },
        {
          "output_type": "stream",
          "name": "stderr",
          "text": [
            "\r 26%|██▋       | 36/137 [04:02<10:46,  6.40s/it]"
          ]
        },
        {
          "output_type": "stream",
          "name": "stdout",
          "text": [
            "2\n"
          ]
        },
        {
          "output_type": "stream",
          "name": "stderr",
          "text": [
            "\r 27%|██▋       | 37/137 [04:08<10:40,  6.41s/it]"
          ]
        },
        {
          "output_type": "stream",
          "name": "stdout",
          "text": [
            "2\n"
          ]
        },
        {
          "output_type": "stream",
          "name": "stderr",
          "text": [
            "\r 28%|██▊       | 38/137 [04:14<10:27,  6.34s/it]"
          ]
        },
        {
          "output_type": "stream",
          "name": "stdout",
          "text": [
            "2\n"
          ]
        },
        {
          "output_type": "stream",
          "name": "stderr",
          "text": [
            "\r 28%|██▊       | 39/137 [04:21<10:22,  6.36s/it]"
          ]
        },
        {
          "output_type": "stream",
          "name": "stdout",
          "text": [
            "2\n"
          ]
        },
        {
          "output_type": "stream",
          "name": "stderr",
          "text": [
            "\r 29%|██▉       | 40/137 [04:27<10:10,  6.29s/it]"
          ]
        },
        {
          "output_type": "stream",
          "name": "stdout",
          "text": [
            "3\n"
          ]
        },
        {
          "output_type": "stream",
          "name": "stderr",
          "text": [
            "\r 30%|██▉       | 41/137 [04:33<10:03,  6.28s/it]"
          ]
        },
        {
          "output_type": "stream",
          "name": "stdout",
          "text": [
            "3\n"
          ]
        },
        {
          "output_type": "stream",
          "name": "stderr",
          "text": [
            "\r 31%|███       | 42/137 [04:39<09:53,  6.24s/it]"
          ]
        },
        {
          "output_type": "stream",
          "name": "stdout",
          "text": [
            "3\n"
          ]
        },
        {
          "output_type": "stream",
          "name": "stderr",
          "text": [
            "\r 31%|███▏      | 43/137 [04:46<09:47,  6.25s/it]"
          ]
        },
        {
          "output_type": "stream",
          "name": "stdout",
          "text": [
            "3\n"
          ]
        },
        {
          "output_type": "stream",
          "name": "stderr",
          "text": [
            "\r 32%|███▏      | 44/137 [04:52<09:37,  6.21s/it]"
          ]
        },
        {
          "output_type": "stream",
          "name": "stdout",
          "text": [
            "3\n"
          ]
        },
        {
          "output_type": "stream",
          "name": "stderr",
          "text": [
            "\r 33%|███▎      | 45/137 [05:00<10:16,  6.70s/it]"
          ]
        },
        {
          "output_type": "stream",
          "name": "stdout",
          "text": [
            "3\n"
          ]
        },
        {
          "output_type": "stream",
          "name": "stderr",
          "text": [
            "\r 34%|███▎      | 46/137 [05:06<09:54,  6.53s/it]"
          ]
        },
        {
          "output_type": "stream",
          "name": "stdout",
          "text": [
            "3\n"
          ]
        },
        {
          "output_type": "stream",
          "name": "stderr",
          "text": [
            "\r 34%|███▍      | 47/137 [05:14<10:23,  6.92s/it]"
          ]
        },
        {
          "output_type": "stream",
          "name": "stdout",
          "text": [
            "3\n"
          ]
        },
        {
          "output_type": "stream",
          "name": "stderr",
          "text": [
            "\r 35%|███▌      | 48/137 [05:21<10:30,  7.08s/it]"
          ]
        },
        {
          "output_type": "stream",
          "name": "stdout",
          "text": [
            "3\n"
          ]
        },
        {
          "output_type": "stream",
          "name": "stderr",
          "text": [
            "\r 36%|███▌      | 49/137 [05:28<10:13,  6.97s/it]"
          ]
        },
        {
          "output_type": "stream",
          "name": "stdout",
          "text": [
            "3\n"
          ]
        },
        {
          "output_type": "stream",
          "name": "stderr",
          "text": [
            "\r 36%|███▋      | 50/137 [05:34<09:49,  6.78s/it]"
          ]
        },
        {
          "output_type": "stream",
          "name": "stdout",
          "text": [
            "2\n"
          ]
        },
        {
          "output_type": "stream",
          "name": "stderr",
          "text": [
            "\r 37%|███▋      | 51/137 [05:40<09:25,  6.58s/it]"
          ]
        },
        {
          "output_type": "stream",
          "name": "stdout",
          "text": [
            "2\n"
          ]
        },
        {
          "output_type": "stream",
          "name": "stderr",
          "text": [
            "\r 38%|███▊      | 52/137 [05:46<09:11,  6.49s/it]"
          ]
        },
        {
          "output_type": "stream",
          "name": "stdout",
          "text": [
            "3\n"
          ]
        },
        {
          "output_type": "stream",
          "name": "stderr",
          "text": [
            "\r 39%|███▊      | 53/137 [05:53<08:58,  6.41s/it]"
          ]
        },
        {
          "output_type": "stream",
          "name": "stdout",
          "text": [
            "3\n"
          ]
        },
        {
          "output_type": "stream",
          "name": "stderr",
          "text": [
            "\r 39%|███▉      | 54/137 [05:59<08:49,  6.38s/it]"
          ]
        },
        {
          "output_type": "stream",
          "name": "stdout",
          "text": [
            "3\n"
          ]
        },
        {
          "output_type": "stream",
          "name": "stderr",
          "text": [
            "\r 40%|████      | 55/137 [06:05<08:42,  6.37s/it]"
          ]
        },
        {
          "output_type": "stream",
          "name": "stdout",
          "text": [
            "2\n"
          ]
        },
        {
          "output_type": "stream",
          "name": "stderr",
          "text": [
            "\r 41%|████      | 56/137 [06:11<08:30,  6.30s/it]"
          ]
        },
        {
          "output_type": "stream",
          "name": "stdout",
          "text": [
            "2\n"
          ]
        },
        {
          "output_type": "stream",
          "name": "stderr",
          "text": [
            "\r 42%|████▏     | 57/137 [06:18<08:24,  6.30s/it]"
          ]
        },
        {
          "output_type": "stream",
          "name": "stdout",
          "text": [
            "2\n"
          ]
        },
        {
          "output_type": "stream",
          "name": "stderr",
          "text": [
            "\r 42%|████▏     | 58/137 [06:24<08:15,  6.27s/it]"
          ]
        },
        {
          "output_type": "stream",
          "name": "stdout",
          "text": [
            "2\n"
          ]
        },
        {
          "output_type": "stream",
          "name": "stderr",
          "text": [
            "\r 43%|████▎     | 59/137 [06:30<08:13,  6.33s/it]"
          ]
        },
        {
          "output_type": "stream",
          "name": "stdout",
          "text": [
            "2\n"
          ]
        },
        {
          "output_type": "stream",
          "name": "stderr",
          "text": [
            "\r 44%|████▍     | 60/137 [06:37<08:03,  6.27s/it]"
          ]
        },
        {
          "output_type": "stream",
          "name": "stdout",
          "text": [
            "4\n"
          ]
        },
        {
          "output_type": "stream",
          "name": "stderr",
          "text": [
            "\r 45%|████▍     | 61/137 [06:43<07:58,  6.30s/it]"
          ]
        },
        {
          "output_type": "stream",
          "name": "stdout",
          "text": [
            "4\n"
          ]
        },
        {
          "output_type": "stream",
          "name": "stderr",
          "text": [
            "\r 45%|████▌     | 62/137 [06:49<07:48,  6.25s/it]"
          ]
        },
        {
          "output_type": "stream",
          "name": "stdout",
          "text": [
            "4\n"
          ]
        },
        {
          "output_type": "stream",
          "name": "stderr",
          "text": [
            "\r 46%|████▌     | 63/137 [06:55<07:45,  6.29s/it]"
          ]
        },
        {
          "output_type": "stream",
          "name": "stdout",
          "text": [
            "4\n"
          ]
        },
        {
          "output_type": "stream",
          "name": "stderr",
          "text": [
            "\r 47%|████▋     | 64/137 [07:02<07:37,  6.26s/it]"
          ]
        },
        {
          "output_type": "stream",
          "name": "stdout",
          "text": [
            "2\n"
          ]
        },
        {
          "output_type": "stream",
          "name": "stderr",
          "text": [
            "\r 47%|████▋     | 65/137 [07:08<07:30,  6.26s/it]"
          ]
        },
        {
          "output_type": "stream",
          "name": "stdout",
          "text": [
            "2\n"
          ]
        },
        {
          "output_type": "stream",
          "name": "stderr",
          "text": [
            "\r 48%|████▊     | 66/137 [07:15<07:40,  6.49s/it]"
          ]
        },
        {
          "output_type": "stream",
          "name": "stdout",
          "text": [
            "0\n"
          ]
        },
        {
          "output_type": "stream",
          "name": "stderr",
          "text": [
            "\r 49%|████▉     | 67/137 [07:22<07:52,  6.75s/it]"
          ]
        },
        {
          "output_type": "stream",
          "name": "stdout",
          "text": [
            "2\n"
          ]
        },
        {
          "output_type": "stream",
          "name": "stderr",
          "text": [
            "\r 50%|████▉     | 68/137 [07:29<07:54,  6.88s/it]"
          ]
        },
        {
          "output_type": "stream",
          "name": "stdout",
          "text": [
            "3\n"
          ]
        },
        {
          "output_type": "stream",
          "name": "stderr",
          "text": [
            "\r 50%|█████     | 69/137 [07:36<07:41,  6.79s/it]"
          ]
        },
        {
          "output_type": "stream",
          "name": "stdout",
          "text": [
            "0\n"
          ]
        },
        {
          "output_type": "stream",
          "name": "stderr",
          "text": [
            "\r 51%|█████     | 70/137 [07:42<07:23,  6.62s/it]"
          ]
        },
        {
          "output_type": "stream",
          "name": "stdout",
          "text": [
            "3\n"
          ]
        },
        {
          "output_type": "stream",
          "name": "stderr",
          "text": [
            "\r 52%|█████▏    | 71/137 [07:50<07:37,  6.93s/it]"
          ]
        },
        {
          "output_type": "stream",
          "name": "stdout",
          "text": [
            "3\n"
          ]
        },
        {
          "output_type": "stream",
          "name": "stderr",
          "text": [
            "\r 53%|█████▎    | 72/137 [07:56<07:16,  6.71s/it]"
          ]
        },
        {
          "output_type": "stream",
          "name": "stdout",
          "text": [
            "3\n"
          ]
        },
        {
          "output_type": "stream",
          "name": "stderr",
          "text": [
            "\r 53%|█████▎    | 73/137 [08:03<07:02,  6.61s/it]"
          ]
        },
        {
          "output_type": "stream",
          "name": "stdout",
          "text": [
            "3\n"
          ]
        },
        {
          "output_type": "stream",
          "name": "stderr",
          "text": [
            "\r 54%|█████▍    | 74/137 [08:09<06:49,  6.51s/it]"
          ]
        },
        {
          "output_type": "stream",
          "name": "stdout",
          "text": [
            "3\n"
          ]
        },
        {
          "output_type": "stream",
          "name": "stderr",
          "text": [
            "\r 55%|█████▍    | 75/137 [08:15<06:39,  6.44s/it]"
          ]
        },
        {
          "output_type": "stream",
          "name": "stdout",
          "text": [
            "3\n"
          ]
        },
        {
          "output_type": "stream",
          "name": "stderr",
          "text": [
            "\r 55%|█████▌    | 76/137 [08:22<06:37,  6.51s/it]"
          ]
        },
        {
          "output_type": "stream",
          "name": "stdout",
          "text": [
            "3\n"
          ]
        },
        {
          "output_type": "stream",
          "name": "stderr",
          "text": [
            "\r 56%|█████▌    | 77/137 [08:28<06:27,  6.46s/it]"
          ]
        },
        {
          "output_type": "stream",
          "name": "stdout",
          "text": [
            "3\n"
          ]
        },
        {
          "output_type": "stream",
          "name": "stderr",
          "text": [
            "\r 57%|█████▋    | 78/137 [08:36<06:40,  6.79s/it]"
          ]
        },
        {
          "output_type": "stream",
          "name": "stdout",
          "text": [
            "3\n"
          ]
        },
        {
          "output_type": "stream",
          "name": "stderr",
          "text": [
            "\r 58%|█████▊    | 79/137 [08:42<06:22,  6.59s/it]"
          ]
        },
        {
          "output_type": "stream",
          "name": "stdout",
          "text": [
            "3\n"
          ]
        },
        {
          "output_type": "stream",
          "name": "stderr",
          "text": [
            "\r 58%|█████▊    | 80/137 [08:48<06:10,  6.49s/it]"
          ]
        },
        {
          "output_type": "stream",
          "name": "stdout",
          "text": [
            "3\n"
          ]
        },
        {
          "output_type": "stream",
          "name": "stderr",
          "text": [
            "\r 59%|█████▉    | 81/137 [08:54<06:01,  6.45s/it]"
          ]
        },
        {
          "output_type": "stream",
          "name": "stdout",
          "text": [
            "3\n"
          ]
        },
        {
          "output_type": "stream",
          "name": "stderr",
          "text": [
            "\r 60%|█████▉    | 82/137 [09:01<05:54,  6.44s/it]"
          ]
        },
        {
          "output_type": "stream",
          "name": "stdout",
          "text": [
            "2\n"
          ]
        },
        {
          "output_type": "stream",
          "name": "stderr",
          "text": [
            "\r 61%|██████    | 83/137 [09:07<05:45,  6.40s/it]"
          ]
        },
        {
          "output_type": "stream",
          "name": "stdout",
          "text": [
            "2\n"
          ]
        },
        {
          "output_type": "stream",
          "name": "stderr",
          "text": [
            "\r 61%|██████▏   | 84/137 [09:14<05:47,  6.56s/it]"
          ]
        },
        {
          "output_type": "stream",
          "name": "stdout",
          "text": [
            "3\n"
          ]
        },
        {
          "output_type": "stream",
          "name": "stderr",
          "text": [
            "\r 62%|██████▏   | 85/137 [09:20<05:36,  6.48s/it]"
          ]
        },
        {
          "output_type": "stream",
          "name": "stdout",
          "text": [
            "2\n"
          ]
        },
        {
          "output_type": "stream",
          "name": "stderr",
          "text": [
            "\r 63%|██████▎   | 86/137 [09:28<05:50,  6.87s/it]"
          ]
        },
        {
          "output_type": "stream",
          "name": "stdout",
          "text": [
            "2\n"
          ]
        },
        {
          "output_type": "stream",
          "name": "stderr",
          "text": [
            "\r 64%|██████▎   | 87/137 [09:36<05:51,  7.02s/it]"
          ]
        },
        {
          "output_type": "stream",
          "name": "stdout",
          "text": [
            "2\n"
          ]
        },
        {
          "output_type": "stream",
          "name": "stderr",
          "text": [
            "\r 64%|██████▍   | 88/137 [09:43<05:44,  7.04s/it]"
          ]
        },
        {
          "output_type": "stream",
          "name": "stdout",
          "text": [
            "2\n"
          ]
        },
        {
          "output_type": "stream",
          "name": "stderr",
          "text": [
            "\r 65%|██████▍   | 89/137 [09:49<05:24,  6.76s/it]"
          ]
        },
        {
          "output_type": "stream",
          "name": "stdout",
          "text": [
            "2\n"
          ]
        },
        {
          "output_type": "stream",
          "name": "stderr",
          "text": [
            "\r 66%|██████▌   | 90/137 [09:55<05:12,  6.65s/it]"
          ]
        },
        {
          "output_type": "stream",
          "name": "stdout",
          "text": [
            "2\n"
          ]
        },
        {
          "output_type": "stream",
          "name": "stderr",
          "text": [
            "\r 66%|██████▋   | 91/137 [10:01<04:58,  6.48s/it]"
          ]
        },
        {
          "output_type": "stream",
          "name": "stdout",
          "text": [
            "2\n"
          ]
        },
        {
          "output_type": "stream",
          "name": "stderr",
          "text": [
            "\r 67%|██████▋   | 92/137 [10:08<04:51,  6.48s/it]"
          ]
        },
        {
          "output_type": "stream",
          "name": "stdout",
          "text": [
            "3\n"
          ]
        },
        {
          "output_type": "stream",
          "name": "stderr",
          "text": [
            "\r 68%|██████▊   | 93/137 [10:14<04:40,  6.38s/it]"
          ]
        },
        {
          "output_type": "stream",
          "name": "stdout",
          "text": [
            "2\n"
          ]
        },
        {
          "output_type": "stream",
          "name": "stderr",
          "text": [
            "\r 69%|██████▊   | 94/137 [10:20<04:33,  6.35s/it]"
          ]
        },
        {
          "output_type": "stream",
          "name": "stdout",
          "text": [
            "3\n"
          ]
        },
        {
          "output_type": "stream",
          "name": "stderr",
          "text": [
            "\r 69%|██████▉   | 95/137 [10:26<04:24,  6.30s/it]"
          ]
        },
        {
          "output_type": "stream",
          "name": "stdout",
          "text": [
            "2\n"
          ]
        },
        {
          "output_type": "stream",
          "name": "stderr",
          "text": [
            "\r 70%|███████   | 96/137 [10:33<04:18,  6.31s/it]"
          ]
        },
        {
          "output_type": "stream",
          "name": "stdout",
          "text": [
            "3\n"
          ]
        },
        {
          "output_type": "stream",
          "name": "stderr",
          "text": [
            "\r 71%|███████   | 97/137 [10:39<04:11,  6.28s/it]"
          ]
        },
        {
          "output_type": "stream",
          "name": "stdout",
          "text": [
            "3\n"
          ]
        },
        {
          "output_type": "stream",
          "name": "stderr",
          "text": [
            "\r 72%|███████▏  | 98/137 [10:45<04:04,  6.28s/it]"
          ]
        },
        {
          "output_type": "stream",
          "name": "stdout",
          "text": [
            "2\n"
          ]
        },
        {
          "output_type": "stream",
          "name": "stderr",
          "text": [
            "\r 72%|███████▏  | 99/137 [10:51<03:58,  6.27s/it]"
          ]
        },
        {
          "output_type": "stream",
          "name": "stdout",
          "text": [
            "2\n"
          ]
        },
        {
          "output_type": "stream",
          "name": "stderr",
          "text": [
            "\r 73%|███████▎  | 100/137 [10:58<03:52,  6.29s/it]"
          ]
        },
        {
          "output_type": "stream",
          "name": "stdout",
          "text": [
            "3\n"
          ]
        },
        {
          "output_type": "stream",
          "name": "stderr",
          "text": [
            "\r 74%|███████▎  | 101/137 [11:04<03:45,  6.27s/it]"
          ]
        },
        {
          "output_type": "stream",
          "name": "stdout",
          "text": [
            "2\n"
          ]
        },
        {
          "output_type": "stream",
          "name": "stderr",
          "text": [
            "\r 74%|███████▍  | 102/137 [11:10<03:40,  6.29s/it]"
          ]
        },
        {
          "output_type": "stream",
          "name": "stdout",
          "text": [
            "3\n"
          ]
        },
        {
          "output_type": "stream",
          "name": "stderr",
          "text": [
            "\r 75%|███████▌  | 103/137 [11:16<03:33,  6.28s/it]"
          ]
        },
        {
          "output_type": "stream",
          "name": "stdout",
          "text": [
            "2\n"
          ]
        },
        {
          "output_type": "stream",
          "name": "stderr",
          "text": [
            "\r 76%|███████▌  | 104/137 [11:23<03:27,  6.28s/it]"
          ]
        },
        {
          "output_type": "stream",
          "name": "stdout",
          "text": [
            "2\n"
          ]
        },
        {
          "output_type": "stream",
          "name": "stderr",
          "text": [
            "\r 77%|███████▋  | 105/137 [11:30<03:29,  6.53s/it]"
          ]
        },
        {
          "output_type": "stream",
          "name": "stdout",
          "text": [
            "2\n"
          ]
        },
        {
          "output_type": "stream",
          "name": "stderr",
          "text": [
            "\r 77%|███████▋  | 106/137 [11:37<03:31,  6.81s/it]"
          ]
        },
        {
          "output_type": "stream",
          "name": "stdout",
          "text": [
            "2\n"
          ]
        },
        {
          "output_type": "stream",
          "name": "stderr",
          "text": [
            "\r 78%|███████▊  | 107/137 [11:45<03:28,  6.94s/it]"
          ]
        },
        {
          "output_type": "stream",
          "name": "stdout",
          "text": [
            "2\n"
          ]
        },
        {
          "output_type": "stream",
          "name": "stderr",
          "text": [
            "\r 79%|███████▉  | 108/137 [11:51<03:18,  6.85s/it]"
          ]
        },
        {
          "output_type": "stream",
          "name": "stdout",
          "text": [
            "2\n"
          ]
        },
        {
          "output_type": "stream",
          "name": "stderr",
          "text": [
            "\r 80%|███████▉  | 109/137 [11:57<03:05,  6.63s/it]"
          ]
        },
        {
          "output_type": "stream",
          "name": "stdout",
          "text": [
            "2\n"
          ]
        },
        {
          "output_type": "stream",
          "name": "stderr",
          "text": [
            "\r 80%|████████  | 110/137 [12:04<02:56,  6.54s/it]"
          ]
        },
        {
          "output_type": "stream",
          "name": "stdout",
          "text": [
            "2\n"
          ]
        },
        {
          "output_type": "stream",
          "name": "stderr",
          "text": [
            "\r 81%|████████  | 111/137 [12:10<02:48,  6.46s/it]"
          ]
        },
        {
          "output_type": "stream",
          "name": "stdout",
          "text": [
            "3\n"
          ]
        },
        {
          "output_type": "stream",
          "name": "stderr",
          "text": [
            "\r 82%|████████▏ | 112/137 [12:18<02:50,  6.83s/it]"
          ]
        },
        {
          "output_type": "stream",
          "name": "stdout",
          "text": [
            "3\n"
          ]
        },
        {
          "output_type": "stream",
          "name": "stderr",
          "text": [
            "\r 82%|████████▏ | 113/137 [12:24<02:39,  6.63s/it]"
          ]
        },
        {
          "output_type": "stream",
          "name": "stdout",
          "text": [
            "2\n"
          ]
        },
        {
          "output_type": "stream",
          "name": "stderr",
          "text": [
            "\r 83%|████████▎ | 114/137 [12:30<02:31,  6.57s/it]"
          ]
        },
        {
          "output_type": "stream",
          "name": "stdout",
          "text": [
            "3\n"
          ]
        },
        {
          "output_type": "stream",
          "name": "stderr",
          "text": [
            "\r 84%|████████▍ | 115/137 [12:36<02:21,  6.45s/it]"
          ]
        },
        {
          "output_type": "stream",
          "name": "stdout",
          "text": [
            "3\n"
          ]
        },
        {
          "output_type": "stream",
          "name": "stderr",
          "text": [
            "\r 85%|████████▍ | 116/137 [12:43<02:14,  6.39s/it]"
          ]
        },
        {
          "output_type": "stream",
          "name": "stdout",
          "text": [
            "3\n"
          ]
        },
        {
          "output_type": "stream",
          "name": "stderr",
          "text": [
            "\r 85%|████████▌ | 117/137 [12:49<02:06,  6.35s/it]"
          ]
        },
        {
          "output_type": "stream",
          "name": "stdout",
          "text": [
            "3\n"
          ]
        },
        {
          "output_type": "stream",
          "name": "stderr",
          "text": [
            "\r 86%|████████▌ | 118/137 [12:55<02:00,  6.35s/it]"
          ]
        },
        {
          "output_type": "stream",
          "name": "stdout",
          "text": [
            "3\n"
          ]
        },
        {
          "output_type": "stream",
          "name": "stderr",
          "text": [
            "\r 87%|████████▋ | 119/137 [13:01<01:53,  6.32s/it]"
          ]
        },
        {
          "output_type": "stream",
          "name": "stdout",
          "text": [
            "4\n"
          ]
        },
        {
          "output_type": "stream",
          "name": "stderr",
          "text": [
            "\r 88%|████████▊ | 120/137 [13:08<01:47,  6.32s/it]"
          ]
        },
        {
          "output_type": "stream",
          "name": "stdout",
          "text": [
            "4\n"
          ]
        },
        {
          "output_type": "stream",
          "name": "stderr",
          "text": [
            "\r 88%|████████▊ | 121/137 [13:14<01:41,  6.32s/it]"
          ]
        },
        {
          "output_type": "stream",
          "name": "stdout",
          "text": [
            "3\n"
          ]
        },
        {
          "output_type": "stream",
          "name": "stderr",
          "text": [
            "\r 89%|████████▉ | 122/137 [13:20<01:34,  6.30s/it]"
          ]
        },
        {
          "output_type": "stream",
          "name": "stdout",
          "text": [
            "0\n"
          ]
        },
        {
          "output_type": "stream",
          "name": "stderr",
          "text": [
            "\r 90%|████████▉ | 123/137 [13:27<01:28,  6.30s/it]"
          ]
        },
        {
          "output_type": "stream",
          "name": "stdout",
          "text": [
            "4\n"
          ]
        },
        {
          "output_type": "stream",
          "name": "stderr",
          "text": [
            "\r 91%|█████████ | 124/137 [13:33<01:21,  6.26s/it]"
          ]
        },
        {
          "output_type": "stream",
          "name": "stdout",
          "text": [
            "0\n"
          ]
        },
        {
          "output_type": "stream",
          "name": "stderr",
          "text": [
            "\r 91%|█████████ | 125/137 [13:41<01:20,  6.74s/it]"
          ]
        },
        {
          "output_type": "stream",
          "name": "stdout",
          "text": [
            "0\n"
          ]
        },
        {
          "output_type": "stream",
          "name": "stderr",
          "text": [
            "\r 92%|█████████▏| 126/137 [13:48<01:16,  6.97s/it]"
          ]
        },
        {
          "output_type": "stream",
          "name": "stdout",
          "text": [
            "3\n"
          ]
        },
        {
          "output_type": "stream",
          "name": "stderr",
          "text": [
            "\r 93%|█████████▎| 127/137 [13:55<01:08,  6.88s/it]"
          ]
        },
        {
          "output_type": "stream",
          "name": "stdout",
          "text": [
            "2\n"
          ]
        },
        {
          "output_type": "stream",
          "name": "stderr",
          "text": [
            "\r 93%|█████████▎| 128/137 [14:01<01:00,  6.75s/it]"
          ]
        },
        {
          "output_type": "stream",
          "name": "stdout",
          "text": [
            "3\n"
          ]
        },
        {
          "output_type": "stream",
          "name": "stderr",
          "text": [
            "\r 94%|█████████▍| 129/137 [14:08<00:52,  6.60s/it]"
          ]
        },
        {
          "output_type": "stream",
          "name": "stdout",
          "text": [
            "2\n"
          ]
        },
        {
          "output_type": "stream",
          "name": "stderr",
          "text": [
            "\r 95%|█████████▍| 130/137 [14:14<00:45,  6.56s/it]"
          ]
        },
        {
          "output_type": "stream",
          "name": "stdout",
          "text": [
            "3\n"
          ]
        },
        {
          "output_type": "stream",
          "name": "stderr",
          "text": [
            "\r 96%|█████████▌| 131/137 [14:20<00:38,  6.43s/it]"
          ]
        },
        {
          "output_type": "stream",
          "name": "stdout",
          "text": [
            "2\n"
          ]
        },
        {
          "output_type": "stream",
          "name": "stderr",
          "text": [
            "\r 96%|█████████▋| 132/137 [14:27<00:32,  6.40s/it]"
          ]
        },
        {
          "output_type": "stream",
          "name": "stdout",
          "text": [
            "2\n"
          ]
        },
        {
          "output_type": "stream",
          "name": "stderr",
          "text": [
            "\r 97%|█████████▋| 133/137 [14:33<00:25,  6.36s/it]"
          ]
        },
        {
          "output_type": "stream",
          "name": "stdout",
          "text": [
            "2\n"
          ]
        },
        {
          "output_type": "stream",
          "name": "stderr",
          "text": [
            "\r 98%|█████████▊| 134/137 [14:39<00:19,  6.34s/it]"
          ]
        },
        {
          "output_type": "stream",
          "name": "stdout",
          "text": [
            "3\n"
          ]
        },
        {
          "output_type": "stream",
          "name": "stderr",
          "text": [
            "\r 99%|█████████▊| 135/137 [14:45<00:12,  6.33s/it]"
          ]
        },
        {
          "output_type": "stream",
          "name": "stdout",
          "text": [
            "0\n"
          ]
        },
        {
          "output_type": "stream",
          "name": "stderr",
          "text": [
            "\r 99%|█████████▉| 136/137 [14:52<00:06,  6.34s/it]"
          ]
        },
        {
          "output_type": "stream",
          "name": "stdout",
          "text": [
            "3\n"
          ]
        },
        {
          "output_type": "stream",
          "name": "stderr",
          "text": [
            "100%|██████████| 137/137 [14:58<00:00,  6.56s/it]\n"
          ]
        },
        {
          "output_type": "stream",
          "name": "stdout",
          "text": [
            "3\n"
          ]
        },
        {
          "output_type": "stream",
          "name": "stderr",
          "text": [
            "  1%|          | 1/111 [00:06<12:36,  6.88s/it]"
          ]
        },
        {
          "output_type": "stream",
          "name": "stdout",
          "text": [
            "2\n"
          ]
        },
        {
          "output_type": "stream",
          "name": "stderr",
          "text": [
            "\r  2%|▏         | 2/111 [00:14<12:48,  7.05s/it]"
          ]
        },
        {
          "output_type": "stream",
          "name": "stdout",
          "text": [
            "2\n"
          ]
        },
        {
          "output_type": "stream",
          "name": "stderr",
          "text": [
            "\r  3%|▎         | 3/111 [00:20<12:10,  6.76s/it]"
          ]
        },
        {
          "output_type": "stream",
          "name": "stdout",
          "text": [
            "2\n"
          ]
        },
        {
          "output_type": "stream",
          "name": "stderr",
          "text": [
            "\r  4%|▎         | 4/111 [00:27<11:57,  6.70s/it]"
          ]
        },
        {
          "output_type": "stream",
          "name": "stdout",
          "text": [
            "2\n"
          ]
        },
        {
          "output_type": "stream",
          "name": "stderr",
          "text": [
            "\r  5%|▍         | 5/111 [00:33<11:57,  6.77s/it]"
          ]
        },
        {
          "output_type": "stream",
          "name": "stdout",
          "text": [
            "2\n"
          ]
        },
        {
          "output_type": "stream",
          "name": "stderr",
          "text": [
            "\r  5%|▌         | 6/111 [00:40<11:54,  6.80s/it]"
          ]
        },
        {
          "output_type": "stream",
          "name": "stdout",
          "text": [
            "2\n"
          ]
        },
        {
          "output_type": "stream",
          "name": "stderr",
          "text": [
            "\r  6%|▋         | 7/111 [00:48<12:06,  6.98s/it]"
          ]
        },
        {
          "output_type": "stream",
          "name": "stdout",
          "text": [
            "2\n"
          ]
        },
        {
          "output_type": "stream",
          "name": "stderr",
          "text": [
            "\r  7%|▋         | 8/111 [00:55<12:05,  7.04s/it]"
          ]
        },
        {
          "output_type": "stream",
          "name": "stdout",
          "text": [
            "2\n"
          ]
        },
        {
          "output_type": "stream",
          "name": "stderr",
          "text": [
            "\r  8%|▊         | 9/111 [01:02<12:09,  7.15s/it]"
          ]
        },
        {
          "output_type": "stream",
          "name": "stdout",
          "text": [
            "2\n"
          ]
        },
        {
          "output_type": "stream",
          "name": "stderr",
          "text": [
            "\r  9%|▉         | 10/111 [01:09<11:38,  6.91s/it]"
          ]
        },
        {
          "output_type": "stream",
          "name": "stdout",
          "text": [
            "2\n"
          ]
        },
        {
          "output_type": "stream",
          "name": "stderr",
          "text": [
            "\r 10%|▉         | 11/111 [01:16<11:31,  6.91s/it]"
          ]
        },
        {
          "output_type": "stream",
          "name": "stdout",
          "text": [
            "2\n"
          ]
        },
        {
          "output_type": "stream",
          "name": "stderr",
          "text": [
            "\r 11%|█         | 12/111 [01:22<11:19,  6.86s/it]"
          ]
        },
        {
          "output_type": "stream",
          "name": "stdout",
          "text": [
            "2\n"
          ]
        },
        {
          "output_type": "stream",
          "name": "stderr",
          "text": [
            "\r 12%|█▏        | 13/111 [01:29<10:58,  6.72s/it]"
          ]
        },
        {
          "output_type": "stream",
          "name": "stdout",
          "text": [
            "2\n"
          ]
        },
        {
          "output_type": "stream",
          "name": "stderr",
          "text": [
            "\r 13%|█▎        | 14/111 [01:35<10:37,  6.57s/it]"
          ]
        },
        {
          "output_type": "stream",
          "name": "stdout",
          "text": [
            "2\n"
          ]
        },
        {
          "output_type": "stream",
          "name": "stderr",
          "text": [
            "\r 14%|█▎        | 15/111 [01:41<10:24,  6.51s/it]"
          ]
        },
        {
          "output_type": "stream",
          "name": "stdout",
          "text": [
            "2\n"
          ]
        },
        {
          "output_type": "stream",
          "name": "stderr",
          "text": [
            "\r 14%|█▍        | 16/111 [01:48<10:26,  6.60s/it]"
          ]
        },
        {
          "output_type": "stream",
          "name": "stdout",
          "text": [
            "2\n"
          ]
        },
        {
          "output_type": "stream",
          "name": "stderr",
          "text": [
            "\r 15%|█▌        | 17/111 [01:55<10:16,  6.56s/it]"
          ]
        },
        {
          "output_type": "stream",
          "name": "stdout",
          "text": [
            "2\n"
          ]
        },
        {
          "output_type": "stream",
          "name": "stderr",
          "text": [
            "\r 16%|█▌        | 18/111 [02:01<10:00,  6.45s/it]"
          ]
        },
        {
          "output_type": "stream",
          "name": "stdout",
          "text": [
            "2\n"
          ]
        },
        {
          "output_type": "stream",
          "name": "stderr",
          "text": [
            "\r 17%|█▋        | 19/111 [02:08<10:04,  6.57s/it]"
          ]
        },
        {
          "output_type": "stream",
          "name": "stdout",
          "text": [
            "2\n"
          ]
        },
        {
          "output_type": "stream",
          "name": "stderr",
          "text": [
            "\r 18%|█▊        | 20/111 [02:14<10:01,  6.61s/it]"
          ]
        },
        {
          "output_type": "stream",
          "name": "stdout",
          "text": [
            "2\n"
          ]
        },
        {
          "output_type": "stream",
          "name": "stderr",
          "text": [
            "\r 19%|█▉        | 21/111 [02:21<09:53,  6.59s/it]"
          ]
        },
        {
          "output_type": "stream",
          "name": "stdout",
          "text": [
            "2\n"
          ]
        },
        {
          "output_type": "stream",
          "name": "stderr",
          "text": [
            "\r 20%|█▉        | 22/111 [02:27<09:35,  6.46s/it]"
          ]
        },
        {
          "output_type": "stream",
          "name": "stdout",
          "text": [
            "2\n"
          ]
        },
        {
          "output_type": "stream",
          "name": "stderr",
          "text": [
            "\r 21%|██        | 23/111 [02:34<09:41,  6.60s/it]"
          ]
        },
        {
          "output_type": "stream",
          "name": "stdout",
          "text": [
            "2\n"
          ]
        },
        {
          "output_type": "stream",
          "name": "stderr",
          "text": [
            "\r 22%|██▏       | 24/111 [02:40<09:24,  6.49s/it]"
          ]
        },
        {
          "output_type": "stream",
          "name": "stdout",
          "text": [
            "2\n"
          ]
        },
        {
          "output_type": "stream",
          "name": "stderr",
          "text": [
            "\r 23%|██▎       | 25/111 [02:47<09:29,  6.62s/it]"
          ]
        },
        {
          "output_type": "stream",
          "name": "stdout",
          "text": [
            "2\n"
          ]
        },
        {
          "output_type": "stream",
          "name": "stderr",
          "text": [
            "\r 23%|██▎       | 26/111 [02:53<09:12,  6.50s/it]"
          ]
        },
        {
          "output_type": "stream",
          "name": "stdout",
          "text": [
            "2\n"
          ]
        },
        {
          "output_type": "stream",
          "name": "stderr",
          "text": [
            "\r 24%|██▍       | 27/111 [03:01<09:38,  6.89s/it]"
          ]
        },
        {
          "output_type": "stream",
          "name": "stdout",
          "text": [
            "2\n"
          ]
        },
        {
          "output_type": "stream",
          "name": "stderr",
          "text": [
            "\r 25%|██▌       | 28/111 [03:09<09:46,  7.06s/it]"
          ]
        },
        {
          "output_type": "stream",
          "name": "stdout",
          "text": [
            "2\n"
          ]
        },
        {
          "output_type": "stream",
          "name": "stderr",
          "text": [
            "\r 26%|██▌       | 29/111 [03:16<09:38,  7.06s/it]"
          ]
        },
        {
          "output_type": "stream",
          "name": "stdout",
          "text": [
            "2\n"
          ]
        },
        {
          "output_type": "stream",
          "name": "stderr",
          "text": [
            "\r 27%|██▋       | 30/111 [03:22<09:18,  6.89s/it]"
          ]
        },
        {
          "output_type": "stream",
          "name": "stdout",
          "text": [
            "2\n"
          ]
        },
        {
          "output_type": "stream",
          "name": "stderr",
          "text": [
            "\r 28%|██▊       | 31/111 [03:28<08:55,  6.70s/it]"
          ]
        },
        {
          "output_type": "stream",
          "name": "stdout",
          "text": [
            "4\n"
          ]
        },
        {
          "output_type": "stream",
          "name": "stderr",
          "text": [
            "\r 29%|██▉       | 32/111 [03:35<08:42,  6.62s/it]"
          ]
        },
        {
          "output_type": "stream",
          "name": "stdout",
          "text": [
            "4\n"
          ]
        },
        {
          "output_type": "stream",
          "name": "stderr",
          "text": [
            "\r 30%|██▉       | 33/111 [03:41<08:26,  6.49s/it]"
          ]
        },
        {
          "output_type": "stream",
          "name": "stdout",
          "text": [
            "4\n"
          ]
        },
        {
          "output_type": "stream",
          "name": "stderr",
          "text": [
            "\r 31%|███       | 34/111 [03:48<08:29,  6.62s/it]"
          ]
        },
        {
          "output_type": "stream",
          "name": "stdout",
          "text": [
            "4\n"
          ]
        },
        {
          "output_type": "stream",
          "name": "stderr",
          "text": [
            "\r 32%|███▏      | 35/111 [03:54<08:15,  6.51s/it]"
          ]
        },
        {
          "output_type": "stream",
          "name": "stdout",
          "text": [
            "2\n"
          ]
        },
        {
          "output_type": "stream",
          "name": "stderr",
          "text": [
            "\r 32%|███▏      | 36/111 [04:01<08:05,  6.47s/it]"
          ]
        },
        {
          "output_type": "stream",
          "name": "stdout",
          "text": [
            "2\n"
          ]
        },
        {
          "output_type": "stream",
          "name": "stderr",
          "text": [
            "\r 33%|███▎      | 37/111 [04:07<07:54,  6.41s/it]"
          ]
        },
        {
          "output_type": "stream",
          "name": "stdout",
          "text": [
            "2\n"
          ]
        },
        {
          "output_type": "stream",
          "name": "stderr",
          "text": [
            "\r 34%|███▍      | 38/111 [04:14<07:58,  6.56s/it]"
          ]
        },
        {
          "output_type": "stream",
          "name": "stdout",
          "text": [
            "2\n"
          ]
        },
        {
          "output_type": "stream",
          "name": "stderr",
          "text": [
            "\r 35%|███▌      | 39/111 [04:20<07:46,  6.48s/it]"
          ]
        },
        {
          "output_type": "stream",
          "name": "stdout",
          "text": [
            "2\n"
          ]
        },
        {
          "output_type": "stream",
          "name": "stderr",
          "text": [
            "\r 36%|███▌      | 40/111 [04:27<07:48,  6.60s/it]"
          ]
        },
        {
          "output_type": "stream",
          "name": "stdout",
          "text": [
            "2\n"
          ]
        },
        {
          "output_type": "stream",
          "name": "stderr",
          "text": [
            "\r 37%|███▋      | 41/111 [04:33<07:33,  6.47s/it]"
          ]
        },
        {
          "output_type": "stream",
          "name": "stdout",
          "text": [
            "2\n"
          ]
        },
        {
          "output_type": "stream",
          "name": "stderr",
          "text": [
            "\r 38%|███▊      | 42/111 [04:40<07:38,  6.65s/it]"
          ]
        },
        {
          "output_type": "stream",
          "name": "stdout",
          "text": [
            "2\n"
          ]
        },
        {
          "output_type": "stream",
          "name": "stderr",
          "text": [
            "\r 39%|███▊      | 43/111 [04:46<07:22,  6.50s/it]"
          ]
        },
        {
          "output_type": "stream",
          "name": "stdout",
          "text": [
            "2\n"
          ]
        },
        {
          "output_type": "stream",
          "name": "stderr",
          "text": [
            "\r 40%|███▉      | 44/111 [04:53<07:13,  6.47s/it]"
          ]
        },
        {
          "output_type": "stream",
          "name": "stdout",
          "text": [
            "2\n"
          ]
        },
        {
          "output_type": "stream",
          "name": "stderr",
          "text": [
            "\r 41%|████      | 45/111 [04:59<07:12,  6.56s/it]"
          ]
        },
        {
          "output_type": "stream",
          "name": "stdout",
          "text": [
            "2\n"
          ]
        },
        {
          "output_type": "stream",
          "name": "stderr",
          "text": [
            "\r 41%|████▏     | 46/111 [05:06<07:03,  6.51s/it]"
          ]
        },
        {
          "output_type": "stream",
          "name": "stdout",
          "text": [
            "2\n"
          ]
        },
        {
          "output_type": "stream",
          "name": "stderr",
          "text": [
            "\r 42%|████▏     | 47/111 [05:14<07:25,  6.97s/it]"
          ]
        },
        {
          "output_type": "stream",
          "name": "stdout",
          "text": [
            "2\n"
          ]
        },
        {
          "output_type": "stream",
          "name": "stderr",
          "text": [
            "\r 43%|████▎     | 48/111 [05:22<07:40,  7.31s/it]"
          ]
        },
        {
          "output_type": "stream",
          "name": "stdout",
          "text": [
            "2\n"
          ]
        },
        {
          "output_type": "stream",
          "name": "stderr",
          "text": [
            "\r 44%|████▍     | 49/111 [05:28<07:15,  7.03s/it]"
          ]
        },
        {
          "output_type": "stream",
          "name": "stdout",
          "text": [
            "2\n"
          ]
        },
        {
          "output_type": "stream",
          "name": "stderr",
          "text": [
            "\r 45%|████▌     | 50/111 [05:35<07:06,  6.99s/it]"
          ]
        },
        {
          "output_type": "stream",
          "name": "stdout",
          "text": [
            "2\n"
          ]
        },
        {
          "output_type": "stream",
          "name": "stderr",
          "text": [
            "\r 46%|████▌     | 51/111 [05:41<06:43,  6.72s/it]"
          ]
        },
        {
          "output_type": "stream",
          "name": "stdout",
          "text": [
            "2\n"
          ]
        },
        {
          "output_type": "stream",
          "name": "stderr",
          "text": [
            "\r 47%|████▋     | 52/111 [05:48<06:30,  6.63s/it]"
          ]
        },
        {
          "output_type": "stream",
          "name": "stdout",
          "text": [
            "2\n"
          ]
        },
        {
          "output_type": "stream",
          "name": "stderr",
          "text": [
            "\r 48%|████▊     | 53/111 [05:54<06:17,  6.51s/it]"
          ]
        },
        {
          "output_type": "stream",
          "name": "stdout",
          "text": [
            "2\n"
          ]
        },
        {
          "output_type": "stream",
          "name": "stderr",
          "text": [
            "\r 49%|████▊     | 54/111 [06:01<06:18,  6.63s/it]"
          ]
        },
        {
          "output_type": "stream",
          "name": "stdout",
          "text": [
            "2\n"
          ]
        },
        {
          "output_type": "stream",
          "name": "stderr",
          "text": [
            "\r 50%|████▉     | 55/111 [06:07<06:03,  6.49s/it]"
          ]
        },
        {
          "output_type": "stream",
          "name": "stdout",
          "text": [
            "2\n"
          ]
        },
        {
          "output_type": "stream",
          "name": "stderr",
          "text": [
            "\r 50%|█████     | 56/111 [06:14<06:04,  6.63s/it]"
          ]
        },
        {
          "output_type": "stream",
          "name": "stdout",
          "text": [
            "2\n"
          ]
        },
        {
          "output_type": "stream",
          "name": "stderr",
          "text": [
            "\r 51%|█████▏    | 57/111 [06:20<05:51,  6.51s/it]"
          ]
        },
        {
          "output_type": "stream",
          "name": "stdout",
          "text": [
            "2\n"
          ]
        },
        {
          "output_type": "stream",
          "name": "stderr",
          "text": [
            "\r 52%|█████▏    | 58/111 [06:27<05:52,  6.66s/it]"
          ]
        },
        {
          "output_type": "stream",
          "name": "stdout",
          "text": [
            "2\n"
          ]
        },
        {
          "output_type": "stream",
          "name": "stderr",
          "text": [
            "\r 53%|█████▎    | 59/111 [06:33<05:38,  6.50s/it]"
          ]
        },
        {
          "output_type": "stream",
          "name": "stdout",
          "text": [
            "2\n"
          ]
        },
        {
          "output_type": "stream",
          "name": "stderr",
          "text": [
            "\r 54%|█████▍    | 60/111 [06:40<05:30,  6.48s/it]"
          ]
        },
        {
          "output_type": "stream",
          "name": "stdout",
          "text": [
            "2\n"
          ]
        },
        {
          "output_type": "stream",
          "name": "stderr",
          "text": [
            "\r 55%|█████▍    | 61/111 [06:46<05:19,  6.39s/it]"
          ]
        },
        {
          "output_type": "stream",
          "name": "stdout",
          "text": [
            "2\n"
          ]
        },
        {
          "output_type": "stream",
          "name": "stderr",
          "text": [
            "\r 56%|█████▌    | 62/111 [06:52<05:12,  6.39s/it]"
          ]
        },
        {
          "output_type": "stream",
          "name": "stdout",
          "text": [
            "4\n"
          ]
        },
        {
          "output_type": "stream",
          "name": "stderr",
          "text": [
            "\r 57%|█████▋    | 63/111 [06:59<05:02,  6.31s/it]"
          ]
        },
        {
          "output_type": "stream",
          "name": "stdout",
          "text": [
            "4\n"
          ]
        },
        {
          "output_type": "stream",
          "name": "stderr",
          "text": [
            "\r 58%|█████▊    | 64/111 [07:05<05:04,  6.48s/it]"
          ]
        },
        {
          "output_type": "stream",
          "name": "stdout",
          "text": [
            "2\n"
          ]
        },
        {
          "output_type": "stream",
          "name": "stderr",
          "text": [
            "\r 59%|█████▊    | 65/111 [07:12<04:53,  6.38s/it]"
          ]
        },
        {
          "output_type": "stream",
          "name": "stdout",
          "text": [
            "2\n"
          ]
        },
        {
          "output_type": "stream",
          "name": "stderr",
          "text": [
            "\r 59%|█████▉    | 66/111 [07:19<05:03,  6.74s/it]"
          ]
        },
        {
          "output_type": "stream",
          "name": "stdout",
          "text": [
            "2\n"
          ]
        },
        {
          "output_type": "stream",
          "name": "stderr",
          "text": [
            "\r 60%|██████    | 67/111 [07:26<05:04,  6.91s/it]"
          ]
        },
        {
          "output_type": "stream",
          "name": "stdout",
          "text": [
            "2\n"
          ]
        },
        {
          "output_type": "stream",
          "name": "stderr",
          "text": [
            "\r 61%|██████▏   | 68/111 [07:34<05:01,  7.02s/it]"
          ]
        },
        {
          "output_type": "stream",
          "name": "stdout",
          "text": [
            "2\n"
          ]
        },
        {
          "output_type": "stream",
          "name": "stderr",
          "text": [
            "\r 62%|██████▏   | 69/111 [07:41<04:53,  6.98s/it]"
          ]
        },
        {
          "output_type": "stream",
          "name": "stdout",
          "text": [
            "2\n"
          ]
        },
        {
          "output_type": "stream",
          "name": "stderr",
          "text": [
            "\r 63%|██████▎   | 70/111 [07:47<04:36,  6.74s/it]"
          ]
        },
        {
          "output_type": "stream",
          "name": "stdout",
          "text": [
            "2\n"
          ]
        },
        {
          "output_type": "stream",
          "name": "stderr",
          "text": [
            "\r 64%|██████▍   | 71/111 [07:53<04:25,  6.63s/it]"
          ]
        },
        {
          "output_type": "stream",
          "name": "stdout",
          "text": [
            "2\n"
          ]
        },
        {
          "output_type": "stream",
          "name": "stderr",
          "text": [
            "\r 65%|██████▍   | 72/111 [08:00<04:19,  6.65s/it]"
          ]
        },
        {
          "output_type": "stream",
          "name": "stdout",
          "text": [
            "2\n"
          ]
        },
        {
          "output_type": "stream",
          "name": "stderr",
          "text": [
            "\r 66%|██████▌   | 73/111 [08:07<04:14,  6.70s/it]"
          ]
        },
        {
          "output_type": "stream",
          "name": "stdout",
          "text": [
            "2\n"
          ]
        },
        {
          "output_type": "stream",
          "name": "stderr",
          "text": [
            "\r 67%|██████▋   | 74/111 [08:13<04:07,  6.70s/it]"
          ]
        },
        {
          "output_type": "stream",
          "name": "stdout",
          "text": [
            "2\n"
          ]
        },
        {
          "output_type": "stream",
          "name": "stderr",
          "text": [
            "\r 68%|██████▊   | 75/111 [08:20<04:04,  6.80s/it]"
          ]
        },
        {
          "output_type": "stream",
          "name": "stdout",
          "text": [
            "2\n"
          ]
        },
        {
          "output_type": "stream",
          "name": "stderr",
          "text": [
            "\r 68%|██████▊   | 76/111 [08:27<03:52,  6.64s/it]"
          ]
        },
        {
          "output_type": "stream",
          "name": "stdout",
          "text": [
            "2\n"
          ]
        },
        {
          "output_type": "stream",
          "name": "stderr",
          "text": [
            "\r 69%|██████▉   | 77/111 [08:34<03:48,  6.73s/it]"
          ]
        },
        {
          "output_type": "stream",
          "name": "stdout",
          "text": [
            "2\n"
          ]
        },
        {
          "output_type": "stream",
          "name": "stderr",
          "text": [
            "\r 70%|███████   | 78/111 [08:40<03:42,  6.74s/it]"
          ]
        },
        {
          "output_type": "stream",
          "name": "stdout",
          "text": [
            "2\n"
          ]
        },
        {
          "output_type": "stream",
          "name": "stderr",
          "text": [
            "\r 71%|███████   | 79/111 [08:47<03:32,  6.64s/it]"
          ]
        },
        {
          "output_type": "stream",
          "name": "stdout",
          "text": [
            "2\n"
          ]
        },
        {
          "output_type": "stream",
          "name": "stderr",
          "text": [
            "\r 72%|███████▏  | 80/111 [08:53<03:21,  6.49s/it]"
          ]
        },
        {
          "output_type": "stream",
          "name": "stdout",
          "text": [
            "4\n"
          ]
        },
        {
          "output_type": "stream",
          "name": "stderr",
          "text": [
            "\r 73%|███████▎  | 81/111 [08:59<03:14,  6.48s/it]"
          ]
        },
        {
          "output_type": "stream",
          "name": "stdout",
          "text": [
            "2\n"
          ]
        },
        {
          "output_type": "stream",
          "name": "stderr",
          "text": [
            "\r 74%|███████▍  | 82/111 [09:06<03:05,  6.39s/it]"
          ]
        },
        {
          "output_type": "stream",
          "name": "stdout",
          "text": [
            "2\n"
          ]
        },
        {
          "output_type": "stream",
          "name": "stderr",
          "text": [
            "\r 75%|███████▍  | 83/111 [09:12<02:57,  6.35s/it]"
          ]
        },
        {
          "output_type": "stream",
          "name": "stdout",
          "text": [
            "0\n"
          ]
        },
        {
          "output_type": "stream",
          "name": "stderr",
          "text": [
            "\r 76%|███████▌  | 84/111 [09:18<02:49,  6.29s/it]"
          ]
        },
        {
          "output_type": "stream",
          "name": "stdout",
          "text": [
            "2\n"
          ]
        },
        {
          "output_type": "stream",
          "name": "stderr",
          "text": [
            "\r 77%|███████▋  | 85/111 [09:24<02:43,  6.30s/it]"
          ]
        },
        {
          "output_type": "stream",
          "name": "stdout",
          "text": [
            "2\n"
          ]
        },
        {
          "output_type": "stream",
          "name": "stderr",
          "text": [
            "\r 77%|███████▋  | 86/111 [09:33<02:54,  6.97s/it]"
          ]
        },
        {
          "output_type": "stream",
          "name": "stdout",
          "text": [
            "2\n"
          ]
        },
        {
          "output_type": "stream",
          "name": "stderr",
          "text": [
            "\r 78%|███████▊  | 87/111 [09:41<02:54,  7.26s/it]"
          ]
        },
        {
          "output_type": "stream",
          "name": "stdout",
          "text": [
            "2\n"
          ]
        },
        {
          "output_type": "stream",
          "name": "stderr",
          "text": [
            "\r 79%|███████▉  | 88/111 [09:47<02:42,  7.05s/it]"
          ]
        },
        {
          "output_type": "stream",
          "name": "stdout",
          "text": [
            "2\n"
          ]
        },
        {
          "output_type": "stream",
          "name": "stderr",
          "text": [
            "\r 80%|████████  | 89/111 [09:54<02:30,  6.84s/it]"
          ]
        },
        {
          "output_type": "stream",
          "name": "stdout",
          "text": [
            "2\n"
          ]
        },
        {
          "output_type": "stream",
          "name": "stderr",
          "text": [
            "\r 81%|████████  | 90/111 [10:00<02:19,  6.64s/it]"
          ]
        },
        {
          "output_type": "stream",
          "name": "stdout",
          "text": [
            "2\n"
          ]
        },
        {
          "output_type": "stream",
          "name": "stderr",
          "text": [
            "\r 82%|████████▏ | 91/111 [10:07<02:13,  6.69s/it]"
          ]
        },
        {
          "output_type": "stream",
          "name": "stdout",
          "text": [
            "2\n"
          ]
        },
        {
          "output_type": "stream",
          "name": "stderr",
          "text": [
            "\r 83%|████████▎ | 92/111 [10:13<02:03,  6.51s/it]"
          ]
        },
        {
          "output_type": "stream",
          "name": "stdout",
          "text": [
            "2\n"
          ]
        },
        {
          "output_type": "stream",
          "name": "stderr",
          "text": [
            "\r 84%|████████▍ | 93/111 [10:20<01:59,  6.61s/it]"
          ]
        },
        {
          "output_type": "stream",
          "name": "stdout",
          "text": [
            "2\n"
          ]
        },
        {
          "output_type": "stream",
          "name": "stderr",
          "text": [
            "\r 85%|████████▍ | 94/111 [10:26<01:49,  6.44s/it]"
          ]
        },
        {
          "output_type": "stream",
          "name": "stdout",
          "text": [
            "2\n"
          ]
        },
        {
          "output_type": "stream",
          "name": "stderr",
          "text": [
            "\r 86%|████████▌ | 95/111 [10:32<01:43,  6.45s/it]"
          ]
        },
        {
          "output_type": "stream",
          "name": "stdout",
          "text": [
            "2\n"
          ]
        },
        {
          "output_type": "stream",
          "name": "stderr",
          "text": [
            "\r 86%|████████▋ | 96/111 [10:39<01:37,  6.49s/it]"
          ]
        },
        {
          "output_type": "stream",
          "name": "stdout",
          "text": [
            "2\n"
          ]
        },
        {
          "output_type": "stream",
          "name": "stderr",
          "text": [
            "\r 87%|████████▋ | 97/111 [10:45<01:30,  6.46s/it]"
          ]
        },
        {
          "output_type": "stream",
          "name": "stdout",
          "text": [
            "2\n"
          ]
        },
        {
          "output_type": "stream",
          "name": "stderr",
          "text": [
            "\r 88%|████████▊ | 98/111 [10:51<01:22,  6.35s/it]"
          ]
        },
        {
          "output_type": "stream",
          "name": "stdout",
          "text": [
            "2\n"
          ]
        },
        {
          "output_type": "stream",
          "name": "stderr",
          "text": [
            "\r 89%|████████▉ | 99/111 [10:58<01:16,  6.36s/it]"
          ]
        },
        {
          "output_type": "stream",
          "name": "stdout",
          "text": [
            "2\n"
          ]
        },
        {
          "output_type": "stream",
          "name": "stderr",
          "text": [
            "\r 90%|█████████ | 100/111 [11:04<01:10,  6.45s/it]"
          ]
        },
        {
          "output_type": "stream",
          "name": "stdout",
          "text": [
            "2\n"
          ]
        },
        {
          "output_type": "stream",
          "name": "stderr",
          "text": [
            "\r 91%|█████████ | 101/111 [11:11<01:04,  6.41s/it]"
          ]
        },
        {
          "output_type": "stream",
          "name": "stdout",
          "text": [
            "2\n"
          ]
        },
        {
          "output_type": "stream",
          "name": "stderr",
          "text": [
            "\r 92%|█████████▏| 102/111 [11:17<00:58,  6.48s/it]"
          ]
        },
        {
          "output_type": "stream",
          "name": "stdout",
          "text": [
            "2\n"
          ]
        },
        {
          "output_type": "stream",
          "name": "stderr",
          "text": [
            "\r 93%|█████████▎| 103/111 [11:23<00:51,  6.43s/it]"
          ]
        },
        {
          "output_type": "stream",
          "name": "stdout",
          "text": [
            "2\n"
          ]
        },
        {
          "output_type": "stream",
          "name": "stderr",
          "text": [
            "\r 94%|█████████▎| 104/111 [11:30<00:45,  6.52s/it]"
          ]
        },
        {
          "output_type": "stream",
          "name": "stdout",
          "text": [
            "2\n"
          ]
        },
        {
          "output_type": "stream",
          "name": "stderr",
          "text": [
            "\r 95%|█████████▍| 105/111 [11:38<00:40,  6.80s/it]"
          ]
        },
        {
          "output_type": "stream",
          "name": "stdout",
          "text": [
            "2\n"
          ]
        },
        {
          "output_type": "stream",
          "name": "stderr",
          "text": [
            "\r 95%|█████████▌| 106/111 [11:45<00:34,  6.92s/it]"
          ]
        },
        {
          "output_type": "stream",
          "name": "stdout",
          "text": [
            "2\n"
          ]
        },
        {
          "output_type": "stream",
          "name": "stderr",
          "text": [
            "\r 96%|█████████▋| 107/111 [11:52<00:27,  7.00s/it]"
          ]
        },
        {
          "output_type": "stream",
          "name": "stdout",
          "text": [
            "2\n"
          ]
        },
        {
          "output_type": "stream",
          "name": "stderr",
          "text": [
            "\r 97%|█████████▋| 108/111 [11:58<00:20,  6.75s/it]"
          ]
        },
        {
          "output_type": "stream",
          "name": "stdout",
          "text": [
            "2\n"
          ]
        },
        {
          "output_type": "stream",
          "name": "stderr",
          "text": [
            "\r 98%|█████████▊| 109/111 [12:05<00:13,  6.62s/it]"
          ]
        },
        {
          "output_type": "stream",
          "name": "stdout",
          "text": [
            "2\n"
          ]
        },
        {
          "output_type": "stream",
          "name": "stderr",
          "text": [
            "\r 99%|█████████▉| 110/111 [12:11<00:06,  6.47s/it]"
          ]
        },
        {
          "output_type": "stream",
          "name": "stdout",
          "text": [
            "2\n"
          ]
        },
        {
          "output_type": "stream",
          "name": "stderr",
          "text": [
            "100%|██████████| 111/111 [12:17<00:00,  6.64s/it]\n"
          ]
        },
        {
          "output_type": "stream",
          "name": "stdout",
          "text": [
            "2\n"
          ]
        },
        {
          "output_type": "stream",
          "name": "stderr",
          "text": [
            "  1%|          | 1/167 [00:06<18:13,  6.59s/it]"
          ]
        },
        {
          "output_type": "stream",
          "name": "stdout",
          "text": [
            "3\n"
          ]
        },
        {
          "output_type": "stream",
          "name": "stderr",
          "text": [
            "\r  1%|          | 2/167 [00:13<19:25,  7.06s/it]"
          ]
        },
        {
          "output_type": "stream",
          "name": "stdout",
          "text": [
            "3\n"
          ]
        },
        {
          "output_type": "stream",
          "name": "stderr",
          "text": [
            "\r  2%|▏         | 3/167 [00:20<18:12,  6.66s/it]"
          ]
        },
        {
          "output_type": "stream",
          "name": "stdout",
          "text": [
            "3\n"
          ]
        },
        {
          "output_type": "stream",
          "name": "stderr",
          "text": [
            "\r  2%|▏         | 4/167 [00:26<17:40,  6.50s/it]"
          ]
        },
        {
          "output_type": "stream",
          "name": "stdout",
          "text": [
            "3\n"
          ]
        },
        {
          "output_type": "stream",
          "name": "stderr",
          "text": [
            "\r  3%|▎         | 5/167 [00:32<17:04,  6.32s/it]"
          ]
        },
        {
          "output_type": "stream",
          "name": "stdout",
          "text": [
            "3\n"
          ]
        },
        {
          "output_type": "stream",
          "name": "stderr",
          "text": [
            "\r  4%|▎         | 6/167 [00:38<16:56,  6.31s/it]"
          ]
        },
        {
          "output_type": "stream",
          "name": "stdout",
          "text": [
            "3\n"
          ]
        },
        {
          "output_type": "stream",
          "name": "stderr",
          "text": [
            "\r  4%|▍         | 7/167 [00:44<16:42,  6.27s/it]"
          ]
        },
        {
          "output_type": "stream",
          "name": "stdout",
          "text": [
            "3\n"
          ]
        },
        {
          "output_type": "stream",
          "name": "stderr",
          "text": [
            "\r  5%|▍         | 8/167 [00:51<16:41,  6.30s/it]"
          ]
        },
        {
          "output_type": "stream",
          "name": "stdout",
          "text": [
            "3\n"
          ]
        },
        {
          "output_type": "stream",
          "name": "stderr",
          "text": [
            "\r  5%|▌         | 9/167 [00:57<16:20,  6.21s/it]"
          ]
        },
        {
          "output_type": "stream",
          "name": "stdout",
          "text": [
            "3\n"
          ]
        },
        {
          "output_type": "stream",
          "name": "stderr",
          "text": [
            "\r  6%|▌         | 10/167 [01:03<16:17,  6.22s/it]"
          ]
        },
        {
          "output_type": "stream",
          "name": "stdout",
          "text": [
            "3\n"
          ]
        },
        {
          "output_type": "stream",
          "name": "stderr",
          "text": [
            "\r  7%|▋         | 11/167 [01:09<16:04,  6.18s/it]"
          ]
        },
        {
          "output_type": "stream",
          "name": "stdout",
          "text": [
            "3\n"
          ]
        },
        {
          "output_type": "stream",
          "name": "stderr",
          "text": [
            "\r  7%|▋         | 12/167 [01:16<16:30,  6.39s/it]"
          ]
        },
        {
          "output_type": "stream",
          "name": "stdout",
          "text": [
            "3\n"
          ]
        },
        {
          "output_type": "stream",
          "name": "stderr",
          "text": [
            "\r  8%|▊         | 13/167 [01:22<16:06,  6.28s/it]"
          ]
        },
        {
          "output_type": "stream",
          "name": "stdout",
          "text": [
            "3\n"
          ]
        },
        {
          "output_type": "stream",
          "name": "stderr",
          "text": [
            "\r  8%|▊         | 14/167 [01:30<17:14,  6.76s/it]"
          ]
        },
        {
          "output_type": "stream",
          "name": "stdout",
          "text": [
            "3\n"
          ]
        },
        {
          "output_type": "stream",
          "name": "stderr",
          "text": [
            "\r  9%|▉         | 15/167 [01:37<17:32,  6.93s/it]"
          ]
        },
        {
          "output_type": "stream",
          "name": "stdout",
          "text": [
            "3\n"
          ]
        },
        {
          "output_type": "stream",
          "name": "stderr",
          "text": [
            "\r 10%|▉         | 16/167 [01:44<17:12,  6.84s/it]"
          ]
        },
        {
          "output_type": "stream",
          "name": "stdout",
          "text": [
            "3\n"
          ]
        },
        {
          "output_type": "stream",
          "name": "stderr",
          "text": [
            "\r 10%|█         | 17/167 [01:50<16:34,  6.63s/it]"
          ]
        },
        {
          "output_type": "stream",
          "name": "stdout",
          "text": [
            "3\n"
          ]
        },
        {
          "output_type": "stream",
          "name": "stderr",
          "text": [
            "\r 11%|█         | 18/167 [01:56<16:07,  6.49s/it]"
          ]
        },
        {
          "output_type": "stream",
          "name": "stdout",
          "text": [
            "0\n"
          ]
        },
        {
          "output_type": "stream",
          "name": "stderr",
          "text": [
            "\r 11%|█▏        | 19/167 [02:02<15:42,  6.37s/it]"
          ]
        },
        {
          "output_type": "stream",
          "name": "stdout",
          "text": [
            "3\n"
          ]
        },
        {
          "output_type": "stream",
          "name": "stderr",
          "text": [
            "\r 12%|█▏        | 20/167 [02:08<15:31,  6.34s/it]"
          ]
        },
        {
          "output_type": "stream",
          "name": "stdout",
          "text": [
            "0\n"
          ]
        },
        {
          "output_type": "stream",
          "name": "stderr",
          "text": [
            "\r 13%|█▎        | 21/167 [02:15<15:15,  6.27s/it]"
          ]
        },
        {
          "output_type": "stream",
          "name": "stdout",
          "text": [
            "3\n"
          ]
        },
        {
          "output_type": "stream",
          "name": "stderr",
          "text": [
            "\r 13%|█▎        | 22/167 [02:21<15:15,  6.31s/it]"
          ]
        },
        {
          "output_type": "stream",
          "name": "stdout",
          "text": [
            "3\n"
          ]
        },
        {
          "output_type": "stream",
          "name": "stderr",
          "text": [
            "\r 14%|█▍        | 23/167 [02:27<15:03,  6.27s/it]"
          ]
        },
        {
          "output_type": "stream",
          "name": "stdout",
          "text": [
            "3\n"
          ]
        },
        {
          "output_type": "stream",
          "name": "stderr",
          "text": [
            "\r 14%|█▍        | 24/167 [02:34<14:59,  6.29s/it]"
          ]
        },
        {
          "output_type": "stream",
          "name": "stdout",
          "text": [
            "3\n"
          ]
        },
        {
          "output_type": "stream",
          "name": "stderr",
          "text": [
            "\r 15%|█▍        | 25/167 [02:40<14:43,  6.22s/it]"
          ]
        },
        {
          "output_type": "stream",
          "name": "stdout",
          "text": [
            "3\n"
          ]
        },
        {
          "output_type": "stream",
          "name": "stderr",
          "text": [
            "\r 16%|█▌        | 26/167 [02:46<14:42,  6.26s/it]"
          ]
        },
        {
          "output_type": "stream",
          "name": "stdout",
          "text": [
            "3\n"
          ]
        },
        {
          "output_type": "stream",
          "name": "stderr",
          "text": [
            "\r 16%|█▌        | 27/167 [02:52<14:30,  6.22s/it]"
          ]
        },
        {
          "output_type": "stream",
          "name": "stdout",
          "text": [
            "3\n"
          ]
        },
        {
          "output_type": "stream",
          "name": "stderr",
          "text": [
            "\r 17%|█▋        | 28/167 [02:58<14:28,  6.25s/it]"
          ]
        },
        {
          "output_type": "stream",
          "name": "stdout",
          "text": [
            "3\n"
          ]
        },
        {
          "output_type": "stream",
          "name": "stderr",
          "text": [
            "\r 17%|█▋        | 29/167 [03:04<14:15,  6.20s/it]"
          ]
        },
        {
          "output_type": "stream",
          "name": "stdout",
          "text": [
            "0\n"
          ]
        },
        {
          "output_type": "stream",
          "name": "stderr",
          "text": [
            "\r 18%|█▊        | 30/167 [03:11<14:12,  6.22s/it]"
          ]
        },
        {
          "output_type": "stream",
          "name": "stdout",
          "text": [
            "3\n"
          ]
        },
        {
          "output_type": "stream",
          "name": "stderr",
          "text": [
            "\r 19%|█▊        | 31/167 [03:17<14:19,  6.32s/it]"
          ]
        },
        {
          "output_type": "stream",
          "name": "stdout",
          "text": [
            "0\n"
          ]
        },
        {
          "output_type": "stream",
          "name": "stderr",
          "text": [
            "\r 19%|█▉        | 32/167 [03:24<14:14,  6.33s/it]"
          ]
        },
        {
          "output_type": "stream",
          "name": "stdout",
          "text": [
            "3\n"
          ]
        },
        {
          "output_type": "stream",
          "name": "stderr",
          "text": [
            "\r 20%|█▉        | 33/167 [03:31<14:42,  6.59s/it]"
          ]
        },
        {
          "output_type": "stream",
          "name": "stdout",
          "text": [
            "0\n"
          ]
        },
        {
          "output_type": "stream",
          "name": "stderr",
          "text": [
            "\r 20%|██        | 34/167 [03:38<15:03,  6.79s/it]"
          ]
        },
        {
          "output_type": "stream",
          "name": "stdout",
          "text": [
            "3\n"
          ]
        },
        {
          "output_type": "stream",
          "name": "stderr",
          "text": [
            "\r 21%|██        | 35/167 [03:45<15:06,  6.87s/it]"
          ]
        },
        {
          "output_type": "stream",
          "name": "stdout",
          "text": [
            "3\n"
          ]
        },
        {
          "output_type": "stream",
          "name": "stderr",
          "text": [
            "\r 22%|██▏       | 36/167 [03:52<15:13,  6.97s/it]"
          ]
        },
        {
          "output_type": "stream",
          "name": "stdout",
          "text": [
            "2\n"
          ]
        },
        {
          "output_type": "stream",
          "name": "stderr",
          "text": [
            "\r 22%|██▏       | 37/167 [03:58<14:31,  6.70s/it]"
          ]
        },
        {
          "output_type": "stream",
          "name": "stdout",
          "text": [
            "2\n"
          ]
        },
        {
          "output_type": "stream",
          "name": "stderr",
          "text": [
            "\r 23%|██▎       | 38/167 [04:05<14:08,  6.57s/it]"
          ]
        },
        {
          "output_type": "stream",
          "name": "stdout",
          "text": [
            "2\n"
          ]
        },
        {
          "output_type": "stream",
          "name": "stderr",
          "text": [
            "\r 23%|██▎       | 39/167 [04:11<13:41,  6.42s/it]"
          ]
        },
        {
          "output_type": "stream",
          "name": "stdout",
          "text": [
            "4\n"
          ]
        },
        {
          "output_type": "stream",
          "name": "stderr",
          "text": [
            "\r 24%|██▍       | 40/167 [04:17<13:34,  6.41s/it]"
          ]
        },
        {
          "output_type": "stream",
          "name": "stdout",
          "text": [
            "4\n"
          ]
        },
        {
          "output_type": "stream",
          "name": "stderr",
          "text": [
            "\r 25%|██▍       | 41/167 [04:23<13:20,  6.35s/it]"
          ]
        },
        {
          "output_type": "stream",
          "name": "stdout",
          "text": [
            "2\n"
          ]
        },
        {
          "output_type": "stream",
          "name": "stderr",
          "text": [
            "\r 25%|██▌       | 42/167 [04:30<13:09,  6.32s/it]"
          ]
        },
        {
          "output_type": "stream",
          "name": "stdout",
          "text": [
            "2\n"
          ]
        },
        {
          "output_type": "stream",
          "name": "stderr",
          "text": [
            "\r 26%|██▌       | 43/167 [04:36<13:20,  6.46s/it]"
          ]
        },
        {
          "output_type": "stream",
          "name": "stdout",
          "text": [
            "0\n"
          ]
        },
        {
          "output_type": "stream",
          "name": "stderr",
          "text": [
            "\r 26%|██▋       | 44/167 [04:43<13:09,  6.42s/it]"
          ]
        },
        {
          "output_type": "stream",
          "name": "stdout",
          "text": [
            "0\n"
          ]
        },
        {
          "output_type": "stream",
          "name": "stderr",
          "text": [
            "\r 27%|██▋       | 45/167 [04:49<12:51,  6.32s/it]"
          ]
        },
        {
          "output_type": "stream",
          "name": "stdout",
          "text": [
            "3\n"
          ]
        },
        {
          "output_type": "stream",
          "name": "stderr",
          "text": [
            "\r 28%|██▊       | 46/167 [04:55<12:48,  6.35s/it]"
          ]
        },
        {
          "output_type": "stream",
          "name": "stdout",
          "text": [
            "0\n"
          ]
        },
        {
          "output_type": "stream",
          "name": "stderr",
          "text": [
            "\r 28%|██▊       | 47/167 [05:01<12:30,  6.26s/it]"
          ]
        },
        {
          "output_type": "stream",
          "name": "stdout",
          "text": [
            "0\n"
          ]
        },
        {
          "output_type": "stream",
          "name": "stderr",
          "text": [
            "\r 29%|██▊       | 48/167 [05:08<12:29,  6.30s/it]"
          ]
        },
        {
          "output_type": "stream",
          "name": "stdout",
          "text": [
            "0\n"
          ]
        },
        {
          "output_type": "stream",
          "name": "stderr",
          "text": [
            "\r 29%|██▉       | 49/167 [05:14<12:15,  6.23s/it]"
          ]
        },
        {
          "output_type": "stream",
          "name": "stdout",
          "text": [
            "0\n"
          ]
        },
        {
          "output_type": "stream",
          "name": "stderr",
          "text": [
            "\r 30%|██▉       | 50/167 [05:20<12:13,  6.27s/it]"
          ]
        },
        {
          "output_type": "stream",
          "name": "stdout",
          "text": [
            "3\n"
          ]
        },
        {
          "output_type": "stream",
          "name": "stderr",
          "text": [
            "\r 31%|███       | 51/167 [05:26<12:00,  6.21s/it]"
          ]
        },
        {
          "output_type": "stream",
          "name": "stdout",
          "text": [
            "3\n"
          ]
        },
        {
          "output_type": "stream",
          "name": "stderr",
          "text": [
            "\r 31%|███       | 52/167 [05:33<11:59,  6.26s/it]"
          ]
        },
        {
          "output_type": "stream",
          "name": "stdout",
          "text": [
            "3\n"
          ]
        },
        {
          "output_type": "stream",
          "name": "stderr",
          "text": [
            "\r 32%|███▏      | 53/167 [05:40<12:45,  6.71s/it]"
          ]
        },
        {
          "output_type": "stream",
          "name": "stdout",
          "text": [
            "3\n"
          ]
        },
        {
          "output_type": "stream",
          "name": "stderr",
          "text": [
            "\r 32%|███▏      | 54/167 [05:48<13:06,  6.96s/it]"
          ]
        },
        {
          "output_type": "stream",
          "name": "stdout",
          "text": [
            "3\n"
          ]
        },
        {
          "output_type": "stream",
          "name": "stderr",
          "text": [
            "\r 33%|███▎      | 55/167 [05:54<12:47,  6.85s/it]"
          ]
        },
        {
          "output_type": "stream",
          "name": "stdout",
          "text": [
            "3\n"
          ]
        },
        {
          "output_type": "stream",
          "name": "stderr",
          "text": [
            "\r 34%|███▎      | 56/167 [06:01<12:21,  6.68s/it]"
          ]
        },
        {
          "output_type": "stream",
          "name": "stdout",
          "text": [
            "3\n"
          ]
        },
        {
          "output_type": "stream",
          "name": "stderr",
          "text": [
            "\r 34%|███▍      | 57/167 [06:07<11:55,  6.51s/it]"
          ]
        },
        {
          "output_type": "stream",
          "name": "stdout",
          "text": [
            "2\n"
          ]
        },
        {
          "output_type": "stream",
          "name": "stderr",
          "text": [
            "\r 35%|███▍      | 58/167 [06:13<11:43,  6.46s/it]"
          ]
        },
        {
          "output_type": "stream",
          "name": "stdout",
          "text": [
            "3\n"
          ]
        },
        {
          "output_type": "stream",
          "name": "stderr",
          "text": [
            "\r 35%|███▌      | 59/167 [06:19<11:27,  6.36s/it]"
          ]
        },
        {
          "output_type": "stream",
          "name": "stdout",
          "text": [
            "3\n"
          ]
        },
        {
          "output_type": "stream",
          "name": "stderr",
          "text": [
            "\r 36%|███▌      | 60/167 [06:26<11:19,  6.35s/it]"
          ]
        },
        {
          "output_type": "stream",
          "name": "stdout",
          "text": [
            "3\n"
          ]
        },
        {
          "output_type": "stream",
          "name": "stderr",
          "text": [
            "\r 37%|███▋      | 61/167 [06:32<11:04,  6.27s/it]"
          ]
        },
        {
          "output_type": "stream",
          "name": "stdout",
          "text": [
            "3\n"
          ]
        },
        {
          "output_type": "stream",
          "name": "stderr",
          "text": [
            "\r 37%|███▋      | 62/167 [06:38<10:58,  6.27s/it]"
          ]
        },
        {
          "output_type": "stream",
          "name": "stdout",
          "text": [
            "3\n"
          ]
        },
        {
          "output_type": "stream",
          "name": "stderr",
          "text": [
            "\r 38%|███▊      | 63/167 [06:44<10:47,  6.22s/it]"
          ]
        },
        {
          "output_type": "stream",
          "name": "stdout",
          "text": [
            "0\n"
          ]
        },
        {
          "output_type": "stream",
          "name": "stderr",
          "text": [
            "\r 38%|███▊      | 64/167 [06:50<10:42,  6.24s/it]"
          ]
        },
        {
          "output_type": "stream",
          "name": "stdout",
          "text": [
            "0\n"
          ]
        },
        {
          "output_type": "stream",
          "name": "stderr",
          "text": [
            "\r 39%|███▉      | 65/167 [06:56<10:32,  6.20s/it]"
          ]
        },
        {
          "output_type": "stream",
          "name": "stdout",
          "text": [
            "0\n"
          ]
        },
        {
          "output_type": "stream",
          "name": "stderr",
          "text": [
            "\r 40%|███▉      | 66/167 [07:03<10:28,  6.23s/it]"
          ]
        },
        {
          "output_type": "stream",
          "name": "stdout",
          "text": [
            "0\n"
          ]
        },
        {
          "output_type": "stream",
          "name": "stderr",
          "text": [
            "\r 40%|████      | 67/167 [07:09<10:18,  6.18s/it]"
          ]
        },
        {
          "output_type": "stream",
          "name": "stdout",
          "text": [
            "0\n"
          ]
        },
        {
          "output_type": "stream",
          "name": "stderr",
          "text": [
            "\r 41%|████      | 68/167 [07:15<10:12,  6.18s/it]"
          ]
        },
        {
          "output_type": "stream",
          "name": "stdout",
          "text": [
            "0\n"
          ]
        },
        {
          "output_type": "stream",
          "name": "stderr",
          "text": [
            "\r 41%|████▏     | 69/167 [07:21<10:03,  6.16s/it]"
          ]
        },
        {
          "output_type": "stream",
          "name": "stdout",
          "text": [
            "0\n"
          ]
        },
        {
          "output_type": "stream",
          "name": "stderr",
          "text": [
            "\r 42%|████▏     | 70/167 [07:27<10:01,  6.20s/it]"
          ]
        },
        {
          "output_type": "stream",
          "name": "stdout",
          "text": [
            "3\n"
          ]
        },
        {
          "output_type": "stream",
          "name": "stderr",
          "text": [
            "\r 43%|████▎     | 71/167 [07:34<09:56,  6.22s/it]"
          ]
        },
        {
          "output_type": "stream",
          "name": "stdout",
          "text": [
            "3\n"
          ]
        },
        {
          "output_type": "stream",
          "name": "stderr",
          "text": [
            "\r 43%|████▎     | 72/167 [07:41<10:16,  6.49s/it]"
          ]
        },
        {
          "output_type": "stream",
          "name": "stdout",
          "text": [
            "3\n"
          ]
        },
        {
          "output_type": "stream",
          "name": "stderr",
          "text": [
            "\r 44%|████▎     | 73/167 [07:48<10:30,  6.71s/it]"
          ]
        },
        {
          "output_type": "stream",
          "name": "stdout",
          "text": [
            "3\n"
          ]
        },
        {
          "output_type": "stream",
          "name": "stderr",
          "text": [
            "\r 44%|████▍     | 74/167 [07:55<10:41,  6.90s/it]"
          ]
        },
        {
          "output_type": "stream",
          "name": "stdout",
          "text": [
            "3\n"
          ]
        },
        {
          "output_type": "stream",
          "name": "stderr",
          "text": [
            "\r 45%|████▍     | 75/167 [08:02<10:15,  6.69s/it]"
          ]
        },
        {
          "output_type": "stream",
          "name": "stdout",
          "text": [
            "3\n"
          ]
        },
        {
          "output_type": "stream",
          "name": "stderr",
          "text": [
            "\r 46%|████▌     | 76/167 [08:08<09:58,  6.58s/it]"
          ]
        },
        {
          "output_type": "stream",
          "name": "stdout",
          "text": [
            "3\n"
          ]
        },
        {
          "output_type": "stream",
          "name": "stderr",
          "text": [
            "\r 46%|████▌     | 77/167 [08:15<09:56,  6.63s/it]"
          ]
        },
        {
          "output_type": "stream",
          "name": "stdout",
          "text": [
            "3\n"
          ]
        },
        {
          "output_type": "stream",
          "name": "stderr",
          "text": [
            "\r 47%|████▋     | 78/167 [08:21<09:41,  6.53s/it]"
          ]
        },
        {
          "output_type": "stream",
          "name": "stdout",
          "text": [
            "3\n"
          ]
        },
        {
          "output_type": "stream",
          "name": "stderr",
          "text": [
            "\r 47%|████▋     | 79/167 [08:28<09:37,  6.57s/it]"
          ]
        },
        {
          "output_type": "stream",
          "name": "stdout",
          "text": [
            "2\n"
          ]
        },
        {
          "output_type": "stream",
          "name": "stderr",
          "text": [
            "\r 48%|████▊     | 80/167 [08:34<09:24,  6.49s/it]"
          ]
        },
        {
          "output_type": "stream",
          "name": "stdout",
          "text": [
            "2\n"
          ]
        },
        {
          "output_type": "stream",
          "name": "stderr",
          "text": [
            "\r 49%|████▊     | 81/167 [08:40<09:08,  6.38s/it]"
          ]
        },
        {
          "output_type": "stream",
          "name": "stdout",
          "text": [
            "2\n"
          ]
        },
        {
          "output_type": "stream",
          "name": "stderr",
          "text": [
            "\r 49%|████▉     | 82/167 [08:46<09:00,  6.36s/it]"
          ]
        },
        {
          "output_type": "stream",
          "name": "stdout",
          "text": [
            "3\n"
          ]
        },
        {
          "output_type": "stream",
          "name": "stderr",
          "text": [
            "\r 50%|████▉     | 83/167 [08:52<08:47,  6.28s/it]"
          ]
        },
        {
          "output_type": "stream",
          "name": "stdout",
          "text": [
            "3\n"
          ]
        },
        {
          "output_type": "stream",
          "name": "stderr",
          "text": [
            "\r 50%|█████     | 84/167 [08:59<08:41,  6.28s/it]"
          ]
        },
        {
          "output_type": "stream",
          "name": "stdout",
          "text": [
            "3\n"
          ]
        },
        {
          "output_type": "stream",
          "name": "stderr",
          "text": [
            "\r 51%|█████     | 85/167 [09:05<08:33,  6.26s/it]"
          ]
        },
        {
          "output_type": "stream",
          "name": "stdout",
          "text": [
            "4\n"
          ]
        },
        {
          "output_type": "stream",
          "name": "stderr",
          "text": [
            "\r 51%|█████▏    | 86/167 [09:11<08:24,  6.23s/it]"
          ]
        },
        {
          "output_type": "stream",
          "name": "stdout",
          "text": [
            "3\n"
          ]
        },
        {
          "output_type": "stream",
          "name": "stderr",
          "text": [
            "\r 52%|█████▏    | 87/167 [09:17<08:16,  6.20s/it]"
          ]
        },
        {
          "output_type": "stream",
          "name": "stdout",
          "text": [
            "3\n"
          ]
        },
        {
          "output_type": "stream",
          "name": "stderr",
          "text": [
            "\r 53%|█████▎    | 88/167 [09:23<08:09,  6.19s/it]"
          ]
        },
        {
          "output_type": "stream",
          "name": "stdout",
          "text": [
            "3\n"
          ]
        },
        {
          "output_type": "stream",
          "name": "stderr",
          "text": [
            "\r 53%|█████▎    | 89/167 [09:30<08:06,  6.24s/it]"
          ]
        },
        {
          "output_type": "stream",
          "name": "stdout",
          "text": [
            "3\n"
          ]
        },
        {
          "output_type": "stream",
          "name": "stderr",
          "text": [
            "\r 54%|█████▍    | 90/167 [09:36<07:58,  6.21s/it]"
          ]
        },
        {
          "output_type": "stream",
          "name": "stdout",
          "text": [
            "3\n"
          ]
        },
        {
          "output_type": "stream",
          "name": "stderr",
          "text": [
            "\r 54%|█████▍    | 91/167 [09:42<07:52,  6.22s/it]"
          ]
        },
        {
          "output_type": "stream",
          "name": "stdout",
          "text": [
            "3\n"
          ]
        },
        {
          "output_type": "stream",
          "name": "stderr",
          "text": [
            "\r 55%|█████▌    | 92/167 [09:50<08:18,  6.65s/it]"
          ]
        },
        {
          "output_type": "stream",
          "name": "stdout",
          "text": [
            "3\n"
          ]
        },
        {
          "output_type": "stream",
          "name": "stderr",
          "text": [
            "\r 56%|█████▌    | 93/167 [09:57<08:31,  6.91s/it]"
          ]
        },
        {
          "output_type": "stream",
          "name": "stdout",
          "text": [
            "3\n"
          ]
        },
        {
          "output_type": "stream",
          "name": "stderr",
          "text": [
            "\r 56%|█████▋    | 94/167 [10:05<08:44,  7.19s/it]"
          ]
        },
        {
          "output_type": "stream",
          "name": "stdout",
          "text": [
            "3\n"
          ]
        },
        {
          "output_type": "stream",
          "name": "stderr",
          "text": [
            "\r 57%|█████▋    | 95/167 [10:11<08:14,  6.87s/it]"
          ]
        },
        {
          "output_type": "stream",
          "name": "stdout",
          "text": [
            "3\n"
          ]
        },
        {
          "output_type": "stream",
          "name": "stderr",
          "text": [
            "\r 57%|█████▋    | 96/167 [10:18<07:57,  6.72s/it]"
          ]
        },
        {
          "output_type": "stream",
          "name": "stdout",
          "text": [
            "3\n"
          ]
        },
        {
          "output_type": "stream",
          "name": "stderr",
          "text": [
            "\r 58%|█████▊    | 97/167 [10:24<07:47,  6.68s/it]"
          ]
        },
        {
          "output_type": "stream",
          "name": "stdout",
          "text": [
            "3\n"
          ]
        },
        {
          "output_type": "stream",
          "name": "stderr",
          "text": [
            "\r 59%|█████▊    | 98/167 [10:31<07:34,  6.59s/it]"
          ]
        },
        {
          "output_type": "stream",
          "name": "stdout",
          "text": [
            "3\n"
          ]
        },
        {
          "output_type": "stream",
          "name": "stderr",
          "text": [
            "\r 59%|█████▉    | 99/167 [10:37<07:18,  6.45s/it]"
          ]
        },
        {
          "output_type": "stream",
          "name": "stdout",
          "text": [
            "0\n"
          ]
        },
        {
          "output_type": "stream",
          "name": "stderr",
          "text": [
            "\r 60%|█████▉    | 100/167 [10:43<07:10,  6.43s/it]"
          ]
        },
        {
          "output_type": "stream",
          "name": "stdout",
          "text": [
            "0\n"
          ]
        },
        {
          "output_type": "stream",
          "name": "stderr",
          "text": [
            "\r 60%|██████    | 101/167 [10:49<06:56,  6.31s/it]"
          ]
        },
        {
          "output_type": "stream",
          "name": "stdout",
          "text": [
            "0\n"
          ]
        },
        {
          "output_type": "stream",
          "name": "stderr",
          "text": [
            "\r 61%|██████    | 102/167 [10:55<06:48,  6.28s/it]"
          ]
        },
        {
          "output_type": "stream",
          "name": "stdout",
          "text": [
            "0\n"
          ]
        },
        {
          "output_type": "stream",
          "name": "stderr",
          "text": [
            "\r 62%|██████▏   | 103/167 [11:02<06:40,  6.25s/it]"
          ]
        },
        {
          "output_type": "stream",
          "name": "stdout",
          "text": [
            "0\n"
          ]
        },
        {
          "output_type": "stream",
          "name": "stderr",
          "text": [
            "\r 62%|██████▏   | 104/167 [11:08<06:32,  6.24s/it]"
          ]
        },
        {
          "output_type": "stream",
          "name": "stdout",
          "text": [
            "0\n"
          ]
        },
        {
          "output_type": "stream",
          "name": "stderr",
          "text": [
            "\r 63%|██████▎   | 105/167 [11:14<06:25,  6.21s/it]"
          ]
        },
        {
          "output_type": "stream",
          "name": "stdout",
          "text": [
            "0\n"
          ]
        },
        {
          "output_type": "stream",
          "name": "stderr",
          "text": [
            "\r 63%|██████▎   | 106/167 [11:20<06:17,  6.18s/it]"
          ]
        },
        {
          "output_type": "stream",
          "name": "stdout",
          "text": [
            "4\n"
          ]
        },
        {
          "output_type": "stream",
          "name": "stderr",
          "text": [
            "\r 64%|██████▍   | 107/167 [11:26<06:11,  6.19s/it]"
          ]
        },
        {
          "output_type": "stream",
          "name": "stdout",
          "text": [
            "4\n"
          ]
        },
        {
          "output_type": "stream",
          "name": "stderr",
          "text": [
            "\r 65%|██████▍   | 108/167 [11:32<06:05,  6.19s/it]"
          ]
        },
        {
          "output_type": "stream",
          "name": "stdout",
          "text": [
            "4\n"
          ]
        },
        {
          "output_type": "stream",
          "name": "stderr",
          "text": [
            "\r 65%|██████▌   | 109/167 [11:39<06:00,  6.21s/it]"
          ]
        },
        {
          "output_type": "stream",
          "name": "stdout",
          "text": [
            "4\n"
          ]
        },
        {
          "output_type": "stream",
          "name": "stderr",
          "text": [
            "\r 66%|██████▌   | 110/167 [11:45<06:01,  6.34s/it]"
          ]
        },
        {
          "output_type": "stream",
          "name": "stdout",
          "text": [
            "4\n"
          ]
        },
        {
          "output_type": "stream",
          "name": "stderr",
          "text": [
            "\r 66%|██████▋   | 111/167 [11:52<06:01,  6.46s/it]"
          ]
        },
        {
          "output_type": "stream",
          "name": "stdout",
          "text": [
            "4\n"
          ]
        },
        {
          "output_type": "stream",
          "name": "stderr",
          "text": [
            "\r 67%|██████▋   | 112/167 [12:00<06:28,  7.06s/it]"
          ]
        },
        {
          "output_type": "stream",
          "name": "stdout",
          "text": [
            "4\n"
          ]
        },
        {
          "output_type": "stream",
          "name": "stderr",
          "text": [
            "\r 68%|██████▊   | 113/167 [12:08<06:30,  7.23s/it]"
          ]
        },
        {
          "output_type": "stream",
          "name": "stdout",
          "text": [
            "3\n"
          ]
        },
        {
          "output_type": "stream",
          "name": "stderr",
          "text": [
            "\r 68%|██████▊   | 114/167 [12:15<06:14,  7.07s/it]"
          ]
        },
        {
          "output_type": "stream",
          "name": "stdout",
          "text": [
            "3\n"
          ]
        },
        {
          "output_type": "stream",
          "name": "stderr",
          "text": [
            "\r 69%|██████▉   | 115/167 [12:21<05:51,  6.75s/it]"
          ]
        },
        {
          "output_type": "stream",
          "name": "stdout",
          "text": [
            "3\n"
          ]
        },
        {
          "output_type": "stream",
          "name": "stderr",
          "text": [
            "\r 69%|██████▉   | 116/167 [12:27<05:36,  6.60s/it]"
          ]
        },
        {
          "output_type": "stream",
          "name": "stdout",
          "text": [
            "3\n"
          ]
        },
        {
          "output_type": "stream",
          "name": "stderr",
          "text": [
            "\r 70%|███████   | 117/167 [12:33<05:23,  6.47s/it]"
          ]
        },
        {
          "output_type": "stream",
          "name": "stdout",
          "text": [
            "3\n"
          ]
        },
        {
          "output_type": "stream",
          "name": "stderr",
          "text": [
            "\r 71%|███████   | 118/167 [12:40<05:23,  6.61s/it]"
          ]
        },
        {
          "output_type": "stream",
          "name": "stdout",
          "text": [
            "3\n"
          ]
        },
        {
          "output_type": "stream",
          "name": "stderr",
          "text": [
            "\r 71%|███████▏  | 119/167 [12:46<05:10,  6.47s/it]"
          ]
        },
        {
          "output_type": "stream",
          "name": "stdout",
          "text": [
            "3\n"
          ]
        },
        {
          "output_type": "stream",
          "name": "stderr",
          "text": [
            "\r 72%|███████▏  | 120/167 [12:53<05:00,  6.40s/it]"
          ]
        },
        {
          "output_type": "stream",
          "name": "stdout",
          "text": [
            "3\n"
          ]
        },
        {
          "output_type": "stream",
          "name": "stderr",
          "text": [
            "\r 72%|███████▏  | 121/167 [12:59<04:49,  6.30s/it]"
          ]
        },
        {
          "output_type": "stream",
          "name": "stdout",
          "text": [
            "3\n"
          ]
        },
        {
          "output_type": "stream",
          "name": "stderr",
          "text": [
            "\r 73%|███████▎  | 122/167 [13:05<04:45,  6.33s/it]"
          ]
        },
        {
          "output_type": "stream",
          "name": "stdout",
          "text": [
            "3\n"
          ]
        },
        {
          "output_type": "stream",
          "name": "stderr",
          "text": [
            "\r 74%|███████▎  | 123/167 [13:11<04:35,  6.27s/it]"
          ]
        },
        {
          "output_type": "stream",
          "name": "stdout",
          "text": [
            "3\n"
          ]
        },
        {
          "output_type": "stream",
          "name": "stderr",
          "text": [
            "\r 74%|███████▍  | 124/167 [13:17<04:29,  6.26s/it]"
          ]
        },
        {
          "output_type": "stream",
          "name": "stdout",
          "text": [
            "3\n"
          ]
        },
        {
          "output_type": "stream",
          "name": "stderr",
          "text": [
            "\r 75%|███████▍  | 125/167 [13:24<04:21,  6.22s/it]"
          ]
        },
        {
          "output_type": "stream",
          "name": "stdout",
          "text": [
            "3\n"
          ]
        },
        {
          "output_type": "stream",
          "name": "stderr",
          "text": [
            "\r 75%|███████▌  | 126/167 [13:30<04:14,  6.22s/it]"
          ]
        },
        {
          "output_type": "stream",
          "name": "stdout",
          "text": [
            "3\n"
          ]
        },
        {
          "output_type": "stream",
          "name": "stderr",
          "text": [
            "\r 76%|███████▌  | 127/167 [13:36<04:09,  6.24s/it]"
          ]
        },
        {
          "output_type": "stream",
          "name": "stdout",
          "text": [
            "3\n"
          ]
        },
        {
          "output_type": "stream",
          "name": "stderr",
          "text": [
            "\r 77%|███████▋  | 128/167 [13:42<04:03,  6.24s/it]"
          ]
        },
        {
          "output_type": "stream",
          "name": "stdout",
          "text": [
            "3\n"
          ]
        },
        {
          "output_type": "stream",
          "name": "stderr",
          "text": [
            "\r 77%|███████▋  | 129/167 [13:49<04:02,  6.38s/it]"
          ]
        },
        {
          "output_type": "stream",
          "name": "stdout",
          "text": [
            "3\n"
          ]
        },
        {
          "output_type": "stream",
          "name": "stderr",
          "text": [
            "\r 78%|███████▊  | 130/167 [13:55<03:54,  6.32s/it]"
          ]
        },
        {
          "output_type": "stream",
          "name": "stdout",
          "text": [
            "3\n"
          ]
        },
        {
          "output_type": "stream",
          "name": "stderr",
          "text": [
            "\r 78%|███████▊  | 131/167 [14:03<04:01,  6.70s/it]"
          ]
        },
        {
          "output_type": "stream",
          "name": "stdout",
          "text": [
            "3\n"
          ]
        },
        {
          "output_type": "stream",
          "name": "stderr",
          "text": [
            "\r 79%|███████▉  | 132/167 [14:11<04:05,  7.02s/it]"
          ]
        },
        {
          "output_type": "stream",
          "name": "stdout",
          "text": [
            "3\n"
          ]
        },
        {
          "output_type": "stream",
          "name": "stderr",
          "text": [
            "\r 80%|███████▉  | 133/167 [14:18<04:02,  7.12s/it]"
          ]
        },
        {
          "output_type": "stream",
          "name": "stdout",
          "text": [
            "3\n"
          ]
        },
        {
          "output_type": "stream",
          "name": "stderr",
          "text": [
            "\r 80%|████████  | 134/167 [14:24<03:47,  6.89s/it]"
          ]
        },
        {
          "output_type": "stream",
          "name": "stdout",
          "text": [
            "3\n"
          ]
        },
        {
          "output_type": "stream",
          "name": "stderr",
          "text": [
            "\r 81%|████████  | 135/167 [14:30<03:33,  6.66s/it]"
          ]
        },
        {
          "output_type": "stream",
          "name": "stdout",
          "text": [
            "3\n"
          ]
        },
        {
          "output_type": "stream",
          "name": "stderr",
          "text": [
            "\r 81%|████████▏ | 136/167 [14:37<03:24,  6.59s/it]"
          ]
        },
        {
          "output_type": "stream",
          "name": "stdout",
          "text": [
            "3\n"
          ]
        },
        {
          "output_type": "stream",
          "name": "stderr",
          "text": [
            "\r 82%|████████▏ | 137/167 [14:43<03:13,  6.46s/it]"
          ]
        },
        {
          "output_type": "stream",
          "name": "stdout",
          "text": [
            "3\n"
          ]
        },
        {
          "output_type": "stream",
          "name": "stderr",
          "text": [
            "\r 83%|████████▎ | 138/167 [14:49<03:05,  6.40s/it]"
          ]
        },
        {
          "output_type": "stream",
          "name": "stdout",
          "text": [
            "3\n"
          ]
        },
        {
          "output_type": "stream",
          "name": "stderr",
          "text": [
            "\r 83%|████████▎ | 139/167 [14:55<02:56,  6.31s/it]"
          ]
        },
        {
          "output_type": "stream",
          "name": "stdout",
          "text": [
            "3\n"
          ]
        },
        {
          "output_type": "stream",
          "name": "stderr",
          "text": [
            "\r 84%|████████▍ | 140/167 [15:02<02:50,  6.30s/it]"
          ]
        },
        {
          "output_type": "stream",
          "name": "stdout",
          "text": [
            "3\n"
          ]
        },
        {
          "output_type": "stream",
          "name": "stderr",
          "text": [
            "\r 84%|████████▍ | 141/167 [15:08<02:42,  6.25s/it]"
          ]
        },
        {
          "output_type": "stream",
          "name": "stdout",
          "text": [
            "3\n"
          ]
        },
        {
          "output_type": "stream",
          "name": "stderr",
          "text": [
            "\r 85%|████████▌ | 142/167 [15:14<02:36,  6.25s/it]"
          ]
        },
        {
          "output_type": "stream",
          "name": "stdout",
          "text": [
            "0\n"
          ]
        },
        {
          "output_type": "stream",
          "name": "stderr",
          "text": [
            "\r 86%|████████▌ | 143/167 [15:20<02:30,  6.27s/it]"
          ]
        },
        {
          "output_type": "stream",
          "name": "stdout",
          "text": [
            "0\n"
          ]
        },
        {
          "output_type": "stream",
          "name": "stderr",
          "text": [
            "\r 86%|████████▌ | 144/167 [15:27<02:27,  6.41s/it]"
          ]
        },
        {
          "output_type": "stream",
          "name": "stdout",
          "text": [
            "4\n"
          ]
        },
        {
          "output_type": "stream",
          "name": "stderr",
          "text": [
            "\r 87%|████████▋ | 145/167 [15:33<02:19,  6.34s/it]"
          ]
        },
        {
          "output_type": "stream",
          "name": "stdout",
          "text": [
            "4\n"
          ]
        },
        {
          "output_type": "stream",
          "name": "stderr",
          "text": [
            "\r 87%|████████▋ | 146/167 [15:39<02:12,  6.32s/it]"
          ]
        },
        {
          "output_type": "stream",
          "name": "stdout",
          "text": [
            "3\n"
          ]
        },
        {
          "output_type": "stream",
          "name": "stderr",
          "text": [
            "\r 88%|████████▊ | 147/167 [15:46<02:06,  6.32s/it]"
          ]
        },
        {
          "output_type": "stream",
          "name": "stdout",
          "text": [
            "4\n"
          ]
        },
        {
          "output_type": "stream",
          "name": "stderr",
          "text": [
            "\r 89%|████████▊ | 148/167 [15:52<01:59,  6.30s/it]"
          ]
        },
        {
          "output_type": "stream",
          "name": "stdout",
          "text": [
            "4\n"
          ]
        },
        {
          "output_type": "stream",
          "name": "stderr",
          "text": [
            "\r 89%|████████▉ | 149/167 [15:58<01:52,  6.26s/it]"
          ]
        },
        {
          "output_type": "stream",
          "name": "stdout",
          "text": [
            "3\n"
          ]
        },
        {
          "output_type": "stream",
          "name": "stderr",
          "text": [
            "\r 90%|████████▉ | 150/167 [16:04<01:45,  6.23s/it]"
          ]
        },
        {
          "output_type": "stream",
          "name": "stdout",
          "text": [
            "4\n"
          ]
        },
        {
          "output_type": "stream",
          "name": "stderr",
          "text": [
            "\r 90%|█████████ | 151/167 [16:13<01:51,  6.94s/it]"
          ]
        },
        {
          "output_type": "stream",
          "name": "stdout",
          "text": [
            "3\n"
          ]
        },
        {
          "output_type": "stream",
          "name": "stderr",
          "text": [
            "\r 91%|█████████ | 152/167 [16:21<01:47,  7.16s/it]"
          ]
        },
        {
          "output_type": "stream",
          "name": "stdout",
          "text": [
            "3\n"
          ]
        },
        {
          "output_type": "stream",
          "name": "stderr",
          "text": [
            "\r 92%|█████████▏| 153/167 [16:28<01:39,  7.09s/it]"
          ]
        },
        {
          "output_type": "stream",
          "name": "stdout",
          "text": [
            "3\n"
          ]
        },
        {
          "output_type": "stream",
          "name": "stderr",
          "text": [
            "\r 92%|█████████▏| 154/167 [16:34<01:29,  6.88s/it]"
          ]
        },
        {
          "output_type": "stream",
          "name": "stdout",
          "text": [
            "4\n"
          ]
        },
        {
          "output_type": "stream",
          "name": "stderr",
          "text": [
            "\r 93%|█████████▎| 155/167 [16:40<01:19,  6.66s/it]"
          ]
        },
        {
          "output_type": "stream",
          "name": "stdout",
          "text": [
            "3\n"
          ]
        },
        {
          "output_type": "stream",
          "name": "stderr",
          "text": [
            "\r 93%|█████████▎| 156/167 [16:46<01:12,  6.56s/it]"
          ]
        },
        {
          "output_type": "stream",
          "name": "stdout",
          "text": [
            "3\n"
          ]
        },
        {
          "output_type": "stream",
          "name": "stderr",
          "text": [
            "\r 94%|█████████▍| 157/167 [16:52<01:04,  6.41s/it]"
          ]
        },
        {
          "output_type": "stream",
          "name": "stdout",
          "text": [
            "3\n"
          ]
        },
        {
          "output_type": "stream",
          "name": "stderr",
          "text": [
            "\r 95%|█████████▍| 158/167 [16:59<00:57,  6.39s/it]"
          ]
        },
        {
          "output_type": "stream",
          "name": "stdout",
          "text": [
            "3\n"
          ]
        },
        {
          "output_type": "stream",
          "name": "stderr",
          "text": [
            "\r 95%|█████████▌| 159/167 [17:05<00:50,  6.29s/it]"
          ]
        },
        {
          "output_type": "stream",
          "name": "stdout",
          "text": [
            "3\n"
          ]
        },
        {
          "output_type": "stream",
          "name": "stderr",
          "text": [
            "\r 96%|█████████▌| 160/167 [17:11<00:43,  6.28s/it]"
          ]
        },
        {
          "output_type": "stream",
          "name": "stdout",
          "text": [
            "3\n"
          ]
        },
        {
          "output_type": "stream",
          "name": "stderr",
          "text": [
            "\r 96%|█████████▋| 161/167 [17:18<00:38,  6.39s/it]"
          ]
        },
        {
          "output_type": "stream",
          "name": "stdout",
          "text": [
            "3\n"
          ]
        },
        {
          "output_type": "stream",
          "name": "stderr",
          "text": [
            "\r 97%|█████████▋| 162/167 [17:24<00:31,  6.39s/it]"
          ]
        },
        {
          "output_type": "stream",
          "name": "stdout",
          "text": [
            "3\n"
          ]
        },
        {
          "output_type": "stream",
          "name": "stderr",
          "text": [
            "\r 98%|█████████▊| 163/167 [17:31<00:25,  6.44s/it]"
          ]
        },
        {
          "output_type": "stream",
          "name": "stdout",
          "text": [
            "3\n"
          ]
        },
        {
          "output_type": "stream",
          "name": "stderr",
          "text": [
            "\r 98%|█████████▊| 164/167 [17:37<00:19,  6.41s/it]"
          ]
        },
        {
          "output_type": "stream",
          "name": "stdout",
          "text": [
            "3\n"
          ]
        },
        {
          "output_type": "stream",
          "name": "stderr",
          "text": [
            "\r 99%|█████████▉| 165/167 [17:43<00:12,  6.33s/it]"
          ]
        },
        {
          "output_type": "stream",
          "name": "stdout",
          "text": [
            "3\n"
          ]
        },
        {
          "output_type": "stream",
          "name": "stderr",
          "text": [
            "\r 99%|█████████▉| 166/167 [17:50<00:06,  6.52s/it]"
          ]
        },
        {
          "output_type": "stream",
          "name": "stdout",
          "text": [
            "3\n"
          ]
        },
        {
          "output_type": "stream",
          "name": "stderr",
          "text": [
            "100%|██████████| 167/167 [17:57<00:00,  6.45s/it]\n"
          ]
        },
        {
          "output_type": "stream",
          "name": "stdout",
          "text": [
            "3\n"
          ]
        },
        {
          "output_type": "stream",
          "name": "stderr",
          "text": [
            "  1%|          | 1/116 [00:06<13:18,  6.95s/it]"
          ]
        },
        {
          "output_type": "stream",
          "name": "stdout",
          "text": [
            "2\n"
          ]
        },
        {
          "output_type": "stream",
          "name": "stderr",
          "text": [
            "\r  2%|▏         | 2/116 [00:13<13:16,  6.98s/it]"
          ]
        },
        {
          "output_type": "stream",
          "name": "stdout",
          "text": [
            "4\n"
          ]
        },
        {
          "output_type": "stream",
          "name": "stderr",
          "text": [
            "\r  3%|▎         | 3/116 [00:21<13:34,  7.21s/it]"
          ]
        },
        {
          "output_type": "stream",
          "name": "stdout",
          "text": [
            "2\n"
          ]
        },
        {
          "output_type": "stream",
          "name": "stderr",
          "text": [
            "\r  3%|▎         | 4/116 [00:28<13:41,  7.34s/it]"
          ]
        },
        {
          "output_type": "stream",
          "name": "stdout",
          "text": [
            "2\n"
          ]
        },
        {
          "output_type": "stream",
          "name": "stderr",
          "text": [
            "\r  4%|▍         | 5/116 [00:36<13:45,  7.44s/it]"
          ]
        },
        {
          "output_type": "stream",
          "name": "stdout",
          "text": [
            "2\n"
          ]
        },
        {
          "output_type": "stream",
          "name": "stderr",
          "text": [
            "\r  5%|▌         | 6/116 [00:43<13:19,  7.27s/it]"
          ]
        },
        {
          "output_type": "stream",
          "name": "stdout",
          "text": [
            "2\n"
          ]
        },
        {
          "output_type": "stream",
          "name": "stderr",
          "text": [
            "\r  6%|▌         | 7/116 [00:50<12:54,  7.10s/it]"
          ]
        },
        {
          "output_type": "stream",
          "name": "stdout",
          "text": [
            "2\n"
          ]
        },
        {
          "output_type": "stream",
          "name": "stderr",
          "text": [
            "\r  7%|▋         | 8/116 [00:57<12:56,  7.19s/it]"
          ]
        },
        {
          "output_type": "stream",
          "name": "stdout",
          "text": [
            "2\n"
          ]
        },
        {
          "output_type": "stream",
          "name": "stderr",
          "text": [
            "\r  8%|▊         | 9/116 [01:04<12:38,  7.09s/it]"
          ]
        },
        {
          "output_type": "stream",
          "name": "stdout",
          "text": [
            "2\n"
          ]
        },
        {
          "output_type": "stream",
          "name": "stderr",
          "text": [
            "\r  9%|▊         | 10/116 [01:12<13:08,  7.44s/it]"
          ]
        },
        {
          "output_type": "stream",
          "name": "stdout",
          "text": [
            "2\n"
          ]
        },
        {
          "output_type": "stream",
          "name": "stderr",
          "text": [
            "\r  9%|▉         | 11/116 [01:20<13:00,  7.43s/it]"
          ]
        },
        {
          "output_type": "stream",
          "name": "stdout",
          "text": [
            "2\n"
          ]
        },
        {
          "output_type": "stream",
          "name": "stderr",
          "text": [
            "\r 10%|█         | 12/116 [01:28<13:13,  7.63s/it]"
          ]
        },
        {
          "output_type": "stream",
          "name": "stdout",
          "text": [
            "4\n"
          ]
        },
        {
          "output_type": "stream",
          "name": "stderr",
          "text": [
            "\r 11%|█         | 13/116 [01:34<12:32,  7.31s/it]"
          ]
        },
        {
          "output_type": "stream",
          "name": "stdout",
          "text": [
            "3\n"
          ]
        },
        {
          "output_type": "stream",
          "name": "stderr",
          "text": [
            "\r 12%|█▏        | 14/116 [01:41<12:13,  7.19s/it]"
          ]
        },
        {
          "output_type": "stream",
          "name": "stdout",
          "text": [
            "4\n"
          ]
        },
        {
          "output_type": "stream",
          "name": "stderr",
          "text": [
            "\r 13%|█▎        | 15/116 [01:48<11:48,  7.02s/it]"
          ]
        },
        {
          "output_type": "stream",
          "name": "stdout",
          "text": [
            "4\n"
          ]
        },
        {
          "output_type": "stream",
          "name": "stderr",
          "text": [
            "\r 14%|█▍        | 16/116 [01:55<11:35,  6.95s/it]"
          ]
        },
        {
          "output_type": "stream",
          "name": "stdout",
          "text": [
            "4\n"
          ]
        },
        {
          "output_type": "stream",
          "name": "stderr",
          "text": [
            "\r 15%|█▍        | 17/116 [02:01<11:02,  6.69s/it]"
          ]
        },
        {
          "output_type": "stream",
          "name": "stdout",
          "text": [
            "4\n"
          ]
        },
        {
          "output_type": "stream",
          "name": "stderr",
          "text": [
            "\r 16%|█▌        | 18/116 [02:07<10:47,  6.61s/it]"
          ]
        },
        {
          "output_type": "stream",
          "name": "stdout",
          "text": [
            "4\n"
          ]
        },
        {
          "output_type": "stream",
          "name": "stderr",
          "text": [
            "\r 16%|█▋        | 19/116 [02:13<10:30,  6.50s/it]"
          ]
        },
        {
          "output_type": "stream",
          "name": "stdout",
          "text": [
            "4\n"
          ]
        },
        {
          "output_type": "stream",
          "name": "stderr",
          "text": [
            "\r 17%|█▋        | 20/116 [02:20<10:22,  6.48s/it]"
          ]
        },
        {
          "output_type": "stream",
          "name": "stdout",
          "text": [
            "2\n"
          ]
        },
        {
          "output_type": "stream",
          "name": "stderr",
          "text": [
            "\r 18%|█▊        | 21/116 [02:26<10:03,  6.35s/it]"
          ]
        },
        {
          "output_type": "stream",
          "name": "stdout",
          "text": [
            "4\n"
          ]
        },
        {
          "output_type": "stream",
          "name": "stderr",
          "text": [
            "\r 19%|█▉        | 22/116 [02:32<09:56,  6.35s/it]"
          ]
        },
        {
          "output_type": "stream",
          "name": "stdout",
          "text": [
            "2\n"
          ]
        },
        {
          "output_type": "stream",
          "name": "stderr",
          "text": [
            "\r 20%|█▉        | 23/116 [02:40<10:33,  6.81s/it]"
          ]
        },
        {
          "output_type": "stream",
          "name": "stdout",
          "text": [
            "2\n"
          ]
        },
        {
          "output_type": "stream",
          "name": "stderr",
          "text": [
            "\r 21%|██        | 24/116 [02:49<11:11,  7.29s/it]"
          ]
        },
        {
          "output_type": "stream",
          "name": "stdout",
          "text": [
            "4\n"
          ]
        },
        {
          "output_type": "stream",
          "name": "stderr",
          "text": [
            "\r 22%|██▏       | 25/116 [02:56<10:56,  7.21s/it]"
          ]
        },
        {
          "output_type": "stream",
          "name": "stdout",
          "text": [
            "2\n"
          ]
        },
        {
          "output_type": "stream",
          "name": "stderr",
          "text": [
            "\r 22%|██▏       | 26/116 [03:02<10:32,  7.03s/it]"
          ]
        },
        {
          "output_type": "stream",
          "name": "stdout",
          "text": [
            "2\n"
          ]
        },
        {
          "output_type": "stream",
          "name": "stderr",
          "text": [
            "\r 23%|██▎       | 27/116 [03:08<10:06,  6.81s/it]"
          ]
        },
        {
          "output_type": "stream",
          "name": "stdout",
          "text": [
            "3\n"
          ]
        },
        {
          "output_type": "stream",
          "name": "stderr",
          "text": [
            "\r 24%|██▍       | 28/116 [03:15<09:44,  6.65s/it]"
          ]
        },
        {
          "output_type": "stream",
          "name": "stdout",
          "text": [
            "2\n"
          ]
        },
        {
          "output_type": "stream",
          "name": "stderr",
          "text": [
            "\r 25%|██▌       | 29/116 [03:21<09:30,  6.55s/it]"
          ]
        },
        {
          "output_type": "stream",
          "name": "stdout",
          "text": [
            "2\n"
          ]
        },
        {
          "output_type": "stream",
          "name": "stderr",
          "text": [
            "\r 26%|██▌       | 30/116 [03:27<09:14,  6.44s/it]"
          ]
        },
        {
          "output_type": "stream",
          "name": "stdout",
          "text": [
            "2\n"
          ]
        },
        {
          "output_type": "stream",
          "name": "stderr",
          "text": [
            "\r 27%|██▋       | 31/116 [03:33<08:59,  6.35s/it]"
          ]
        },
        {
          "output_type": "stream",
          "name": "stdout",
          "text": [
            "2\n"
          ]
        },
        {
          "output_type": "stream",
          "name": "stderr",
          "text": [
            "\r 28%|██▊       | 32/116 [03:40<08:50,  6.31s/it]"
          ]
        },
        {
          "output_type": "stream",
          "name": "stdout",
          "text": [
            "2\n"
          ]
        },
        {
          "output_type": "stream",
          "name": "stderr",
          "text": [
            "\r 28%|██▊       | 33/116 [03:46<08:40,  6.27s/it]"
          ]
        },
        {
          "output_type": "stream",
          "name": "stdout",
          "text": [
            "2\n"
          ]
        },
        {
          "output_type": "stream",
          "name": "stderr",
          "text": [
            "\r 29%|██▉       | 34/116 [03:52<08:36,  6.30s/it]"
          ]
        },
        {
          "output_type": "stream",
          "name": "stdout",
          "text": [
            "2\n"
          ]
        },
        {
          "output_type": "stream",
          "name": "stderr",
          "text": [
            "\r 30%|███       | 35/116 [03:58<08:26,  6.25s/it]"
          ]
        },
        {
          "output_type": "stream",
          "name": "stdout",
          "text": [
            "2\n"
          ]
        },
        {
          "output_type": "stream",
          "name": "stderr",
          "text": [
            "\r 31%|███       | 36/116 [04:05<08:20,  6.26s/it]"
          ]
        },
        {
          "output_type": "stream",
          "name": "stdout",
          "text": [
            "2\n"
          ]
        },
        {
          "output_type": "stream",
          "name": "stderr",
          "text": [
            "\r 32%|███▏      | 37/116 [04:11<08:11,  6.22s/it]"
          ]
        },
        {
          "output_type": "stream",
          "name": "stdout",
          "text": [
            "3\n"
          ]
        },
        {
          "output_type": "stream",
          "name": "stderr",
          "text": [
            "\r 33%|███▎      | 38/116 [04:17<08:07,  6.25s/it]"
          ]
        },
        {
          "output_type": "stream",
          "name": "stdout",
          "text": [
            "3\n"
          ]
        },
        {
          "output_type": "stream",
          "name": "stderr",
          "text": [
            "\r 34%|███▎      | 39/116 [04:23<07:57,  6.21s/it]"
          ]
        },
        {
          "output_type": "stream",
          "name": "stdout",
          "text": [
            "2\n"
          ]
        },
        {
          "output_type": "stream",
          "name": "stderr",
          "text": [
            "\r 34%|███▍      | 40/116 [04:30<08:06,  6.40s/it]"
          ]
        },
        {
          "output_type": "stream",
          "name": "stdout",
          "text": [
            "2\n"
          ]
        },
        {
          "output_type": "stream",
          "name": "stderr",
          "text": [
            "\r 35%|███▌      | 41/116 [04:37<08:04,  6.46s/it]"
          ]
        },
        {
          "output_type": "stream",
          "name": "stdout",
          "text": [
            "3\n"
          ]
        },
        {
          "output_type": "stream",
          "name": "stderr",
          "text": [
            "\r 36%|███▌      | 42/116 [04:44<08:19,  6.75s/it]"
          ]
        },
        {
          "output_type": "stream",
          "name": "stdout",
          "text": [
            "3\n"
          ]
        },
        {
          "output_type": "stream",
          "name": "stderr",
          "text": [
            "\r 37%|███▋      | 43/116 [04:52<08:33,  7.04s/it]"
          ]
        },
        {
          "output_type": "stream",
          "name": "stdout",
          "text": [
            "2\n"
          ]
        },
        {
          "output_type": "stream",
          "name": "stderr",
          "text": [
            "\r 38%|███▊      | 44/116 [04:59<08:38,  7.20s/it]"
          ]
        },
        {
          "output_type": "stream",
          "name": "stdout",
          "text": [
            "2\n"
          ]
        },
        {
          "output_type": "stream",
          "name": "stderr",
          "text": [
            "\r 39%|███▉      | 45/116 [05:06<08:17,  7.01s/it]"
          ]
        },
        {
          "output_type": "stream",
          "name": "stdout",
          "text": [
            "4\n"
          ]
        },
        {
          "output_type": "stream",
          "name": "stderr",
          "text": [
            "\r 40%|███▉      | 46/116 [05:12<07:51,  6.74s/it]"
          ]
        },
        {
          "output_type": "stream",
          "name": "stdout",
          "text": [
            "4\n"
          ]
        },
        {
          "output_type": "stream",
          "name": "stderr",
          "text": [
            "\r 41%|████      | 47/116 [05:18<07:34,  6.58s/it]"
          ]
        },
        {
          "output_type": "stream",
          "name": "stdout",
          "text": [
            "2\n"
          ]
        },
        {
          "output_type": "stream",
          "name": "stderr",
          "text": [
            "\r 41%|████▏     | 48/116 [05:25<07:30,  6.62s/it]"
          ]
        },
        {
          "output_type": "stream",
          "name": "stdout",
          "text": [
            "2\n"
          ]
        },
        {
          "output_type": "stream",
          "name": "stderr",
          "text": [
            "\r 42%|████▏     | 49/116 [05:31<07:16,  6.51s/it]"
          ]
        },
        {
          "output_type": "stream",
          "name": "stdout",
          "text": [
            "2\n"
          ]
        },
        {
          "output_type": "stream",
          "name": "stderr",
          "text": [
            "\r 43%|████▎     | 50/116 [05:38<07:11,  6.54s/it]"
          ]
        },
        {
          "output_type": "stream",
          "name": "stdout",
          "text": [
            "4\n"
          ]
        },
        {
          "output_type": "stream",
          "name": "stderr",
          "text": [
            "\r 44%|████▍     | 51/116 [05:44<06:59,  6.46s/it]"
          ]
        },
        {
          "output_type": "stream",
          "name": "stdout",
          "text": [
            "4\n"
          ]
        },
        {
          "output_type": "stream",
          "name": "stderr",
          "text": [
            "\r 45%|████▍     | 52/116 [05:50<06:46,  6.36s/it]"
          ]
        },
        {
          "output_type": "stream",
          "name": "stdout",
          "text": [
            "2\n"
          ]
        },
        {
          "output_type": "stream",
          "name": "stderr",
          "text": [
            "\r 46%|████▌     | 53/116 [05:57<06:48,  6.48s/it]"
          ]
        },
        {
          "output_type": "stream",
          "name": "stdout",
          "text": [
            "4\n"
          ]
        },
        {
          "output_type": "stream",
          "name": "stderr",
          "text": [
            "\r 47%|████▋     | 54/116 [06:04<06:44,  6.52s/it]"
          ]
        },
        {
          "output_type": "stream",
          "name": "stdout",
          "text": [
            "4\n"
          ]
        },
        {
          "output_type": "stream",
          "name": "stderr",
          "text": [
            "\r 47%|████▋     | 55/116 [06:10<06:45,  6.64s/it]"
          ]
        },
        {
          "output_type": "stream",
          "name": "stdout",
          "text": [
            "4\n"
          ]
        },
        {
          "output_type": "stream",
          "name": "stderr",
          "text": [
            "\r 48%|████▊     | 56/116 [06:17<06:28,  6.47s/it]"
          ]
        },
        {
          "output_type": "stream",
          "name": "stdout",
          "text": [
            "2\n"
          ]
        },
        {
          "output_type": "stream",
          "name": "stderr",
          "text": [
            "\r 49%|████▉     | 57/116 [06:23<06:18,  6.42s/it]"
          ]
        },
        {
          "output_type": "stream",
          "name": "stdout",
          "text": [
            "2\n"
          ]
        },
        {
          "output_type": "stream",
          "name": "stderr",
          "text": [
            "\r 50%|█████     | 58/116 [06:29<06:14,  6.45s/it]"
          ]
        },
        {
          "output_type": "stream",
          "name": "stdout",
          "text": [
            "2\n"
          ]
        },
        {
          "output_type": "stream",
          "name": "stderr",
          "text": [
            "\r 51%|█████     | 59/116 [06:36<06:03,  6.38s/it]"
          ]
        },
        {
          "output_type": "stream",
          "name": "stdout",
          "text": [
            "2\n"
          ]
        },
        {
          "output_type": "stream",
          "name": "stderr",
          "text": [
            "\r 52%|█████▏    | 60/116 [06:42<05:53,  6.32s/it]"
          ]
        },
        {
          "output_type": "stream",
          "name": "stdout",
          "text": [
            "2\n"
          ]
        },
        {
          "output_type": "stream",
          "name": "stderr",
          "text": [
            "\r 53%|█████▎    | 61/116 [06:48<05:45,  6.29s/it]"
          ]
        },
        {
          "output_type": "stream",
          "name": "stdout",
          "text": [
            "2\n"
          ]
        },
        {
          "output_type": "stream",
          "name": "stderr",
          "text": [
            "\r 53%|█████▎    | 62/116 [06:56<06:06,  6.78s/it]"
          ]
        },
        {
          "output_type": "stream",
          "name": "stdout",
          "text": [
            "2\n"
          ]
        },
        {
          "output_type": "stream",
          "name": "stderr",
          "text": [
            "\r 54%|█████▍    | 63/116 [07:04<06:13,  7.06s/it]"
          ]
        },
        {
          "output_type": "stream",
          "name": "stdout",
          "text": [
            "2\n"
          ]
        },
        {
          "output_type": "stream",
          "name": "stderr",
          "text": [
            "\r 55%|█████▌    | 64/116 [07:10<06:02,  6.97s/it]"
          ]
        },
        {
          "output_type": "stream",
          "name": "stdout",
          "text": [
            "2\n"
          ]
        },
        {
          "output_type": "stream",
          "name": "stderr",
          "text": [
            "\r 56%|█████▌    | 65/116 [07:17<05:53,  6.94s/it]"
          ]
        },
        {
          "output_type": "stream",
          "name": "stdout",
          "text": [
            "2\n"
          ]
        },
        {
          "output_type": "stream",
          "name": "stderr",
          "text": [
            "\r 57%|█████▋    | 66/116 [07:23<05:34,  6.69s/it]"
          ]
        },
        {
          "output_type": "stream",
          "name": "stdout",
          "text": [
            "2\n"
          ]
        },
        {
          "output_type": "stream",
          "name": "stderr",
          "text": [
            "\r 58%|█████▊    | 67/116 [07:30<05:22,  6.57s/it]"
          ]
        },
        {
          "output_type": "stream",
          "name": "stdout",
          "text": [
            "2\n"
          ]
        },
        {
          "output_type": "stream",
          "name": "stderr",
          "text": [
            "\r 59%|█████▊    | 68/116 [07:36<05:08,  6.43s/it]"
          ]
        },
        {
          "output_type": "stream",
          "name": "stdout",
          "text": [
            "2\n"
          ]
        },
        {
          "output_type": "stream",
          "name": "stderr",
          "text": [
            "\r 59%|█████▉    | 69/116 [07:42<05:02,  6.43s/it]"
          ]
        },
        {
          "output_type": "stream",
          "name": "stdout",
          "text": [
            "2\n"
          ]
        },
        {
          "output_type": "stream",
          "name": "stderr",
          "text": [
            "\r 60%|██████    | 70/116 [07:48<04:51,  6.34s/it]"
          ]
        },
        {
          "output_type": "stream",
          "name": "stdout",
          "text": [
            "2\n"
          ]
        },
        {
          "output_type": "stream",
          "name": "stderr",
          "text": [
            "\r 61%|██████    | 71/116 [07:55<04:45,  6.35s/it]"
          ]
        },
        {
          "output_type": "stream",
          "name": "stdout",
          "text": [
            "2\n"
          ]
        },
        {
          "output_type": "stream",
          "name": "stderr",
          "text": [
            "\r 62%|██████▏   | 72/116 [08:01<04:35,  6.27s/it]"
          ]
        },
        {
          "output_type": "stream",
          "name": "stdout",
          "text": [
            "2\n"
          ]
        },
        {
          "output_type": "stream",
          "name": "stderr",
          "text": [
            "\r 63%|██████▎   | 73/116 [08:07<04:30,  6.29s/it]"
          ]
        },
        {
          "output_type": "stream",
          "name": "stdout",
          "text": [
            "2\n"
          ]
        },
        {
          "output_type": "stream",
          "name": "stderr",
          "text": [
            "\r 64%|██████▍   | 74/116 [08:13<04:22,  6.24s/it]"
          ]
        },
        {
          "output_type": "stream",
          "name": "stdout",
          "text": [
            "2\n"
          ]
        },
        {
          "output_type": "stream",
          "name": "stderr",
          "text": [
            "\r 65%|██████▍   | 75/116 [08:20<04:17,  6.27s/it]"
          ]
        },
        {
          "output_type": "stream",
          "name": "stdout",
          "text": [
            "2\n"
          ]
        },
        {
          "output_type": "stream",
          "name": "stderr",
          "text": [
            "\r 66%|██████▌   | 76/116 [08:26<04:09,  6.24s/it]"
          ]
        },
        {
          "output_type": "stream",
          "name": "stdout",
          "text": [
            "2\n"
          ]
        },
        {
          "output_type": "stream",
          "name": "stderr",
          "text": [
            "\r 66%|██████▋   | 77/116 [08:33<04:10,  6.42s/it]"
          ]
        },
        {
          "output_type": "stream",
          "name": "stdout",
          "text": [
            "2\n"
          ]
        },
        {
          "output_type": "stream",
          "name": "stderr",
          "text": [
            "\r 67%|██████▋   | 78/116 [08:39<04:06,  6.49s/it]"
          ]
        },
        {
          "output_type": "stream",
          "name": "stdout",
          "text": [
            "4\n"
          ]
        },
        {
          "output_type": "stream",
          "name": "stderr",
          "text": [
            "\r 68%|██████▊   | 79/116 [08:45<03:57,  6.42s/it]"
          ]
        },
        {
          "output_type": "stream",
          "name": "stdout",
          "text": [
            "3\n"
          ]
        },
        {
          "output_type": "stream",
          "name": "stderr",
          "text": [
            "\r 69%|██████▉   | 80/116 [08:52<03:53,  6.49s/it]"
          ]
        },
        {
          "output_type": "stream",
          "name": "stdout",
          "text": [
            "2\n"
          ]
        },
        {
          "output_type": "stream",
          "name": "stderr",
          "text": [
            "\r 70%|██████▉   | 81/116 [09:00<04:01,  6.91s/it]"
          ]
        },
        {
          "output_type": "stream",
          "name": "stdout",
          "text": [
            "2\n"
          ]
        },
        {
          "output_type": "stream",
          "name": "stderr",
          "text": [
            "\r 71%|███████   | 82/116 [09:08<04:03,  7.17s/it]"
          ]
        },
        {
          "output_type": "stream",
          "name": "stdout",
          "text": [
            "2\n"
          ]
        },
        {
          "output_type": "stream",
          "name": "stderr",
          "text": [
            "\r 72%|███████▏  | 83/116 [09:15<03:59,  7.26s/it]"
          ]
        },
        {
          "output_type": "stream",
          "name": "stdout",
          "text": [
            "2\n"
          ]
        },
        {
          "output_type": "stream",
          "name": "stderr",
          "text": [
            "\r 72%|███████▏  | 84/116 [09:22<03:43,  6.97s/it]"
          ]
        },
        {
          "output_type": "stream",
          "name": "stdout",
          "text": [
            "2\n"
          ]
        },
        {
          "output_type": "stream",
          "name": "stderr",
          "text": [
            "\r 73%|███████▎  | 85/116 [09:28<03:35,  6.96s/it]"
          ]
        },
        {
          "output_type": "stream",
          "name": "stdout",
          "text": [
            "2\n"
          ]
        },
        {
          "output_type": "stream",
          "name": "stderr",
          "text": [
            "\r 74%|███████▍  | 86/116 [09:35<03:21,  6.72s/it]"
          ]
        },
        {
          "output_type": "stream",
          "name": "stdout",
          "text": [
            "2\n"
          ]
        },
        {
          "output_type": "stream",
          "name": "stderr",
          "text": [
            "\r 75%|███████▌  | 87/116 [09:41<03:11,  6.61s/it]"
          ]
        },
        {
          "output_type": "stream",
          "name": "stdout",
          "text": [
            "2\n"
          ]
        },
        {
          "output_type": "stream",
          "name": "stderr",
          "text": [
            "\r 76%|███████▌  | 88/116 [09:48<03:05,  6.62s/it]"
          ]
        },
        {
          "output_type": "stream",
          "name": "stdout",
          "text": [
            "2\n"
          ]
        },
        {
          "output_type": "stream",
          "name": "stderr",
          "text": [
            "\r 77%|███████▋  | 89/116 [09:54<02:59,  6.66s/it]"
          ]
        },
        {
          "output_type": "stream",
          "name": "stdout",
          "text": [
            "2\n"
          ]
        },
        {
          "output_type": "stream",
          "name": "stderr",
          "text": [
            "\r 78%|███████▊  | 90/116 [10:01<02:49,  6.52s/it]"
          ]
        },
        {
          "output_type": "stream",
          "name": "stdout",
          "text": [
            "2\n"
          ]
        },
        {
          "output_type": "stream",
          "name": "stderr",
          "text": [
            "\r 78%|███████▊  | 91/116 [10:07<02:41,  6.45s/it]"
          ]
        },
        {
          "output_type": "stream",
          "name": "stdout",
          "text": [
            "2\n"
          ]
        },
        {
          "output_type": "stream",
          "name": "stderr",
          "text": [
            "\r 79%|███████▉  | 92/116 [10:13<02:33,  6.39s/it]"
          ]
        },
        {
          "output_type": "stream",
          "name": "stdout",
          "text": [
            "2\n"
          ]
        },
        {
          "output_type": "stream",
          "name": "stderr",
          "text": [
            "\r 80%|████████  | 93/116 [10:20<02:30,  6.53s/it]"
          ]
        },
        {
          "output_type": "stream",
          "name": "stdout",
          "text": [
            "2\n"
          ]
        },
        {
          "output_type": "stream",
          "name": "stderr",
          "text": [
            "\r 81%|████████  | 94/116 [10:26<02:20,  6.41s/it]"
          ]
        },
        {
          "output_type": "stream",
          "name": "stdout",
          "text": [
            "2\n"
          ]
        },
        {
          "output_type": "stream",
          "name": "stderr",
          "text": [
            "\r 82%|████████▏ | 95/116 [10:33<02:15,  6.43s/it]"
          ]
        },
        {
          "output_type": "stream",
          "name": "stdout",
          "text": [
            "2\n"
          ]
        },
        {
          "output_type": "stream",
          "name": "stderr",
          "text": [
            "\r 83%|████████▎ | 96/116 [10:39<02:06,  6.33s/it]"
          ]
        },
        {
          "output_type": "stream",
          "name": "stdout",
          "text": [
            "2\n"
          ]
        },
        {
          "output_type": "stream",
          "name": "stderr",
          "text": [
            "\r 84%|████████▎ | 97/116 [10:45<02:02,  6.47s/it]"
          ]
        },
        {
          "output_type": "stream",
          "name": "stdout",
          "text": [
            "2\n"
          ]
        },
        {
          "output_type": "stream",
          "name": "stderr",
          "text": [
            "\r 84%|████████▍ | 98/116 [10:52<01:54,  6.38s/it]"
          ]
        },
        {
          "output_type": "stream",
          "name": "stdout",
          "text": [
            "2\n"
          ]
        },
        {
          "output_type": "stream",
          "name": "stderr",
          "text": [
            "\r 85%|████████▌ | 99/116 [10:58<01:48,  6.37s/it]"
          ]
        },
        {
          "output_type": "stream",
          "name": "stdout",
          "text": [
            "4\n"
          ]
        },
        {
          "output_type": "stream",
          "name": "stderr",
          "text": [
            "\r 86%|████████▌ | 100/116 [11:04<01:40,  6.31s/it]"
          ]
        },
        {
          "output_type": "stream",
          "name": "stdout",
          "text": [
            "4\n"
          ]
        },
        {
          "output_type": "stream",
          "name": "stderr",
          "text": [
            "\r 87%|████████▋ | 101/116 [11:12<01:42,  6.80s/it]"
          ]
        },
        {
          "output_type": "stream",
          "name": "stdout",
          "text": [
            "2\n"
          ]
        },
        {
          "output_type": "stream",
          "name": "stderr",
          "text": [
            "\r 88%|████████▊ | 102/116 [11:21<01:45,  7.54s/it]"
          ]
        },
        {
          "output_type": "stream",
          "name": "stdout",
          "text": [
            "2\n"
          ]
        },
        {
          "output_type": "stream",
          "name": "stderr",
          "text": [
            "\r 89%|████████▉ | 103/116 [11:29<01:36,  7.44s/it]"
          ]
        },
        {
          "output_type": "stream",
          "name": "stdout",
          "text": [
            "2\n"
          ]
        },
        {
          "output_type": "stream",
          "name": "stderr",
          "text": [
            "\r 90%|████████▉ | 104/116 [11:36<01:27,  7.28s/it]"
          ]
        },
        {
          "output_type": "stream",
          "name": "stdout",
          "text": [
            "2\n"
          ]
        },
        {
          "output_type": "stream",
          "name": "stderr",
          "text": [
            "\r 91%|█████████ | 105/116 [11:42<01:16,  6.93s/it]"
          ]
        },
        {
          "output_type": "stream",
          "name": "stdout",
          "text": [
            "2\n"
          ]
        },
        {
          "output_type": "stream",
          "name": "stderr",
          "text": [
            "\r 91%|█████████▏| 106/116 [11:48<01:07,  6.76s/it]"
          ]
        },
        {
          "output_type": "stream",
          "name": "stdout",
          "text": [
            "2\n"
          ]
        },
        {
          "output_type": "stream",
          "name": "stderr",
          "text": [
            "\r 92%|█████████▏| 107/116 [11:55<01:00,  6.76s/it]"
          ]
        },
        {
          "output_type": "stream",
          "name": "stdout",
          "text": [
            "2\n"
          ]
        },
        {
          "output_type": "stream",
          "name": "stderr",
          "text": [
            "\r 93%|█████████▎| 108/116 [12:02<00:54,  6.84s/it]"
          ]
        },
        {
          "output_type": "stream",
          "name": "stdout",
          "text": [
            "2\n"
          ]
        },
        {
          "output_type": "stream",
          "name": "stderr",
          "text": [
            "\r 94%|█████████▍| 109/116 [12:08<00:46,  6.65s/it]"
          ]
        },
        {
          "output_type": "stream",
          "name": "stdout",
          "text": [
            "4\n"
          ]
        },
        {
          "output_type": "stream",
          "name": "stderr",
          "text": [
            "\r 95%|█████████▍| 110/116 [12:14<00:39,  6.58s/it]"
          ]
        },
        {
          "output_type": "stream",
          "name": "stdout",
          "text": [
            "4\n"
          ]
        },
        {
          "output_type": "stream",
          "name": "stderr",
          "text": [
            "\r 96%|█████████▌| 111/116 [12:21<00:32,  6.45s/it]"
          ]
        },
        {
          "output_type": "stream",
          "name": "stdout",
          "text": [
            "4\n"
          ]
        },
        {
          "output_type": "stream",
          "name": "stderr",
          "text": [
            "\r 97%|█████████▋| 112/116 [12:27<00:25,  6.44s/it]"
          ]
        },
        {
          "output_type": "stream",
          "name": "stdout",
          "text": [
            "2\n"
          ]
        },
        {
          "output_type": "stream",
          "name": "stderr",
          "text": [
            "\r 97%|█████████▋| 113/116 [12:33<00:19,  6.39s/it]"
          ]
        },
        {
          "output_type": "stream",
          "name": "stdout",
          "text": [
            "2\n"
          ]
        },
        {
          "output_type": "stream",
          "name": "stderr",
          "text": [
            "\r 98%|█████████▊| 114/116 [12:40<00:12,  6.38s/it]"
          ]
        },
        {
          "output_type": "stream",
          "name": "stdout",
          "text": [
            "4\n"
          ]
        },
        {
          "output_type": "stream",
          "name": "stderr",
          "text": [
            "\r 99%|█████████▉| 115/116 [12:46<00:06,  6.31s/it]"
          ]
        },
        {
          "output_type": "stream",
          "name": "stdout",
          "text": [
            "4\n"
          ]
        },
        {
          "output_type": "stream",
          "name": "stderr",
          "text": [
            "100%|██████████| 116/116 [12:52<00:00,  6.66s/it]"
          ]
        },
        {
          "output_type": "stream",
          "name": "stdout",
          "text": [
            "2\n"
          ]
        },
        {
          "output_type": "stream",
          "name": "stderr",
          "text": [
            "\n"
          ]
        }
      ],
      "source": [
        "from tqdm import tqdm\n",
        "videos_folder = \"../Data/Sport_Videos/\"\n",
        "y_true = []\n",
        "y_pred_res = []\n",
        "paths = []\n",
        "\n",
        "video_list_dir =['BaseballPitch','Basketball','Fencing','TennisSwing','VolleyballSpiking']\n",
        "for ind,video_file in enumerate(video_list_dir):\n",
        "  video_paths = [os.path.join(videos_folder,video_file, file_name) for file_name in os.listdir(os.path.join(videos_folder,video_file))]\n",
        "\n",
        "  for path in tqdm(video_paths):\n",
        "      prediction = predict_video(path)\n",
        "      y_true.append(ind)\n",
        "      y_pred_res.append(prediction)\n",
        ""
      ],
      "id": "NamgrG-YvHp2"
    },
    {
      "cell_type": "code",
      "execution_count": null,
      "metadata": {
        "id": "F5uA0b4mW6C1",
        "colab": {
          "base_uri": "https://localhost:8080/"
        },
        "outputId": "6489e113-6331-48a2-f279-db397077136d"
      },
      "outputs": [
        {
          "output_type": "stream",
          "name": "stdout",
          "text": [
            "[0, 0, 0, 0, 0, 0, 0, 0, 0, 0, 0, 0, 0, 0, 0, 0, 0, 0, 0, 0, 0, 0, 0, 0, 0, 0, 0, 0, 0, 0, 0, 0, 0, 0, 0, 0, 0, 0, 0, 0, 0, 0, 0, 0, 0, 0, 0, 0, 0, 0, 0, 0, 0, 0, 0, 0, 0, 0, 0, 0, 0, 0, 0, 0, 0, 0, 0, 0, 0, 0, 0, 0, 0, 0, 0, 0, 0, 0, 0, 0, 0, 0, 0, 0, 0, 0, 0, 0, 0, 0, 0, 0, 0, 0, 0, 0, 0, 0, 0, 0, 0, 0, 0, 0, 0, 0, 0, 0, 0, 0, 0, 0, 0, 0, 0, 0, 0, 0, 0, 0, 0, 0, 0, 0, 0, 0, 0, 0, 0, 0, 0, 0, 0, 0, 0, 0, 0, 0, 0, 0, 0, 0, 0, 0, 0, 0, 0, 0, 0, 0, 1, 1, 1, 1, 1, 1, 1, 1, 1, 1, 1, 1, 1, 1, 1, 1, 1, 1, 1, 1, 1, 1, 1, 1, 1, 1, 1, 1, 1, 1, 1, 1, 1, 1, 1, 1, 1, 1, 1, 1, 1, 1, 1, 1, 1, 1, 1, 1, 1, 1, 1, 1, 1, 1, 1, 1, 1, 1, 1, 1, 1, 1, 1, 1, 1, 1, 1, 1, 1, 1, 1, 1, 1, 1, 1, 1, 1, 1, 1, 1, 1, 1, 1, 1, 1, 1, 1, 1, 1, 1, 1, 1, 1, 1, 1, 1, 1, 1, 1, 1, 1, 1, 1, 1, 1, 1, 1, 1, 1, 1, 1, 1, 1, 1, 1, 1, 1, 1, 1, 1, 1, 1, 1, 1, 1, 1, 1, 1, 1, 1, 1, 1, 1, 1, 1, 1, 1, 2, 2, 2, 2, 2, 2, 2, 2, 2, 2, 2, 2, 2, 2, 2, 2, 2, 2, 2, 2, 2, 2, 2, 2, 2, 2, 2, 2, 2, 2, 2, 2, 2, 2, 2, 2, 2, 2, 2, 2, 2, 2, 2, 2, 2, 2, 2, 2, 2, 2, 2, 2, 2, 2, 2, 2, 2, 2, 2, 2, 2, 2, 2, 2, 2, 2, 2, 2, 2, 2, 2, 2, 2, 2, 2, 2, 2, 2, 2, 2, 2, 2, 2, 2, 2, 2, 2, 2, 2, 2, 2, 2, 2, 2, 2, 2, 2, 2, 2, 2, 2, 2, 2, 2, 2, 2, 2, 2, 2, 2, 2, 3, 3, 3, 3, 3, 3, 3, 3, 3, 3, 3, 3, 3, 3, 3, 3, 3, 3, 3, 3, 3, 3, 3, 3, 3, 3, 3, 3, 3, 3, 3, 3, 3, 3, 3, 3, 3, 3, 3, 3, 3, 3, 3, 3, 3, 3, 3, 3, 3, 3, 3, 3, 3, 3, 3, 3, 3, 3, 3, 3, 3, 3, 3, 3, 3, 3, 3, 3, 3, 3, 3, 3, 3, 3, 3, 3, 3, 3, 3, 3, 3, 3, 3, 3, 3, 3, 3, 3, 3, 3, 3, 3, 3, 3, 3, 3, 3, 3, 3, 3, 3, 3, 3, 3, 3, 3, 3, 3, 3, 3, 3, 3, 3, 3, 3, 3, 3, 3, 3, 3, 3, 3, 3, 3, 3, 3, 3, 3, 3, 3, 3, 3, 3, 3, 3, 3, 3, 3, 3, 3, 3, 3, 3, 3, 3, 3, 3, 3, 3, 3, 3, 3, 3, 3, 3, 3, 3, 3, 3, 3, 3, 3, 3, 3, 3, 3, 3, 4, 4, 4, 4, 4, 4, 4, 4, 4, 4, 4, 4, 4, 4, 4, 4, 4, 4, 4, 4, 4, 4, 4, 4, 4, 4, 4, 4, 4, 4, 4, 4, 4, 4, 4, 4, 4, 4, 4, 4, 4, 4, 4, 4, 4, 4, 4, 4, 4, 4, 4, 4, 4, 4, 4, 4, 4, 4, 4, 4, 4, 4, 4, 4, 4, 4, 4, 4, 4, 4, 4, 4, 4, 4, 4, 4, 4, 4, 4, 4, 4, 4, 4, 4, 4, 4, 4, 4, 4, 4, 4, 4, 4, 4, 4, 4, 4, 4, 4, 4, 4, 4, 4, 4, 4, 4, 4, 4, 4, 4, 4, 4, 4, 4, 4, 4]\n",
            "[3, 3, 4, 3, 3, 0, 4, 0, 0, 0, 0, 0, 2, 2, 2, 4, 2, 3, 3, 3, 3, 3, 0, 0, 4, 4, 0, 0, 0, 0, 0, 0, 0, 0, 0, 0, 0, 0, 3, 0, 0, 0, 0, 0, 0, 0, 0, 0, 0, 0, 0, 0, 0, 0, 0, 0, 0, 3, 3, 3, 3, 3, 0, 0, 0, 0, 0, 2, 2, 3, 2, 2, 2, 3, 2, 2, 0, 2, 0, 0, 0, 3, 3, 0, 3, 3, 3, 3, 0, 3, 0, 4, 0, 0, 0, 0, 0, 0, 2, 0, 0, 3, 0, 2, 2, 4, 2, 4, 3, 3, 4, 0, 3, 0, 0, 0, 0, 0, 0, 0, 0, 0, 0, 0, 0, 2, 2, 0, 2, 0, 0, 0, 0, 0, 0, 0, 0, 0, 0, 0, 0, 0, 0, 0, 0, 0, 0, 0, 0, 0, 4, 4, 4, 4, 4, 4, 4, 2, 2, 2, 2, 4, 2, 2, 4, 2, 0, 4, 2, 4, 4, 4, 4, 2, 3, 4, 3, 3, 2, 2, 2, 2, 2, 2, 3, 2, 2, 2, 2, 3, 3, 3, 3, 3, 3, 3, 3, 3, 3, 2, 2, 3, 3, 3, 2, 2, 2, 2, 2, 4, 4, 4, 4, 2, 2, 0, 2, 3, 0, 3, 3, 3, 3, 3, 3, 3, 3, 3, 3, 3, 3, 2, 2, 3, 2, 2, 2, 2, 2, 2, 2, 3, 2, 3, 2, 3, 3, 2, 2, 3, 2, 3, 2, 2, 2, 2, 2, 2, 2, 2, 3, 3, 2, 3, 3, 3, 3, 3, 4, 4, 3, 0, 4, 0, 0, 3, 2, 3, 2, 3, 2, 2, 2, 3, 0, 3, 3, 2, 2, 2, 2, 2, 2, 2, 2, 2, 2, 2, 2, 2, 2, 2, 2, 2, 2, 2, 2, 2, 2, 2, 2, 2, 2, 2, 2, 2, 2, 4, 4, 4, 4, 2, 2, 2, 2, 2, 2, 2, 2, 2, 2, 2, 2, 2, 2, 2, 2, 2, 2, 2, 2, 2, 2, 2, 2, 2, 2, 2, 4, 4, 2, 2, 2, 2, 2, 2, 2, 2, 2, 2, 2, 2, 2, 2, 2, 2, 4, 2, 2, 0, 2, 2, 2, 2, 2, 2, 2, 2, 2, 2, 2, 2, 2, 2, 2, 2, 2, 2, 2, 2, 2, 2, 2, 2, 2, 2, 2, 2, 3, 3, 3, 3, 3, 3, 3, 3, 3, 3, 3, 3, 3, 3, 3, 3, 3, 0, 3, 0, 3, 3, 3, 3, 3, 3, 3, 3, 0, 3, 0, 3, 0, 3, 3, 2, 2, 2, 4, 4, 2, 2, 0, 0, 3, 0, 0, 0, 0, 3, 3, 3, 3, 3, 3, 3, 2, 3, 3, 3, 3, 3, 0, 0, 0, 0, 0, 0, 0, 3, 3, 3, 3, 3, 3, 3, 3, 3, 2, 2, 2, 3, 3, 3, 4, 3, 3, 3, 3, 3, 3, 3, 3, 3, 3, 3, 3, 3, 0, 0, 0, 0, 0, 0, 0, 4, 4, 4, 4, 4, 4, 4, 3, 3, 3, 3, 3, 3, 3, 3, 3, 3, 3, 3, 3, 3, 3, 3, 3, 3, 3, 3, 3, 3, 3, 3, 3, 3, 3, 3, 3, 0, 0, 4, 4, 3, 4, 4, 3, 4, 3, 3, 3, 4, 3, 3, 3, 3, 3, 3, 3, 3, 3, 3, 3, 3, 3, 2, 4, 2, 2, 2, 2, 2, 2, 2, 2, 2, 4, 3, 4, 4, 4, 4, 4, 4, 2, 4, 2, 2, 4, 2, 2, 3, 2, 2, 2, 2, 2, 2, 2, 2, 2, 3, 3, 2, 2, 3, 3, 2, 2, 4, 4, 2, 2, 2, 4, 4, 2, 4, 4, 4, 2, 2, 2, 2, 2, 2, 2, 2, 2, 2, 2, 2, 2, 2, 2, 2, 2, 2, 2, 2, 2, 2, 4, 3, 2, 2, 2, 2, 2, 2, 2, 2, 2, 2, 2, 2, 2, 2, 2, 2, 2, 2, 2, 4, 4, 2, 2, 2, 2, 2, 2, 2, 2, 4, 4, 4, 2, 2, 4, 4, 2]\n"
          ]
        }
      ],
      "source": [
        "print(y_true)\n",
        "print(y_pred_res)\n",
        "#classes= [\"baseball\", \"basketball\", \"fencing\", \"tennis\", \"volleyball\"]"
      ],
      "id": "F5uA0b4mW6C1"
    },
    {
      "cell_type": "code",
      "execution_count": null,
      "metadata": {
        "id": "YABEn3EbbFWW",
        "colab": {
          "base_uri": "https://localhost:8080/",
          "height": 518
        },
        "outputId": "56ee4b59-cdf1-4bb4-bc34-15a0d1471092"
      },
      "outputs": [
        {
          "output_type": "display_data",
          "data": {
            "text/plain": [
              "<Figure size 640x480 with 2 Axes>"
            ],
            "image/png": "[encoded data removed]"
          },
          "metadata": {}
        }
      ],
      "source": [
        "from sklearn.metrics import confusion_matrix, ConfusionMatrixDisplay\n",
        "cm = confusion_matrix(y_true, y_pred_res)\n",
        "cm_display = ConfusionMatrixDisplay(cm)\n",
        "cm_display.plot()\n",
        "\n",
        "plt.title('Test Confusion Matrix for ResNet50 model')\n",
        "tick_marks = np.arange(len(classes))\n",
        "plt.xticks(tick_marks, classes, rotation=45)\n",
        "plt.yticks(tick_marks, classes)\n",
        "plt.show()"
      ],
      "id": "YABEn3EbbFWW"
    },
    {
      "cell_type": "code",
      "execution_count": null,
      "metadata": {
        "id": "gqALl0Sic3Sh",
        "colab": {
          "base_uri": "https://localhost:8080/"
        },
        "outputId": "7aa16775-5918-4548-95e4-16bdbcc35277"
      },
      "outputs": [
        {
          "output_type": "stream",
          "name": "stdout",
          "text": [
            "              precision    recall  f1-score   support\n",
            "\n",
            "           0       0.73      0.63      0.67       150\n",
            "           1       0.00      0.00      0.00       137\n",
            "           2       0.38      0.93      0.54       111\n",
            "           3       0.57      0.69      0.62       167\n",
            "           4       0.32      0.22      0.26       116\n",
            "\n",
            "    accuracy                           0.49       681\n",
            "   macro avg       0.40      0.49      0.42       681\n",
            "weighted avg       0.42      0.49      0.43       681\n",
            "\n"
          ]
        }
      ],
      "source": [
        "from sklearn.metrics import classification_report\n",
        "report = classification_report(y_true, y_pred_res)\n",
        "print(report)\n"
      ],
      "id": "gqALl0Sic3Sh"
    },
    {
      "cell_type": "code",
      "execution_count": null,
      "metadata": {
        "id": "FiOHuAAypX3P",
        "colab": {
          "base_uri": "https://localhost:8080/"
        },
        "outputId": "bc807fcc-1082-40fa-9c5c-07476c728309"
      },
      "outputs": [
        {
          "output_type": "stream",
          "name": "stdout",
          "text": [
            "Accuracy is 49.48604992657856\n"
          ]
        }
      ],
      "source": [
        "accuracy = (cm.diagonal().sum() / cm.sum()) * 100\n",
        "print('Accuracy is',accuracy)\n",
        "del model_ResNet50"
      ],
      "id": "FiOHuAAypX3P"
    },
    {
      "cell_type": "markdown",
      "source": [
        "### Tried running the below cells as well but was out of RAM and compute units on colab."
      ],
      "metadata": {
        "id": "5hqCC35sdl3I"
      },
      "id": "5hqCC35sdl3I"
    },
    {
      "cell_type": "markdown",
      "metadata": {
        "id": "8oJKPUPk81Gc"
      },
      "source": [
        "#### **VGG**"
      ],
      "id": "8oJKPUPk81Gc"
    },
    {
      "cell_type": "code",
      "execution_count": null,
      "metadata": {
        "id": "keT6Xcep81r8"
      },
      "outputs": [],
      "source": [
        "NUM_FRAMES = 100\n",
        "average_probs = []\n",
        "def predict_video(video_path):\n",
        "    # Open the video and get its properties\n",
        "    video = cv2.VideoCapture (video_path)\n",
        "\n",
        "    fps = video.get (cv2.CAP_PROP_FPS)\n",
        "    num_frames_video = int(video.get(cv2.CAP_PROP_FRAME_COUNT))\n",
        "\n",
        "    # Determine the frames to extract\n",
        "    frame_idxs = np.linspace(0, num_frames_video-1, NUM_FRAMES, dtype=int)\n",
        "\n",
        "    # Create a list to store the probability vectors for each frame\n",
        "    frame_probs = []\n",
        "\n",
        "    # Loop over the frames to extract and apply the model\n",
        "    for cnt, frame_idx in enumerate(frame_idxs):\n",
        "      # Extract the frame\n",
        "      video.set(cv2.CAP_PROP_POS_FRAMES, frame_idx)\n",
        "      ret, frame = video.read()\n",
        "\n",
        "      if not ret:\n",
        "         continue\n",
        "\n",
        "      # Preprocessing the frame\n",
        "      frame = cv2.resize(frame, (224, 224))\n",
        "      frame = cv2.cvtColor (frame, cv2.COLOR_BGR2RGB)\n",
        "\n",
        "      # Apply the model and get the probability vector\n",
        "      probs = model_vgg.predict(np.expand_dims(frame, axis=0),verbose=0)\n",
        "      frame_probs.append(probs)\n",
        "\n",
        "    average_prob = np.mean(frame_probs, axis=0)\n",
        "    # Store the average probability vector for the video\n",
        "    max_index = np.argmax(average_prob)\n",
        "    average_probs.append(max_index)\n",
        "\n",
        "\n",
        "    print(max_index)\n",
        "\n",
        "    return max_index\n",
        "\n"
      ],
      "id": "keT6Xcep81r8"
    },
    {
      "cell_type": "code",
      "execution_count": null,
      "metadata": {
        "id": "OOnV2Q-E9rjy"
      },
      "outputs": [],
      "source": [
        "from tqdm import tqdm\n",
        "videos_folder = \"../Data/Sport_Videos/\"\n",
        "y_true = []\n",
        "y_pred_vgg = []\n",
        "paths = []\n",
        "\n",
        "video_list_dir =['BaseballPitch','Basketball','Fencing','TennisSwing','VolleyballSpiking']\n",
        "for ind,video_file in enumerate(video_list_dir):\n",
        "  video_paths = [os.path.join(videos_folder,video_file, file_name) for file_name in os.listdir(os.path.join(videos_folder,video_file))]\n",
        "\n",
        "  for path in tqdm(video_paths):\n",
        "      prediction = predict_video(path)\n",
        "      y_true.append(ind)\n",
        "      y_pred_vgg.append(prediction)\n",
        ""
      ],
      "id": "OOnV2Q-E9rjy"
    },
    {
      "cell_type": "code",
      "execution_count": null,
      "metadata": {
        "id": "pZsQkgao93SK"
      },
      "outputs": [],
      "source": [
        "from sklearn.metrics import confusion_matrix, ConfusionMatrixDisplay\n",
        "cm = confusion_matrix(y_true, y_pred_vgg)\n",
        "cm_display = ConfusionMatrixDisplay(cm)\n",
        "cm_display.plot()"
      ],
      "id": "pZsQkgao93SK"
    },
    {
      "cell_type": "code",
      "execution_count": null,
      "metadata": {
        "id": "wNK-4YrM99NS"
      },
      "outputs": [],
      "source": [
        "from sklearn.metrics import classification_report\n",
        "report = classification_report(y_true, y_pred_vgg)\n",
        "print(report)\n"
      ],
      "id": "wNK-4YrM99NS"
    },
    {
      "cell_type": "code",
      "execution_count": null,
      "metadata": {
        "id": "2bdyywfm-aot"
      },
      "outputs": [],
      "source": [
        "accuracy_vgg = (cm.diagonal().sum() / cm.sum()) * 100\n",
        "print('Accuracy is',accuracy_vgg)\n",
        "K.clear_session()"
      ],
      "id": "2bdyywfm-aot"
    },
    {
      "cell_type": "markdown",
      "metadata": {
        "id": "SwEqK2f9-skJ"
      },
      "source": [
        "#### **EfficientB0**"
      ],
      "id": "SwEqK2f9-skJ"
    },
    {
      "cell_type": "code",
      "execution_count": null,
      "metadata": {
        "id": "NyMJmBo--s-t"
      },
      "outputs": [],
      "source": [
        "NUM_FRAMES = 100\n",
        "average_probs = []\n",
        "def predict_video(video_path):\n",
        "    # Open the video and get its properties\n",
        "    video = cv2.VideoCapture (video_path)\n",
        "\n",
        "    fps = video.get (cv2.CAP_PROP_FPS)\n",
        "    num_frames_video = int(video.get(cv2.CAP_PROP_FRAME_COUNT))\n",
        "\n",
        "    # Determine the frames to extract\n",
        "    frame_idxs = np.linspace(0, num_frames_video-1, NUM_FRAMES, dtype=int)\n",
        "\n",
        "    # Create a list to store the probability vectors for each frame\n",
        "    frame_probs = []\n",
        "\n",
        "    # Loop over the frames to extract and apply the model\n",
        "    for cnt, frame_idx in enumerate(frame_idxs):\n",
        "      # Extract the frame\n",
        "      video.set(cv2.CAP_PROP_POS_FRAMES, frame_idx)\n",
        "      ret, frame = video.read()\n",
        "\n",
        "      if not ret:\n",
        "         continue\n",
        "\n",
        "      # Preprocessing the frame\n",
        "      frame = cv2.resize(frame, (224, 224))\n",
        "      frame = cv2.cvtColor (frame, cv2.COLOR_BGR2RGB)\n",
        "\n",
        "      # Apply the model and get the probability vector\n",
        "      probs = model_b0.predict(np.expand_dims(frame, axis=0),verbose=0)\n",
        "      frame_probs.append(probs)\n",
        "\n",
        "    average_prob = np.mean(frame_probs, axis=0)\n",
        "    # Store the average probability vector for the video\n",
        "    max_index = np.argmax(average_prob)\n",
        "    average_probs.append(max_index)\n",
        "\n",
        "\n",
        "    print(max_index)\n",
        "\n",
        "    return max_index\n",
        "\n"
      ],
      "id": "NyMJmBo--s-t"
    },
    {
      "cell_type": "code",
      "execution_count": null,
      "metadata": {
        "id": "A7jiRTx6-2GW"
      },
      "outputs": [],
      "source": [
        "from tqdm import tqdm\n",
        "videos_folder = \"../Data/Sport_Videos/\"\n",
        "y_true = []\n",
        "y_pred_b0 = []\n",
        "paths = []\n",
        "\n",
        "video_list_dir =['BaseballPitch','Basketball','Fencing','TennisSwing','VolleyballSpiking']\n",
        "for ind,video_file in enumerate(video_list_dir):\n",
        "  video_paths = [os.path.join(videos_folder,video_file, file_name) for file_name in os.listdir(os.path.join(videos_folder,video_file))]\n",
        "\n",
        "  for path in tqdm(video_paths):\n",
        "      prediction = predict_video(path)\n",
        "      y_true.append(ind)\n",
        "      y_pred_b0.append(prediction)\n",
        ""
      ],
      "id": "A7jiRTx6-2GW"
    },
    {
      "cell_type": "code",
      "execution_count": null,
      "metadata": {
        "id": "m6CphwZx-6vf"
      },
      "outputs": [],
      "source": [
        "from sklearn.metrics import confusion_matrix, ConfusionMatrixDisplay\n",
        "cm = confusion_matrix(y_true, y_pred_b0)\n",
        "cm_display = ConfusionMatrixDisplay(cm)\n",
        "cm_display.plot()"
      ],
      "id": "m6CphwZx-6vf"
    },
    {
      "cell_type": "code",
      "execution_count": null,
      "metadata": {
        "id": "HOiW5Hy8-83s"
      },
      "outputs": [],
      "source": [
        "from sklearn.metrics import classification_report\n",
        "report = classification_report(y_true, y_pred_b0)\n",
        "print(report)\n"
      ],
      "id": "HOiW5Hy8-83s"
    },
    {
      "cell_type": "code",
      "execution_count": null,
      "metadata": {
        "id": "ZcOPS_2y_ABz"
      },
      "outputs": [],
      "source": [
        "accuracy_vgg = (cm.diagonal().sum() / cm.sum()) * 100\n",
        "print('Accuracy is',accuracy_b0)"
      ],
      "id": "ZcOPS_2y_ABz"
    }
  ],
  "metadata": {
    "accelerator": "GPU",
    "colab": {
      "machine_shape": "hm",
      "provenance": [],
      "gpuType": "A100"
    },
    "gpuClass": "standard",
    "kernelspec": {
      "display_name": "Python 3 (ipykernel)",
      "language": "python",
      "name": "python3"
    },
    "language_info": {
      "codemirror_mode": {
        "name": "ipython",
        "version": 3
      },
      "file_extension": ".py",
      "mimetype": "text/x-python",
      "name": "python",
      "nbconvert_exporter": "python",
      "pygments_lexer": "ipython3",
      "version": "3.9.7"
    }
  },
  "nbformat": 4,
  "nbformat_minor": 5
}